{
 "cells": [
  {
   "cell_type": "code",
   "execution_count": 1,
   "metadata": {},
   "outputs": [],
   "source": [
    "import pandas as pd\n",
    "import seaborn as sns\n",
    "import matplotlib.pyplot as plt\n",
    "import re"
   ]
  },
  {
   "cell_type": "markdown",
   "metadata": {},
   "source": [
    "# PRE-PROCESSING"
   ]
  },
  {
   "cell_type": "code",
   "execution_count": 2,
   "metadata": {},
   "outputs": [
    {
     "data": {
      "text/html": [
       "<div>\n",
       "<style scoped>\n",
       "    .dataframe tbody tr th:only-of-type {\n",
       "        vertical-align: middle;\n",
       "    }\n",
       "\n",
       "    .dataframe tbody tr th {\n",
       "        vertical-align: top;\n",
       "    }\n",
       "\n",
       "    .dataframe thead th {\n",
       "        text-align: right;\n",
       "    }\n",
       "</style>\n",
       "<table border=\"1\" class=\"dataframe\">\n",
       "  <thead>\n",
       "    <tr style=\"text-align: right;\">\n",
       "      <th></th>\n",
       "      <th>overall</th>\n",
       "      <th>reviewText</th>\n",
       "      <th>description</th>\n",
       "      <th>brand</th>\n",
       "      <th>feature</th>\n",
       "      <th>price</th>\n",
       "      <th>asin</th>\n",
       "    </tr>\n",
       "  </thead>\n",
       "  <tbody>\n",
       "    <tr>\n",
       "      <th>0</th>\n",
       "      <td>1.0</td>\n",
       "      <td>I had been very happy with my Motorola phone u...</td>\n",
       "      <td>['used,good,with charger,one of the first in a...</td>\n",
       "      <td>Motorola</td>\n",
       "      <td>[\"The Motorola i730's advanced features, inclu...</td>\n",
       "      <td>NaN</td>\n",
       "      <td>B0000SX3BK</td>\n",
       "    </tr>\n",
       "    <tr>\n",
       "      <th>1</th>\n",
       "      <td>1.0</td>\n",
       "      <td>I had been very happy with my Motorola phone u...</td>\n",
       "      <td>['used,good,with charger,one of the first in a...</td>\n",
       "      <td>Motorola</td>\n",
       "      <td>[\"The Motorola i730's advanced features, inclu...</td>\n",
       "      <td>NaN</td>\n",
       "      <td>B0000SX3BK</td>\n",
       "    </tr>\n",
       "    <tr>\n",
       "      <th>2</th>\n",
       "      <td>3.0</td>\n",
       "      <td>I don't own this phone. I own the cheaper Moto...</td>\n",
       "      <td>['used,good,with charger,one of the first in a...</td>\n",
       "      <td>Motorola</td>\n",
       "      <td>[\"The Motorola i730's advanced features, inclu...</td>\n",
       "      <td>NaN</td>\n",
       "      <td>B0000SX3BK</td>\n",
       "    </tr>\n",
       "    <tr>\n",
       "      <th>3</th>\n",
       "      <td>3.0</td>\n",
       "      <td>I don't own this phone. I own the cheaper Moto...</td>\n",
       "      <td>['used,good,with charger,one of the first in a...</td>\n",
       "      <td>Motorola</td>\n",
       "      <td>[\"The Motorola i730's advanced features, inclu...</td>\n",
       "      <td>NaN</td>\n",
       "      <td>B0000SX3BK</td>\n",
       "    </tr>\n",
       "    <tr>\n",
       "      <th>4</th>\n",
       "      <td>4.0</td>\n",
       "      <td>Great phone by Motorola - leaps and bounds ove...</td>\n",
       "      <td>['used,good,with charger,one of the first in a...</td>\n",
       "      <td>Motorola</td>\n",
       "      <td>[\"The Motorola i730's advanced features, inclu...</td>\n",
       "      <td>NaN</td>\n",
       "      <td>B0000SX3BK</td>\n",
       "    </tr>\n",
       "  </tbody>\n",
       "</table>\n",
       "</div>"
      ],
      "text/plain": [
       "   overall                                         reviewText  \\\n",
       "0      1.0  I had been very happy with my Motorola phone u...   \n",
       "1      1.0  I had been very happy with my Motorola phone u...   \n",
       "2      3.0  I don't own this phone. I own the cheaper Moto...   \n",
       "3      3.0  I don't own this phone. I own the cheaper Moto...   \n",
       "4      4.0  Great phone by Motorola - leaps and bounds ove...   \n",
       "\n",
       "                                         description     brand  \\\n",
       "0  ['used,good,with charger,one of the first in a...  Motorola   \n",
       "1  ['used,good,with charger,one of the first in a...  Motorola   \n",
       "2  ['used,good,with charger,one of the first in a...  Motorola   \n",
       "3  ['used,good,with charger,one of the first in a...  Motorola   \n",
       "4  ['used,good,with charger,one of the first in a...  Motorola   \n",
       "\n",
       "                                             feature price        asin  \n",
       "0  [\"The Motorola i730's advanced features, inclu...   NaN  B0000SX3BK  \n",
       "1  [\"The Motorola i730's advanced features, inclu...   NaN  B0000SX3BK  \n",
       "2  [\"The Motorola i730's advanced features, inclu...   NaN  B0000SX3BK  \n",
       "3  [\"The Motorola i730's advanced features, inclu...   NaN  B0000SX3BK  \n",
       "4  [\"The Motorola i730's advanced features, inclu...   NaN  B0000SX3BK  "
      ]
     },
     "execution_count": 2,
     "metadata": {},
     "output_type": "execute_result"
    }
   ],
   "source": [
    "dataset = pd.read_csv('data/cell_phones_reviews.csv')\n",
    "dataset.head()"
   ]
  },
  {
   "cell_type": "markdown",
   "metadata": {},
   "source": [
    "ESPLORIAMO IL DATASET"
   ]
  },
  {
   "cell_type": "code",
   "execution_count": 3,
   "metadata": {},
   "outputs": [
    {
     "data": {
      "text/plain": [
       "(42170, 7)"
      ]
     },
     "execution_count": 3,
     "metadata": {},
     "output_type": "execute_result"
    }
   ],
   "source": [
    "dataset.shape"
   ]
  },
  {
   "cell_type": "code",
   "execution_count": 4,
   "metadata": {},
   "outputs": [
    {
     "name": "stdout",
     "output_type": "stream",
     "text": [
      "<class 'pandas.core.frame.DataFrame'>\n",
      "RangeIndex: 42170 entries, 0 to 42169\n",
      "Data columns (total 7 columns):\n",
      " #   Column       Non-Null Count  Dtype  \n",
      "---  ------       --------------  -----  \n",
      " 0   overall      42170 non-null  float64\n",
      " 1   reviewText   42143 non-null  object \n",
      " 2   description  42170 non-null  object \n",
      " 3   brand        42170 non-null  object \n",
      " 4   feature      42170 non-null  object \n",
      " 5   price        17688 non-null  object \n",
      " 6   asin         42170 non-null  object \n",
      "dtypes: float64(1), object(6)\n",
      "memory usage: 2.3+ MB\n"
     ]
    }
   ],
   "source": [
    "dataset.info()"
   ]
  },
  {
   "cell_type": "code",
   "execution_count": 5,
   "metadata": {},
   "outputs": [
    {
     "data": {
      "text/plain": [
       "overall            0\n",
       "reviewText        27\n",
       "description        0\n",
       "brand              0\n",
       "feature            0\n",
       "price          24482\n",
       "asin               0\n",
       "dtype: int64"
      ]
     },
     "execution_count": 5,
     "metadata": {},
     "output_type": "execute_result"
    }
   ],
   "source": [
    "dataset.isnull().sum()"
   ]
  },
  {
   "cell_type": "markdown",
   "metadata": {},
   "source": [
    "Rimozione righe con valori null per prezzo e reviewText"
   ]
  },
  {
   "cell_type": "code",
   "execution_count": 6,
   "metadata": {},
   "outputs": [],
   "source": [
    "dataset.dropna(subset=['price', 'reviewText'], inplace=True)"
   ]
  },
  {
   "cell_type": "code",
   "execution_count": 7,
   "metadata": {},
   "outputs": [],
   "source": [
    "# regex per il formato corretto dei prezzi\n",
    "regex = re.compile(r'^\\$\\d+\\.\\d+$')\n",
    "\n",
    "# Filtriamo i dati applicando la regex alla colonna 'price'\n",
    "dataset = dataset[dataset['price'].apply(lambda x: bool(regex.match(x)))]"
   ]
  },
  {
   "cell_type": "code",
   "execution_count": 8,
   "metadata": {},
   "outputs": [
    {
     "data": {
      "text/html": [
       "<div>\n",
       "<style scoped>\n",
       "    .dataframe tbody tr th:only-of-type {\n",
       "        vertical-align: middle;\n",
       "    }\n",
       "\n",
       "    .dataframe tbody tr th {\n",
       "        vertical-align: top;\n",
       "    }\n",
       "\n",
       "    .dataframe thead th {\n",
       "        text-align: right;\n",
       "    }\n",
       "</style>\n",
       "<table border=\"1\" class=\"dataframe\">\n",
       "  <thead>\n",
       "    <tr style=\"text-align: right;\">\n",
       "      <th></th>\n",
       "      <th>overall</th>\n",
       "      <th>reviewText</th>\n",
       "      <th>description</th>\n",
       "      <th>brand</th>\n",
       "      <th>feature</th>\n",
       "      <th>price</th>\n",
       "      <th>asin</th>\n",
       "    </tr>\n",
       "  </thead>\n",
       "  <tbody>\n",
       "    <tr>\n",
       "      <th>0</th>\n",
       "      <td>5.0</td>\n",
       "      <td>I have read a lot of the reviews and spoken to...</td>\n",
       "      <td>['Like new in box great looking phone get it b...</td>\n",
       "      <td>Motorola</td>\n",
       "      <td>[]</td>\n",
       "      <td>$17.99</td>\n",
       "      <td>B000FYU4SO</td>\n",
       "    </tr>\n",
       "    <tr>\n",
       "      <th>1</th>\n",
       "      <td>4.0</td>\n",
       "      <td>Or maybe not.  The good news is that for less ...</td>\n",
       "      <td>['Like new in box great looking phone get it b...</td>\n",
       "      <td>Motorola</td>\n",
       "      <td>[]</td>\n",
       "      <td>$17.99</td>\n",
       "      <td>B000FYU4SO</td>\n",
       "    </tr>\n",
       "    <tr>\n",
       "      <th>2</th>\n",
       "      <td>4.0</td>\n",
       "      <td>Having previously owned the LG VX9800 (one of ...</td>\n",
       "      <td>['Like new in box great looking phone get it b...</td>\n",
       "      <td>Motorola</td>\n",
       "      <td>[]</td>\n",
       "      <td>$17.99</td>\n",
       "      <td>B000FYU4SO</td>\n",
       "    </tr>\n",
       "    <tr>\n",
       "      <th>3</th>\n",
       "      <td>3.0</td>\n",
       "      <td>3.5 stars.  I was very excited about the launc...</td>\n",
       "      <td>['Like new in box great looking phone get it b...</td>\n",
       "      <td>Motorola</td>\n",
       "      <td>[]</td>\n",
       "      <td>$17.99</td>\n",
       "      <td>B000FYU4SO</td>\n",
       "    </tr>\n",
       "    <tr>\n",
       "      <th>4</th>\n",
       "      <td>1.0</td>\n",
       "      <td>I want to warn IT professionals that Verizon W...</td>\n",
       "      <td>['Like new in box great looking phone get it b...</td>\n",
       "      <td>Motorola</td>\n",
       "      <td>[]</td>\n",
       "      <td>$17.99</td>\n",
       "      <td>B000FYU4SO</td>\n",
       "    </tr>\n",
       "  </tbody>\n",
       "</table>\n",
       "</div>"
      ],
      "text/plain": [
       "   overall                                         reviewText  \\\n",
       "0      5.0  I have read a lot of the reviews and spoken to...   \n",
       "1      4.0  Or maybe not.  The good news is that for less ...   \n",
       "2      4.0  Having previously owned the LG VX9800 (one of ...   \n",
       "3      3.0  3.5 stars.  I was very excited about the launc...   \n",
       "4      1.0  I want to warn IT professionals that Verizon W...   \n",
       "\n",
       "                                         description     brand feature  \\\n",
       "0  ['Like new in box great looking phone get it b...  Motorola      []   \n",
       "1  ['Like new in box great looking phone get it b...  Motorola      []   \n",
       "2  ['Like new in box great looking phone get it b...  Motorola      []   \n",
       "3  ['Like new in box great looking phone get it b...  Motorola      []   \n",
       "4  ['Like new in box great looking phone get it b...  Motorola      []   \n",
       "\n",
       "    price        asin  \n",
       "0  $17.99  B000FYU4SO  \n",
       "1  $17.99  B000FYU4SO  \n",
       "2  $17.99  B000FYU4SO  \n",
       "3  $17.99  B000FYU4SO  \n",
       "4  $17.99  B000FYU4SO  "
      ]
     },
     "execution_count": 8,
     "metadata": {},
     "output_type": "execute_result"
    }
   ],
   "source": [
    "dataset.reset_index(drop=True, inplace=True)\n",
    "dataset.head()"
   ]
  },
  {
   "cell_type": "code",
   "execution_count": 9,
   "metadata": {},
   "outputs": [],
   "source": [
    "# Rimuoviamo il simbolo del dollaro dalla colonna 'prezzi'\n",
    "dataset['price'] = dataset['price'].str.replace('$', '', regex=False).astype(float)"
   ]
  },
  {
   "cell_type": "code",
   "execution_count": 10,
   "metadata": {},
   "outputs": [
    {
     "name": "stdout",
     "output_type": "stream",
     "text": [
      "(17568, 7)\n"
     ]
    },
    {
     "data": {
      "text/plain": [
       "overall        0\n",
       "reviewText     0\n",
       "description    0\n",
       "brand          0\n",
       "feature        0\n",
       "price          0\n",
       "asin           0\n",
       "dtype: int64"
      ]
     },
     "execution_count": 10,
     "metadata": {},
     "output_type": "execute_result"
    }
   ],
   "source": [
    "print(dataset.shape)\n",
    "dataset.isnull().sum()"
   ]
  },
  {
   "cell_type": "markdown",
   "metadata": {},
   "source": [
    "Quanti cellulari diversi sono rimasti dopo aver rimosso le reviews "
   ]
  },
  {
   "cell_type": "code",
   "execution_count": 11,
   "metadata": {},
   "outputs": [
    {
     "data": {
      "text/plain": [
       "438"
      ]
     },
     "execution_count": 11,
     "metadata": {},
     "output_type": "execute_result"
    }
   ],
   "source": [
    "len(dataset['asin'].unique())"
   ]
  },
  {
   "cell_type": "markdown",
   "metadata": {},
   "source": [
    "Quali sono i brand di cellulari con più reviews, in seguito alla rimozione"
   ]
  },
  {
   "cell_type": "code",
   "execution_count": 12,
   "metadata": {},
   "outputs": [
    {
     "data": {
      "image/png": "[encoded data removed]",
      "text/plain": [
       "<Figure size 800x600 with 1 Axes>"
      ]
     },
     "metadata": {},
     "output_type": "display_data"
    }
   ],
   "source": [
    "cell_phones_brand_counts = dataset['brand'].value_counts().reset_index()\n",
    "cell_phones_brand_counts.columns = ['brand', 'count'] \n",
    "# Plot using Seaborn\n",
    "plt.figure(figsize=(8, 6))\n",
    "sns.barplot(x = cell_phones_brand_counts['count'], y = cell_phones_brand_counts['brand'], orient='h')\n",
    "plt.title('top 10 brand')\n",
    "plt.xlabel('Count')\n",
    "plt.ylabel('Brand')\n",
    "plt.show()"
   ]
  },
  {
   "cell_type": "markdown",
   "metadata": {},
   "source": [
    "Data Preprocessing"
   ]
  },
  {
   "cell_type": "code",
   "execution_count": 13,
   "metadata": {},
   "outputs": [
    {
     "name": "stderr",
     "output_type": "stream",
     "text": [
      "[nltk_data] Downloading package punkt to\n",
      "[nltk_data]     C:\\Users\\Utente\\AppData\\Roaming\\nltk_data...\n",
      "[nltk_data]   Package punkt is already up-to-date!\n",
      "[nltk_data] Downloading package wordnet to\n",
      "[nltk_data]     C:\\Users\\Utente\\AppData\\Roaming\\nltk_data...\n",
      "[nltk_data]   Package wordnet is already up-to-date!\n",
      "[nltk_data] Downloading package stopwords to\n",
      "[nltk_data]     C:\\Users\\Utente\\AppData\\Roaming\\nltk_data...\n",
      "[nltk_data]   Package stopwords is already up-to-date!\n",
      "[nltk_data] Downloading package averaged_perceptron_tagger to\n",
      "[nltk_data]     C:\\Users\\Utente\\AppData\\Roaming\\nltk_data...\n",
      "[nltk_data]   Package averaged_perceptron_tagger is already up-to-\n",
      "[nltk_data]       date!\n",
      "[nltk_data] Downloading package tagsets to\n",
      "[nltk_data]     C:\\Users\\Utente\\AppData\\Roaming\\nltk_data...\n",
      "[nltk_data]   Package tagsets is already up-to-date!\n",
      "[nltk_data] Downloading package universal_tagset to\n",
      "[nltk_data]     C:\\Users\\Utente\\AppData\\Roaming\\nltk_data...\n",
      "[nltk_data]   Package universal_tagset is already up-to-date!\n"
     ]
    },
    {
     "data": {
      "text/plain": [
       "True"
      ]
     },
     "execution_count": 13,
     "metadata": {},
     "output_type": "execute_result"
    }
   ],
   "source": [
    "import nltk\n",
    "nltk.download('punkt')\n",
    "nltk.download('wordnet')\n",
    "nltk.download('stopwords')\n",
    "nltk.download('averaged_perceptron_tagger')\n",
    "nltk.download('tagsets')\n",
    "nltk.download('universal_tagset')"
   ]
  },
  {
   "cell_type": "code",
   "execution_count": 14,
   "metadata": {},
   "outputs": [],
   "source": [
    "from nltk.corpus import stopwords\n",
    "stop_words = stopwords.words('english')"
   ]
  },
  {
   "cell_type": "code",
   "execution_count": 15,
   "metadata": {},
   "outputs": [],
   "source": [
    "from nltk.stem import WordNetLemmatizer\n",
    "lemmatizer = WordNetLemmatizer()"
   ]
  },
  {
   "cell_type": "code",
   "execution_count": 16,
   "metadata": {},
   "outputs": [],
   "source": [
    "from tqdm import tqdm\n",
    "from afinn import Afinn\n",
    "\n",
    "afinn = Afinn()\n",
    "def preprocess(df, column):\n",
    "    preprocessed_column = []\n",
    "    # Initialize the AFINN lexicon\n",
    "    for row in tqdm(df[column], total = len(df[column])):\n",
    "        afinn_scores = []\n",
    "        text_cleaned = re.sub(r'[^\\w\\s]', '', row) #cleaning\n",
    "        words = nltk.word_tokenize(text_cleaned) #tokenization\n",
    "        preprocessed_words = [lemmatizer.lemmatize(w.lower()) for w in words if not w in stop_words] #stopwords removal and lemmatization\n",
    "        tagged_words = nltk.pos_tag(preprocessed_words, tagset='universal') #POS-tagging\n",
    "        #afinn scores\n",
    "        for word, tag in tagged_words:\n",
    "            score = afinn.score(word)\n",
    "            afinn_scores.append((word, tag, score))\n",
    "        preprocessed_column.append(afinn_scores)\n",
    "\n",
    "    return preprocessed_column"
   ]
  },
  {
   "cell_type": "code",
   "execution_count": 17,
   "metadata": {},
   "outputs": [
    {
     "name": "stderr",
     "output_type": "stream",
     "text": [
      "100%|███████████████████████████████████████████████████████████████████████████| 17568/17568 [02:43<00:00, 107.34it/s]\n"
     ]
    }
   ],
   "source": [
    "dataset['preprocessedReviewText'] = preprocess(dataset, 'reviewText')"
   ]
  },
  {
   "cell_type": "code",
   "execution_count": 18,
   "metadata": {},
   "outputs": [
    {
     "data": {
      "text/html": [
       "<div>\n",
       "<style scoped>\n",
       "    .dataframe tbody tr th:only-of-type {\n",
       "        vertical-align: middle;\n",
       "    }\n",
       "\n",
       "    .dataframe tbody tr th {\n",
       "        vertical-align: top;\n",
       "    }\n",
       "\n",
       "    .dataframe thead th {\n",
       "        text-align: right;\n",
       "    }\n",
       "</style>\n",
       "<table border=\"1\" class=\"dataframe\">\n",
       "  <thead>\n",
       "    <tr style=\"text-align: right;\">\n",
       "      <th></th>\n",
       "      <th>overall</th>\n",
       "      <th>reviewText</th>\n",
       "      <th>description</th>\n",
       "      <th>brand</th>\n",
       "      <th>feature</th>\n",
       "      <th>price</th>\n",
       "      <th>asin</th>\n",
       "      <th>preprocessedReviewText</th>\n",
       "    </tr>\n",
       "  </thead>\n",
       "  <tbody>\n",
       "    <tr>\n",
       "      <th>0</th>\n",
       "      <td>5.0</td>\n",
       "      <td>I have read a lot of the reviews and spoken to...</td>\n",
       "      <td>['Like new in box great looking phone get it b...</td>\n",
       "      <td>Motorola</td>\n",
       "      <td>[]</td>\n",
       "      <td>17.99</td>\n",
       "      <td>B000FYU4SO</td>\n",
       "      <td>[(i, NOUN, 0.0), (read, VERB, 0.0), (lot, NOUN...</td>\n",
       "    </tr>\n",
       "    <tr>\n",
       "      <th>1</th>\n",
       "      <td>4.0</td>\n",
       "      <td>Or maybe not.  The good news is that for less ...</td>\n",
       "      <td>['Like new in box great looking phone get it b...</td>\n",
       "      <td>Motorola</td>\n",
       "      <td>[]</td>\n",
       "      <td>17.99</td>\n",
       "      <td>B000FYU4SO</td>\n",
       "      <td>[(or, CONJ, 0.0), (maybe, ADV, 0.0), (the, DET...</td>\n",
       "    </tr>\n",
       "    <tr>\n",
       "      <th>2</th>\n",
       "      <td>4.0</td>\n",
       "      <td>Having previously owned the LG VX9800 (one of ...</td>\n",
       "      <td>['Like new in box great looking phone get it b...</td>\n",
       "      <td>Motorola</td>\n",
       "      <td>[]</td>\n",
       "      <td>17.99</td>\n",
       "      <td>B000FYU4SO</td>\n",
       "      <td>[(having, VERB, 0.0), (previously, ADV, 0.0), ...</td>\n",
       "    </tr>\n",
       "    <tr>\n",
       "      <th>3</th>\n",
       "      <td>3.0</td>\n",
       "      <td>3.5 stars.  I was very excited about the launc...</td>\n",
       "      <td>['Like new in box great looking phone get it b...</td>\n",
       "      <td>Motorola</td>\n",
       "      <td>[]</td>\n",
       "      <td>17.99</td>\n",
       "      <td>B000FYU4SO</td>\n",
       "      <td>[(35, NUM, 0.0), (star, NOUN, 0.0), (i, NOUN, ...</td>\n",
       "    </tr>\n",
       "    <tr>\n",
       "      <th>4</th>\n",
       "      <td>1.0</td>\n",
       "      <td>I want to warn IT professionals that Verizon W...</td>\n",
       "      <td>['Like new in box great looking phone get it b...</td>\n",
       "      <td>Motorola</td>\n",
       "      <td>[]</td>\n",
       "      <td>17.99</td>\n",
       "      <td>B000FYU4SO</td>\n",
       "      <td>[(i, NOUN, 0.0), (want, VERB, 1.0), (warn, ADP...</td>\n",
       "    </tr>\n",
       "  </tbody>\n",
       "</table>\n",
       "</div>"
      ],
      "text/plain": [
       "   overall                                         reviewText  \\\n",
       "0      5.0  I have read a lot of the reviews and spoken to...   \n",
       "1      4.0  Or maybe not.  The good news is that for less ...   \n",
       "2      4.0  Having previously owned the LG VX9800 (one of ...   \n",
       "3      3.0  3.5 stars.  I was very excited about the launc...   \n",
       "4      1.0  I want to warn IT professionals that Verizon W...   \n",
       "\n",
       "                                         description     brand feature  price  \\\n",
       "0  ['Like new in box great looking phone get it b...  Motorola      []  17.99   \n",
       "1  ['Like new in box great looking phone get it b...  Motorola      []  17.99   \n",
       "2  ['Like new in box great looking phone get it b...  Motorola      []  17.99   \n",
       "3  ['Like new in box great looking phone get it b...  Motorola      []  17.99   \n",
       "4  ['Like new in box great looking phone get it b...  Motorola      []  17.99   \n",
       "\n",
       "         asin                             preprocessedReviewText  \n",
       "0  B000FYU4SO  [(i, NOUN, 0.0), (read, VERB, 0.0), (lot, NOUN...  \n",
       "1  B000FYU4SO  [(or, CONJ, 0.0), (maybe, ADV, 0.0), (the, DET...  \n",
       "2  B000FYU4SO  [(having, VERB, 0.0), (previously, ADV, 0.0), ...  \n",
       "3  B000FYU4SO  [(35, NUM, 0.0), (star, NOUN, 0.0), (i, NOUN, ...  \n",
       "4  B000FYU4SO  [(i, NOUN, 0.0), (want, VERB, 1.0), (warn, ADP...  "
      ]
     },
     "execution_count": 18,
     "metadata": {},
     "output_type": "execute_result"
    }
   ],
   "source": [
    "dataset.head()"
   ]
  },
  {
   "cell_type": "code",
   "execution_count": 21,
   "metadata": {},
   "outputs": [
    {
     "data": {
      "text/plain": [
       "'Excellent! Great seller, great product as new. 10000% recommend this seller.'"
      ]
     },
     "execution_count": 21,
     "metadata": {},
     "output_type": "execute_result"
    }
   ],
   "source": [
    "dataset['reviewText'].iloc[1000]"
   ]
  },
  {
   "cell_type": "code",
   "execution_count": 20,
   "metadata": {},
   "outputs": [],
   "source": [
    "dataset.drop(columns=['feature'], inplace=True)"
   ]
  },
  {
   "cell_type": "code",
   "execution_count": 24,
   "metadata": {},
   "outputs": [],
   "source": [
    "dataset.to_csv('data/preprocessed_dataset.csv', index=False, sep=';')"
   ]
  }
 ],
 "metadata": {
  "kernelspec": {
   "display_name": "Python 3 (ipykernel)",
   "language": "python",
   "name": "python3"
  },
  "language_info": {
   "codemirror_mode": {
    "name": "ipython",
    "version": 3
   },
   "file_extension": ".py",
   "mimetype": "text/x-python",
   "name": "python",
   "nbconvert_exporter": "python",
   "pygments_lexer": "ipython3",
   "version": "3.9.19"
  }
 },
 "nbformat": 4,
 "nbformat_minor": 4
}
