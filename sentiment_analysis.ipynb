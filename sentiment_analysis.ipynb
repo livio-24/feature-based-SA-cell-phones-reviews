{
 "cells": [
  {
   "cell_type": "code",
   "execution_count": 84,
   "id": "6afd9ff7-77a6-48fc-b25d-67910fc3f93f",
   "metadata": {},
   "outputs": [],
   "source": [
    "import pandas as pd\n",
    "import re\n",
    "import matplotlib.pyplot as plt\n",
    "import plotly.graph_objects as go\n",
    "import numpy as np"
   ]
  },
  {
   "cell_type": "code",
   "execution_count": 85,
   "id": "336f38d4-2062-46a8-9103-bac19c6ef791",
   "metadata": {},
   "outputs": [],
   "source": [
    "dataset = pd.read_csv('data/preprocessed_dataset.csv', sep=';')"
   ]
  },
  {
   "cell_type": "code",
   "execution_count": null,
   "id": "7307dd64-657d-4d03-bbb8-66dbd113947e",
   "metadata": {},
   "outputs": [],
   "source": []
  },
  {
   "cell_type": "code",
   "execution_count": 86,
   "id": "af78b0f2-6df9-4d61-8f48-9025b4a4767f",
   "metadata": {},
   "outputs": [
    {
     "data": {
      "text/html": [
       "<div>\n",
       "<style scoped>\n",
       "    .dataframe tbody tr th:only-of-type {\n",
       "        vertical-align: middle;\n",
       "    }\n",
       "\n",
       "    .dataframe tbody tr th {\n",
       "        vertical-align: top;\n",
       "    }\n",
       "\n",
       "    .dataframe thead th {\n",
       "        text-align: right;\n",
       "    }\n",
       "</style>\n",
       "<table border=\"1\" class=\"dataframe\">\n",
       "  <thead>\n",
       "    <tr style=\"text-align: right;\">\n",
       "      <th></th>\n",
       "      <th>overall</th>\n",
       "      <th>reviewText</th>\n",
       "      <th>description</th>\n",
       "      <th>brand</th>\n",
       "      <th>feature</th>\n",
       "      <th>price</th>\n",
       "      <th>asin</th>\n",
       "      <th>preprocessedText</th>\n",
       "      <th>tagged_text</th>\n",
       "    </tr>\n",
       "  </thead>\n",
       "  <tbody>\n",
       "    <tr>\n",
       "      <th>0</th>\n",
       "      <td>5.0</td>\n",
       "      <td>I have read a lot of the reviews and spoken to...</td>\n",
       "      <td>['Like new in box great looking phone get it b...</td>\n",
       "      <td>Motorola</td>\n",
       "      <td>[]</td>\n",
       "      <td>17.99</td>\n",
       "      <td>B000FYU4SO</td>\n",
       "      <td>i read lot review spoken number current owner ...</td>\n",
       "      <td>[('i', 'NOUN', 0.0), ('read', 'VERB', 0.0), ('...</td>\n",
       "    </tr>\n",
       "    <tr>\n",
       "      <th>1</th>\n",
       "      <td>4.0</td>\n",
       "      <td>Or maybe not.  The good news is that for less ...</td>\n",
       "      <td>['Like new in box great looking phone get it b...</td>\n",
       "      <td>Motorola</td>\n",
       "      <td>[]</td>\n",
       "      <td>17.99</td>\n",
       "      <td>B000FYU4SO</td>\n",
       "      <td>or maybe the good news le 200 100 signing new ...</td>\n",
       "      <td>[('or', 'CONJ', 0.0), ('maybe', 'ADV', 0.0), (...</td>\n",
       "    </tr>\n",
       "    <tr>\n",
       "      <th>2</th>\n",
       "      <td>4.0</td>\n",
       "      <td>Having previously owned the LG VX9800 (one of ...</td>\n",
       "      <td>['Like new in box great looking phone get it b...</td>\n",
       "      <td>Motorola</td>\n",
       "      <td>[]</td>\n",
       "      <td>17.99</td>\n",
       "      <td>B000FYU4SO</td>\n",
       "      <td>having previously owned lg vx9800 one best pho...</td>\n",
       "      <td>[('having', 'VERB', 0.0), ('previously', 'ADV'...</td>\n",
       "    </tr>\n",
       "    <tr>\n",
       "      <th>3</th>\n",
       "      <td>3.0</td>\n",
       "      <td>3.5 stars.  I was very excited about the launc...</td>\n",
       "      <td>['Like new in box great looking phone get it b...</td>\n",
       "      <td>Motorola</td>\n",
       "      <td>[]</td>\n",
       "      <td>17.99</td>\n",
       "      <td>B000FYU4SO</td>\n",
       "      <td>35 star i excited launch motorola q since i co...</td>\n",
       "      <td>[('35', 'NUM', 0.0), ('star', 'NOUN', 0.0), ('...</td>\n",
       "    </tr>\n",
       "    <tr>\n",
       "      <th>4</th>\n",
       "      <td>1.0</td>\n",
       "      <td>I want to warn IT professionals that Verizon W...</td>\n",
       "      <td>['Like new in box great looking phone get it b...</td>\n",
       "      <td>Motorola</td>\n",
       "      <td>[]</td>\n",
       "      <td>17.99</td>\n",
       "      <td>B000FYU4SO</td>\n",
       "      <td>i want warn it professional verizon wireless p...</td>\n",
       "      <td>[('i', 'NOUN', 0.0), ('want', 'VERB', 1.0), ('...</td>\n",
       "    </tr>\n",
       "    <tr>\n",
       "      <th>...</th>\n",
       "      <td>...</td>\n",
       "      <td>...</td>\n",
       "      <td>...</td>\n",
       "      <td>...</td>\n",
       "      <td>...</td>\n",
       "      <td>...</td>\n",
       "      <td>...</td>\n",
       "      <td>...</td>\n",
       "      <td>...</td>\n",
       "    </tr>\n",
       "    <tr>\n",
       "      <th>9661</th>\n",
       "      <td>1.0</td>\n",
       "      <td>No instructions.  Makes me question if is real...</td>\n",
       "      <td>['', \"The Samsung Galaxy S7 is more than a sma...</td>\n",
       "      <td>Samsung</td>\n",
       "      <td>['Built-in, defense-grade mobile security with...</td>\n",
       "      <td>89.32</td>\n",
       "      <td>B01FIW1B9S</td>\n",
       "      <td>no instruction make question really new cellph...</td>\n",
       "      <td>[('no', 'DET', -1.0), ('instruction', 'NOUN', ...</td>\n",
       "    </tr>\n",
       "    <tr>\n",
       "      <th>9662</th>\n",
       "      <td>5.0</td>\n",
       "      <td>Finally using the phone.  Works great and was ...</td>\n",
       "      <td>['Check email, view texts, and browse the Web ...</td>\n",
       "      <td>Samsung</td>\n",
       "      <td>['DOES THIS DEVICE NEED A SIM CARD: Yes it doe...</td>\n",
       "      <td>114.99</td>\n",
       "      <td>B01GBYWMO0</td>\n",
       "      <td>finally using phone work great easy transfer a...</td>\n",
       "      <td>[('finally', 'ADV', 0.0), ('using', 'VERB', 0....</td>\n",
       "    </tr>\n",
       "    <tr>\n",
       "      <th>9663</th>\n",
       "      <td>4.0</td>\n",
       "      <td>does funny things rarely . like FB will just r...</td>\n",
       "      <td>['The energy XL is a stunning smartphone that ...</td>\n",
       "      <td>BLU</td>\n",
       "      <td>['Super 5,000mAh Massive Battery. OTG capabili...</td>\n",
       "      <td>224.96</td>\n",
       "      <td>B01GWUXN5K</td>\n",
       "      <td>funny thing rarely like fb reboot phone o stab...</td>\n",
       "      <td>[('funny', 'ADJ', 4.0), ('thing', 'NOUN', 0.0)...</td>\n",
       "    </tr>\n",
       "    <tr>\n",
       "      <th>9664</th>\n",
       "      <td>1.0</td>\n",
       "      <td>This phone is no good!! Keeps freezing up. Eve...</td>\n",
       "      <td>['iPhone with iOS 9; Lightning to USB Cable; U...</td>\n",
       "      <td>Apple</td>\n",
       "      <td>['Renewed products look and work like new. The...</td>\n",
       "      <td>40.08</td>\n",
       "      <td>B01GXAT0BK</td>\n",
       "      <td>this phone good keep freezing even touching po...</td>\n",
       "      <td>[('this', 'DET', 0.0), ('phone', 'NOUN', 0.0),...</td>\n",
       "    </tr>\n",
       "    <tr>\n",
       "      <th>9665</th>\n",
       "      <td>5.0</td>\n",
       "      <td>Work fantastic. I haven't had any issues with ...</td>\n",
       "      <td>[\"The Samsung Galaxy S7 active Smartphone runs...</td>\n",
       "      <td>Samsung</td>\n",
       "      <td>['5.1 inch Super AMOLED capacitive touchscreen...</td>\n",
       "      <td>96.64</td>\n",
       "      <td>B01H93TCCM</td>\n",
       "      <td>work fantastic i havent issue since i received...</td>\n",
       "      <td>[('work', 'NOUN', 0.0), ('fantastic', 'ADJ', 4...</td>\n",
       "    </tr>\n",
       "  </tbody>\n",
       "</table>\n",
       "<p>9666 rows × 9 columns</p>\n",
       "</div>"
      ],
      "text/plain": [
       "      overall                                         reviewText  \\\n",
       "0         5.0  I have read a lot of the reviews and spoken to...   \n",
       "1         4.0  Or maybe not.  The good news is that for less ...   \n",
       "2         4.0  Having previously owned the LG VX9800 (one of ...   \n",
       "3         3.0  3.5 stars.  I was very excited about the launc...   \n",
       "4         1.0  I want to warn IT professionals that Verizon W...   \n",
       "...       ...                                                ...   \n",
       "9661      1.0  No instructions.  Makes me question if is real...   \n",
       "9662      5.0  Finally using the phone.  Works great and was ...   \n",
       "9663      4.0  does funny things rarely . like FB will just r...   \n",
       "9664      1.0  This phone is no good!! Keeps freezing up. Eve...   \n",
       "9665      5.0  Work fantastic. I haven't had any issues with ...   \n",
       "\n",
       "                                            description     brand  \\\n",
       "0     ['Like new in box great looking phone get it b...  Motorola   \n",
       "1     ['Like new in box great looking phone get it b...  Motorola   \n",
       "2     ['Like new in box great looking phone get it b...  Motorola   \n",
       "3     ['Like new in box great looking phone get it b...  Motorola   \n",
       "4     ['Like new in box great looking phone get it b...  Motorola   \n",
       "...                                                 ...       ...   \n",
       "9661  ['', \"The Samsung Galaxy S7 is more than a sma...   Samsung   \n",
       "9662  ['Check email, view texts, and browse the Web ...   Samsung   \n",
       "9663  ['The energy XL is a stunning smartphone that ...       BLU   \n",
       "9664  ['iPhone with iOS 9; Lightning to USB Cable; U...     Apple   \n",
       "9665  [\"The Samsung Galaxy S7 active Smartphone runs...   Samsung   \n",
       "\n",
       "                                                feature   price        asin  \\\n",
       "0                                                    []   17.99  B000FYU4SO   \n",
       "1                                                    []   17.99  B000FYU4SO   \n",
       "2                                                    []   17.99  B000FYU4SO   \n",
       "3                                                    []   17.99  B000FYU4SO   \n",
       "4                                                    []   17.99  B000FYU4SO   \n",
       "...                                                 ...     ...         ...   \n",
       "9661  ['Built-in, defense-grade mobile security with...   89.32  B01FIW1B9S   \n",
       "9662  ['DOES THIS DEVICE NEED A SIM CARD: Yes it doe...  114.99  B01GBYWMO0   \n",
       "9663  ['Super 5,000mAh Massive Battery. OTG capabili...  224.96  B01GWUXN5K   \n",
       "9664  ['Renewed products look and work like new. The...   40.08  B01GXAT0BK   \n",
       "9665  ['5.1 inch Super AMOLED capacitive touchscreen...   96.64  B01H93TCCM   \n",
       "\n",
       "                                       preprocessedText  \\\n",
       "0     i read lot review spoken number current owner ...   \n",
       "1     or maybe the good news le 200 100 signing new ...   \n",
       "2     having previously owned lg vx9800 one best pho...   \n",
       "3     35 star i excited launch motorola q since i co...   \n",
       "4     i want warn it professional verizon wireless p...   \n",
       "...                                                 ...   \n",
       "9661  no instruction make question really new cellph...   \n",
       "9662  finally using phone work great easy transfer a...   \n",
       "9663  funny thing rarely like fb reboot phone o stab...   \n",
       "9664  this phone good keep freezing even touching po...   \n",
       "9665  work fantastic i havent issue since i received...   \n",
       "\n",
       "                                            tagged_text  \n",
       "0     [('i', 'NOUN', 0.0), ('read', 'VERB', 0.0), ('...  \n",
       "1     [('or', 'CONJ', 0.0), ('maybe', 'ADV', 0.0), (...  \n",
       "2     [('having', 'VERB', 0.0), ('previously', 'ADV'...  \n",
       "3     [('35', 'NUM', 0.0), ('star', 'NOUN', 0.0), ('...  \n",
       "4     [('i', 'NOUN', 0.0), ('want', 'VERB', 1.0), ('...  \n",
       "...                                                 ...  \n",
       "9661  [('no', 'DET', -1.0), ('instruction', 'NOUN', ...  \n",
       "9662  [('finally', 'ADV', 0.0), ('using', 'VERB', 0....  \n",
       "9663  [('funny', 'ADJ', 4.0), ('thing', 'NOUN', 0.0)...  \n",
       "9664  [('this', 'DET', 0.0), ('phone', 'NOUN', 0.0),...  \n",
       "9665  [('work', 'NOUN', 0.0), ('fantastic', 'ADJ', 4...  \n",
       "\n",
       "[9666 rows x 9 columns]"
      ]
     },
     "execution_count": 86,
     "metadata": {},
     "output_type": "execute_result"
    }
   ],
   "source": [
    "dataset"
   ]
  },
  {
   "cell_type": "code",
   "execution_count": 87,
   "id": "09e3e580-d0ed-4335-8110-2e77b271662f",
   "metadata": {},
   "outputs": [],
   "source": [
    "def calculate_review_sentiment_score(x):\n",
    "    tot = 0\n",
    "    card = 0\n",
    "    for word, _, score in x:\n",
    "        if score != 0:\n",
    "            tot += score\n",
    "            card += 1\n",
    "    \n",
    "    return tot/card if card != 0 else 0    "
   ]
  },
  {
   "cell_type": "code",
   "execution_count": 88,
   "id": "19bd7a9e-d6f1-4ad9-81be-70358e4108e5",
   "metadata": {},
   "outputs": [],
   "source": [
    "from ast import literal_eval\n",
    "dataset['tagged_text'] = dataset['tagged_text'].apply(literal_eval)"
   ]
  },
  {
   "cell_type": "code",
   "execution_count": 89,
   "id": "79ebba91-e03f-43be-870c-521bb610c54f",
   "metadata": {},
   "outputs": [],
   "source": [
    "dataset['RSS'] = dataset['tagged_text'].apply(calculate_review_sentiment_score)"
   ]
  },
  {
   "cell_type": "markdown",
   "id": "9209ea0f-b00f-4be8-9057-b41e14c19c4b",
   "metadata": {},
   "source": [
    "I ratings sono da 1 a 5, mentre i sentiment scores da -5 a 5, quindi vengono normalizzati tra 1 e 5 "
   ]
  },
  {
   "cell_type": "code",
   "execution_count": 90,
   "id": "f5c20603-3f56-4f47-8523-f61bef7cfb09",
   "metadata": {},
   "outputs": [],
   "source": [
    "def normalize_RSS(x):\n",
    "    norm = 0\n",
    "    if x >= 3:\n",
    "        norm = 5\n",
    "\n",
    "    elif 1 < x <= 3:\n",
    "        norm = 4\n",
    "\n",
    "    elif -0.5 < x <= 1:\n",
    "        norm = 3\n",
    "\n",
    "    elif -3 < x <= -0.5:\n",
    "        norm = 2\n",
    "\n",
    "    elif x <= -3 :\n",
    "        norm = 1\n",
    "\n",
    "    return norm"
   ]
  },
  {
   "cell_type": "code",
   "execution_count": 91,
   "id": "8f853acc-8570-4f49-bce2-cbc7391ae389",
   "metadata": {},
   "outputs": [],
   "source": [
    "dataset['RSS'] = dataset['RSS'].apply(normalize_RSS)"
   ]
  },
  {
   "cell_type": "code",
   "execution_count": 92,
   "id": "cbfdce01-ca16-4205-8b95-ca2a8f364054",
   "metadata": {},
   "outputs": [
    {
     "data": {
      "text/html": [
       "<div>\n",
       "<style scoped>\n",
       "    .dataframe tbody tr th:only-of-type {\n",
       "        vertical-align: middle;\n",
       "    }\n",
       "\n",
       "    .dataframe tbody tr th {\n",
       "        vertical-align: top;\n",
       "    }\n",
       "\n",
       "    .dataframe thead th {\n",
       "        text-align: right;\n",
       "    }\n",
       "</style>\n",
       "<table border=\"1\" class=\"dataframe\">\n",
       "  <thead>\n",
       "    <tr style=\"text-align: right;\">\n",
       "      <th></th>\n",
       "      <th>overall</th>\n",
       "      <th>reviewText</th>\n",
       "      <th>description</th>\n",
       "      <th>brand</th>\n",
       "      <th>feature</th>\n",
       "      <th>price</th>\n",
       "      <th>asin</th>\n",
       "      <th>preprocessedText</th>\n",
       "      <th>tagged_text</th>\n",
       "      <th>RSS</th>\n",
       "    </tr>\n",
       "  </thead>\n",
       "  <tbody>\n",
       "    <tr>\n",
       "      <th>0</th>\n",
       "      <td>5.0</td>\n",
       "      <td>I have read a lot of the reviews and spoken to...</td>\n",
       "      <td>['Like new in box great looking phone get it b...</td>\n",
       "      <td>Motorola</td>\n",
       "      <td>[]</td>\n",
       "      <td>17.99</td>\n",
       "      <td>B000FYU4SO</td>\n",
       "      <td>i read lot review spoken number current owner ...</td>\n",
       "      <td>[(i, NOUN, 0.0), (read, VERB, 0.0), (lot, NOUN...</td>\n",
       "      <td>4</td>\n",
       "    </tr>\n",
       "    <tr>\n",
       "      <th>1</th>\n",
       "      <td>4.0</td>\n",
       "      <td>Or maybe not.  The good news is that for less ...</td>\n",
       "      <td>['Like new in box great looking phone get it b...</td>\n",
       "      <td>Motorola</td>\n",
       "      <td>[]</td>\n",
       "      <td>17.99</td>\n",
       "      <td>B000FYU4SO</td>\n",
       "      <td>or maybe the good news le 200 100 signing new ...</td>\n",
       "      <td>[(or, CONJ, 0.0), (maybe, ADV, 0.0), (the, DET...</td>\n",
       "      <td>3</td>\n",
       "    </tr>\n",
       "    <tr>\n",
       "      <th>2</th>\n",
       "      <td>4.0</td>\n",
       "      <td>Having previously owned the LG VX9800 (one of ...</td>\n",
       "      <td>['Like new in box great looking phone get it b...</td>\n",
       "      <td>Motorola</td>\n",
       "      <td>[]</td>\n",
       "      <td>17.99</td>\n",
       "      <td>B000FYU4SO</td>\n",
       "      <td>having previously owned lg vx9800 one best pho...</td>\n",
       "      <td>[(having, VERB, 0.0), (previously, ADV, 0.0), ...</td>\n",
       "      <td>4</td>\n",
       "    </tr>\n",
       "    <tr>\n",
       "      <th>3</th>\n",
       "      <td>3.0</td>\n",
       "      <td>3.5 stars.  I was very excited about the launc...</td>\n",
       "      <td>['Like new in box great looking phone get it b...</td>\n",
       "      <td>Motorola</td>\n",
       "      <td>[]</td>\n",
       "      <td>17.99</td>\n",
       "      <td>B000FYU4SO</td>\n",
       "      <td>35 star i excited launch motorola q since i co...</td>\n",
       "      <td>[(35, NUM, 0.0), (star, NOUN, 0.0), (i, NOUN, ...</td>\n",
       "      <td>3</td>\n",
       "    </tr>\n",
       "    <tr>\n",
       "      <th>4</th>\n",
       "      <td>1.0</td>\n",
       "      <td>I want to warn IT professionals that Verizon W...</td>\n",
       "      <td>['Like new in box great looking phone get it b...</td>\n",
       "      <td>Motorola</td>\n",
       "      <td>[]</td>\n",
       "      <td>17.99</td>\n",
       "      <td>B000FYU4SO</td>\n",
       "      <td>i want warn it professional verizon wireless p...</td>\n",
       "      <td>[(i, NOUN, 0.0), (want, VERB, 1.0), (warn, ADP...</td>\n",
       "      <td>3</td>\n",
       "    </tr>\n",
       "  </tbody>\n",
       "</table>\n",
       "</div>"
      ],
      "text/plain": [
       "   overall                                         reviewText  \\\n",
       "0      5.0  I have read a lot of the reviews and spoken to...   \n",
       "1      4.0  Or maybe not.  The good news is that for less ...   \n",
       "2      4.0  Having previously owned the LG VX9800 (one of ...   \n",
       "3      3.0  3.5 stars.  I was very excited about the launc...   \n",
       "4      1.0  I want to warn IT professionals that Verizon W...   \n",
       "\n",
       "                                         description     brand feature  price  \\\n",
       "0  ['Like new in box great looking phone get it b...  Motorola      []  17.99   \n",
       "1  ['Like new in box great looking phone get it b...  Motorola      []  17.99   \n",
       "2  ['Like new in box great looking phone get it b...  Motorola      []  17.99   \n",
       "3  ['Like new in box great looking phone get it b...  Motorola      []  17.99   \n",
       "4  ['Like new in box great looking phone get it b...  Motorola      []  17.99   \n",
       "\n",
       "         asin                                   preprocessedText  \\\n",
       "0  B000FYU4SO  i read lot review spoken number current owner ...   \n",
       "1  B000FYU4SO  or maybe the good news le 200 100 signing new ...   \n",
       "2  B000FYU4SO  having previously owned lg vx9800 one best pho...   \n",
       "3  B000FYU4SO  35 star i excited launch motorola q since i co...   \n",
       "4  B000FYU4SO  i want warn it professional verizon wireless p...   \n",
       "\n",
       "                                         tagged_text  RSS  \n",
       "0  [(i, NOUN, 0.0), (read, VERB, 0.0), (lot, NOUN...    4  \n",
       "1  [(or, CONJ, 0.0), (maybe, ADV, 0.0), (the, DET...    3  \n",
       "2  [(having, VERB, 0.0), (previously, ADV, 0.0), ...    4  \n",
       "3  [(35, NUM, 0.0), (star, NOUN, 0.0), (i, NOUN, ...    3  \n",
       "4  [(i, NOUN, 0.0), (want, VERB, 1.0), (warn, ADP...    3  "
      ]
     },
     "execution_count": 92,
     "metadata": {},
     "output_type": "execute_result"
    }
   ],
   "source": [
    "dataset.head()"
   ]
  },
  {
   "cell_type": "markdown",
   "id": "06822b92-bc51-4c6b-ad2a-759e5208ca4a",
   "metadata": {},
   "source": [
    "2. SENTIMENT-ANALYSIS SENTENCE LEVEL"
   ]
  },
  {
   "cell_type": "markdown",
   "id": "0b1b5a86-4ab1-47cb-a99b-7c0d5c0921cd",
   "metadata": {},
   "source": [
    "NLTK Punkt Sentence Tokenizer per splittare le reviews in sentences"
   ]
  },
  {
   "cell_type": "code",
   "execution_count": 93,
   "id": "5ca47fb7-bea4-4662-9f46-eb71633cb06a",
   "metadata": {},
   "outputs": [],
   "source": [
    "import nltk\n",
    "tokenizer = nltk.data.load('tokenizers/punkt/english.pickle') #sentence_tokenizer"
   ]
  },
  {
   "cell_type": "code",
   "execution_count": 94,
   "id": "5468af86-4c23-497b-9260-75552f2e10a3",
   "metadata": {},
   "outputs": [
    {
     "name": "stderr",
     "output_type": "stream",
     "text": [
      "[nltk_data] Downloading package punkt to\n",
      "[nltk_data]     C:\\Users\\Livio\\AppData\\Roaming\\nltk_data...\n",
      "[nltk_data]   Package punkt is already up-to-date!\n",
      "[nltk_data] Downloading package wordnet to\n",
      "[nltk_data]     C:\\Users\\Livio\\AppData\\Roaming\\nltk_data...\n",
      "[nltk_data]   Package wordnet is already up-to-date!\n",
      "[nltk_data] Downloading package stopwords to\n",
      "[nltk_data]     C:\\Users\\Livio\\AppData\\Roaming\\nltk_data...\n",
      "[nltk_data]   Package stopwords is already up-to-date!\n",
      "[nltk_data] Downloading package averaged_perceptron_tagger to\n",
      "[nltk_data]     C:\\Users\\Livio\\AppData\\Roaming\\nltk_data...\n",
      "[nltk_data]   Package averaged_perceptron_tagger is already up-to-\n",
      "[nltk_data]       date!\n",
      "[nltk_data] Downloading package tagsets to\n",
      "[nltk_data]     C:\\Users\\Livio\\AppData\\Roaming\\nltk_data...\n",
      "[nltk_data]   Package tagsets is already up-to-date!\n",
      "[nltk_data] Downloading package universal_tagset to\n",
      "[nltk_data]     C:\\Users\\Livio\\AppData\\Roaming\\nltk_data...\n",
      "[nltk_data]   Package universal_tagset is already up-to-date!\n"
     ]
    },
    {
     "data": {
      "text/plain": [
       "True"
      ]
     },
     "execution_count": 94,
     "metadata": {},
     "output_type": "execute_result"
    }
   ],
   "source": [
    "import nltk\n",
    "nltk.download('punkt')\n",
    "nltk.download('wordnet')\n",
    "nltk.download('stopwords')\n",
    "nltk.download('averaged_perceptron_tagger')\n",
    "nltk.download('tagsets')\n",
    "nltk.download('universal_tagset')"
   ]
  },
  {
   "cell_type": "code",
   "execution_count": 95,
   "id": "0b44c023-b0a4-4ae3-a34d-b185c6b30069",
   "metadata": {},
   "outputs": [],
   "source": [
    "from nltk.corpus import stopwords\n",
    "stop_words = stopwords.words('english')"
   ]
  },
  {
   "cell_type": "code",
   "execution_count": 96,
   "id": "c369af0a-16fa-4079-a803-87247a70a186",
   "metadata": {},
   "outputs": [],
   "source": [
    "from nltk.stem import WordNetLemmatizer\n",
    "lemmatizer = WordNetLemmatizer()"
   ]
  },
  {
   "cell_type": "code",
   "execution_count": 97,
   "id": "9ba5584d-6020-4921-b455-1ffa7423ab41",
   "metadata": {},
   "outputs": [],
   "source": [
    "import json\n",
    "from afinn import Afinn\n",
    "\n",
    "afinn = Afinn()"
   ]
  },
  {
   "cell_type": "code",
   "execution_count": 98,
   "id": "ee61fc9f-7ba5-4c9b-b60e-e853de0427d0",
   "metadata": {},
   "outputs": [],
   "source": [
    "# Funzione per splittare le recensioni in frasi\n",
    "def preprocess_analyze_sentences(review):\n",
    "    sentences_sentiments = {}\n",
    "    sentences = tokenizer.tokenize(review)\n",
    "    \n",
    "    for sentence in sentences:\n",
    "        afinn_scores = []\n",
    "        sentence_clean = re.sub(r'[^\\w\\s]', '', sentence) #cleaning\n",
    "        # Tokenizza in parole\n",
    "        words = nltk.word_tokenize(sentence_clean)\n",
    "        # Rimuovi stopwords e applica lemmatization\n",
    "        preprocessed_words = [lemmatizer.lemmatize(word.lower()) for word in words if word not in stop_words]\n",
    "        for word in preprocessed_words:\n",
    "            score = afinn.score(word)\n",
    "            if score != 0:\n",
    "                afinn_scores.append(score)\n",
    "        # Ricostruisci la frase preprocessata come stringa\n",
    "        preprocessed_sentence = ' '.join(preprocessed_words)\n",
    "        # Calcola il sentiment\n",
    "        sentences_sentiments[preprocessed_sentence] = normalize_RSS((sum(afinn_scores)/len(afinn_scores))) if len(afinn_scores) != 0 else normalize_RSS(0)\n",
    "        #sentences_sentiments.append((preprocessed_sentence, (sum(afinn_scores)/len(afinn_scores)) if len(afinn_scores) != 0 else 0))\n",
    "\n",
    "    return sentences_sentiments\n",
    "\n",
    "# Funzione per combinare tutti i dizionari di sentences per ogni 'asin'\n",
    "def combine_sentences(sent_dicts):\n",
    "    combined_dict = {}\n",
    "    for d in sent_dicts:\n",
    "        combined_dict.update(d)\n",
    "    return combined_dict"
   ]
  },
  {
   "cell_type": "code",
   "execution_count": 99,
   "id": "dab32eb2-1d3b-49ef-8f35-5379f8982f9e",
   "metadata": {},
   "outputs": [
    {
     "data": {
      "text/plain": [
       "{'this cell phone passed proof time really really tough condition': 3,\n",
       " '': 3,\n",
       " 'great thing 1': 5,\n",
       " 'signal superb i many cell phone including nokia i think great signal htc tytn ii much better signal': 5,\n",
       " 'this one sustains signal elevator nokia cant': 3,\n",
       " '3': 3,\n",
       " 'screen touch screen work really well': 3,\n",
       " 'tilting 40 degree screen nice comfortable work writing table': 4,\n",
       " '4': 3,\n",
       " 'sliding qwerty keyboard main reason buy u dont like front keyboard make phone little bulky great': 4,\n",
       " '5': 3,\n",
       " 'plenty button ha plenty button make easy operate': 4,\n",
       " 'the 360 degree 3 way jog wheel paired ok button left side fantastic great option operate phone driving': 5,\n",
       " '6': 3,\n",
       " 'setting emailsms account really easy fast': 3,\n",
       " 'good thing 1': 5,\n",
       " 'processor 400 mhz work ok superfast certainly slow': 3,\n",
       " 'phone turn fast le 1 minute operate': 3,\n",
       " '2': 3,\n",
       " 'platform window mobile 6 good': 5,\n",
       " 'until date i restart phone 3 4 time due system fail unable detect end call besides worked well': 2,\n",
       " 'camera 3 megapixels ha good definition work precisely': 4,\n",
       " 'htc home screen nice interactive': 5,\n",
       " 'not good 1': 5,\n",
       " 'camera doe flash dont expect get good inside picture': 5,\n",
       " 'battery weak point dont expect battery last 24 hour much le use heavily': 2,\n",
       " 'requires car charger charge usb': 3,\n",
       " 'speaker it loud': 3}"
      ]
     },
     "execution_count": 99,
     "metadata": {},
     "output_type": "execute_result"
    }
   ],
   "source": [
    "r = \"\"\"This cell phone has passed the proof of time under really really tough conditions. . . . .Great\n",
    "things: 1. Signal: Superb, I have had many cell phones before, including Nokia which I think has a great signal,\n",
    "but HTC TYTN II has much better signal. This one sustains signal in elevators while my Nokia can’t . . . . 3.\n",
    "Screen: Touch screen works really well. Tilting (40 degrees) screen is nice and comfortable to work with when\n",
    "you are writing over the table. 4. Sliding QWERTY keyboard is the main reason to buy it for us who don’t like\n",
    "front keyboards, this makes the phone a little bulky but is great. 5. Plenty of buttons: Has plenty of buttons that\n",
    "make it easy to operate. The 360 degree 3 way jog wheel paired with OK button (left side) is fantastic, great option\n",
    "to operate the phone while you are driving. 6. Setting e-mail/sms accounts was really easy and fast . . . ..Good\n",
    "things: 1. Processor: 400 MHz, works OK, it is not super-fast but certainly it is not slow. Phone turns on fast\n",
    "(less than 1 minute to operate). 2. Platform: Windows mobile 6 is good. Until date I have had to re-start the\n",
    "phone 3 or 4 times due to system fail (unable to detect end call), besides this it has worked well. 3. Camera 3\n",
    "mega-pixels: Has good definition, works precisely. 4. HTC Home screen is nice, very interactive. . . . Not so\n",
    "Good: 1. Camera: Does not have flash, so don’t expect to get good inside pictures. 2. Battery: Weak point, don’t\n",
    "expect your battery to last more than 24 hours, and much less if you use it heavily. Requires car charger, charge\n",
    "through USB. 3. Speaker: It is not so loud . . .\"\"\"\n",
    "\n",
    "preprocess_analyze_sentences(r)"
   ]
  },
  {
   "cell_type": "code",
   "execution_count": 100,
   "id": "64d2026a-75c6-41bc-bfe5-02ab048612ce",
   "metadata": {},
   "outputs": [],
   "source": [
    "# Aggiungere il campo features basato sulla lista di features\n",
    "def extract_features(sent_dict, features_list):\n",
    "    feature_sentiments = {}\n",
    "    for feature in features_list:\n",
    "        feature_values = [sentiment for sentence, sentiment in sent_dict.items() if feature in sentence]\n",
    "        if feature_values:\n",
    "            feature_sentiments[feature] = sum(feature_values) / len(feature_values)\n",
    "    return feature_sentiments\n"
   ]
  },
  {
   "cell_type": "code",
   "execution_count": 101,
   "id": "16846a44-622e-43ad-bba1-8d245c1c628b",
   "metadata": {
    "scrolled": true
   },
   "outputs": [
    {
     "name": "stdout",
     "output_type": "stream",
     "text": [
      "CPU times: total: 16.3 s\n",
      "Wall time: 17.3 s\n"
     ]
    }
   ],
   "source": [
    "%%time\n",
    "filtered_features = pd.read_csv('data/ontology_filtered.csv', sep=\";\")\n",
    "# Applicare la funzione a ogni recensione e raggruppare per 'asin'\n",
    "dataset['preprocessed_sentences'] = dataset['reviewText'].apply(preprocess_analyze_sentences)\n",
    "\n",
    "# Raggruppare per 'asin' e combinare le sentences\n",
    "grouped = dataset.groupby('asin')['preprocessed_sentences'].apply(list).reset_index()\n",
    "grouped['preprocessed_sentences'] = grouped['preprocessed_sentences'].apply(combine_sentences)\n",
    "grouped['features'] = grouped['preprocessed_sentences'].apply(lambda x: extract_features(x, filtered_features['value']))\n",
    "\n",
    "result = grouped.to_dict(orient='records')"
   ]
  },
  {
   "cell_type": "code",
   "execution_count": 102,
   "id": "54e7b1af-5712-49ce-ba0d-bf560a16cb3f",
   "metadata": {},
   "outputs": [],
   "source": [
    "# Salva il risultato in un file JSON\n",
    "with open('data/features_scores.json', 'w') as f:\n",
    "    json.dump(result, f, indent=4)"
   ]
  },
  {
   "cell_type": "code",
   "execution_count": 103,
   "id": "3c98b9d3-dd84-400d-adb9-e86b0a589ad6",
   "metadata": {},
   "outputs": [],
   "source": [
    "with open('data/features_scores.json', 'r') as file:\n",
    "    features_scores = json.load(file)"
   ]
  },
  {
   "cell_type": "code",
   "execution_count": 104,
   "id": "04c2bad8-d563-4db5-8966-899d7caf21f1",
   "metadata": {},
   "outputs": [
    {
     "data": {
      "text/plain": [
       "{'asin': 'B000FYU4SO',\n",
       " 'preprocessed_sentences': {'i read lot review spoken number current owner motorola q i also owned used blackberry treos lg phone including lg vx9800 motorola razor': 3,\n",
       "  'i picked one week initial impression': 3,\n",
       "  'the phone layout design excellent': 5,\n",
       "  'compared device like blackberry treo key much better location bottom end phone making much le stressful thumb type': 4,\n",
       "  'the key function similar blackberry': 3,\n",
       "  'take little bit getting use learn quickly': 3,\n",
       "  'active sync come breeze setup start syncing': 3,\n",
       "  'work great outlook': 5,\n",
       "  'i also setup device pull email gmail account': 3,\n",
       "  'i read one review said everything doubled transferring': 3,\n",
       "  'no': 2,\n",
       "  'work like charm fast': 4,\n",
       "  'internet connection much faster blackberry work supplied': 3,\n",
       "  'the battery another item people tend give bad review': 1,\n",
       "  'that may verizon currently offering 60 dollar battery 19 dollar': 3,\n",
       "  'supposedly extended battery give double time i understand user 2 day': 3,\n",
       "  'one big issue people focusing review processing speed affected multiple application open hassle closing done': 3,\n",
       "  'first motorola like computerhaving multiple application open running kill processing speed computer': 2,\n",
       "  'second close program much easier represented review': 3,\n",
       "  'just go home page click top smart icon task manager kill all task running': 3,\n",
       "  'so far happy decision': 5,\n",
       "  'update 61206 after week using q i still pleased decision': 5,\n",
       "  'i continue monitor review i find interesting fact many people focus item nit picky ie': 4,\n",
       "  'screen slightly center': 3,\n",
       "  'interestingi didnt even notice person pointed': 3,\n",
       "  'what also interesting people tend want device everything exceptionally well pda phone etc': 4,\n",
       "  'i would agree would ideal i happy device everything good': 4,\n",
       "  'each person preference really need keep mind need device': 3,\n",
       "  'i need device syncs home computer outlook send text picture message syncs email via web provides occasional access internet': 3,\n",
       "  'the q': 3,\n",
       "  'update 61606 ok': 3,\n",
       "  'i returned phone yes plural': 3,\n",
       "  'let explain': 3,\n",
       "  'the first phone issue bluetooth functionalitytransmitter': 3,\n",
       "  'i returned exchanged another motorola q': 3,\n",
       "  'my second phone i one day completely died nothing i tech support could would allow restarted': 3,\n",
       "  'motorola serious issue overcome quality assurance program': 4,\n",
       "  'when i phone verizon tech support i asked devicesmartphone recieved least number call onthey said treo 700w': 4,\n",
       "  'a i return motorola q purchased 700w': 3,\n",
       "  'wow difference': 5,\n",
       "  'the treo much faster much easier use': 3,\n",
       "  'i would downgrade rating unfortunately star choosen amazon rating system changed': 3,\n",
       "  'or maybe': 3,\n",
       "  'the good news le 200 100 signing new agreement phone offer one best value current batch smart phone': 4,\n",
       "  'the bad news paying alot verizonwireless service': 1,\n",
       "  'the phone offer standard feature would expect web browser outlook m office multimedia etc': 3,\n",
       "  'it nice design big screen': 4,\n",
       "  'the phone talk quality good': 4,\n",
       "  'i use goodlink synchronize phone company mail server work nicely': 3,\n",
       "  'when comparing treo q biggest weakness lack touch screen inability edit word doc spreadsheet q read edit': 2,\n",
       "  'these feature important coworkers find touchscreen feature useful': 4,\n",
       "  'the standard battery last day extended battery last least day half moderateheavy usage': 3,\n",
       "  'my biggest issue phone key': 3,\n",
       "  'my thumb big type accurately typing 100 word email sometimes take much longer': 3,\n",
       "  'i using tmobiles sidekick alot easier type sidekick': 3,\n",
       "  'verizonwireless pricing another concern since phone verizonwirless exclusive i believe': 4,\n",
       "  'the standard 900 minute plan plus unlimited data total 110 tax': 3,\n",
       "  'after adding 15 feature allows q used broadband modem older q model need download latest patch first 10 500 text message 6 insurance total monthly bill come somewhere north 150': 3,\n",
       "  'if concerned cost company reimbursing wireless bill i suggest giving phone use another carrier similar level service could cost 40 le': 2,\n",
       "  'compared sidekick q lack free basic sticky note utility i use time i need lookup airline hotel reward number': 3,\n",
       "  'goodlink provide utility free': 3,\n",
       "  'overall i pleased phone far': 5,\n",
       "  'i tested download speed phone used modem i got 385kbps download speed 56kbps upload speed': 3,\n",
       "  'when using phone modem though also use airtime': 3,\n",
       "  'having previously owned lg vx9800 one best phone ever made nearly year i hesitant first switch pdasmartphone formatbut im glad i finally': 4,\n",
       "  'the motorola q musthave anyone need internet access pda productivity feature wherever go': 3,\n",
       "  'most pda phone bulky quite clumsy task conversing without aid headset': 3,\n",
       "  'this phone however short slim enough make problem negligible': 2,\n",
       "  'it fit ordinary shirt pant pocket plenty room spare': 3,\n",
       "  'the speakerphone good quality dont headset dont like pressing pda face phone conversation still come clear': 4,\n",
       "  'window mobile 50 many useful feature accessing somewhat tedious work time': 4,\n",
       "  'the key tiny i disappointed q doesnt dedicated number key unlike vx9800': 3,\n",
       "  'also plastic cover minisd slot hard remove practically requires pair small tweezer open': 2,\n",
       "  'those main gripe phone overall positive outnumber negative': 3,\n",
       "  'the camera take decent picture side scroll wheel come handy navigating around screen': 3,\n",
       "  'speaking screen bright crispthough using direct sunlight may prove little challenging': 3,\n",
       "  'a i stated beginning internet feature oustanding': 3,\n",
       "  'i verizons unlimited data plan despite fact evdo yet available i live i still stream radio station flawlessly builtin window medium player': 4,\n",
       "  'in fact q multitasks like champion one time i listening streaming audio feed surfing internet sending text message time without trace hesitation cpu': 4,\n",
       "  'noninternet application like pocket street trip also run smoothly': 4,\n",
       "  'with gadget like q laptop suddenly looking like desktop': 4,\n",
       "  '35 star': 3,\n",
       "  'i excited launch motorola q since i completely clunky boring blackberry time': 3,\n",
       "  'i thought q would solve blackberry problem able read attachment plain text format able edit attached document compose email document scratch': 2,\n",
       "  'how wrong i': 2,\n",
       "  'dont get wrong q lot going 1 attractive form factor any blackberry pdaphone ive ever seen slim light look much like phone smartphone 2 run window mobile infinitely attractive familiar palm o blackberry platform': 3,\n",
       "  'it also pretty strong fun factor since cool internet browser window medium player music file builtin digital camera': 4,\n",
       "  'however q main shortfallthe inability composeedit documentswas dealbreaker': 2,\n",
       "  'if like plan using smartphone part minimobileoffice job involves heavy review editing document received via email might want look alternative q': 4,\n",
       "  'if youre windowsoverpalm person palm treo 700w may good alternative document composing editing capability': 4,\n",
       "  'im opting get laptop instead palm 700w given memory limitation': 2,\n",
       "  'or wedded palm o there always palm 700p': 3,\n",
       "  'that said editing document important simple emailing messaging motorola q may fit bill': 4,\n",
       "  'i want warn it professional verizon wireless phone data email service inappropriately spoofing sender email address message sent motorola q': 2,\n",
       "  'this creating problem antispam filter i also believe unethical illegal': 2,\n",
       "  'we recommend buying phone dataemail service organization': 4,\n",
       "  'when configure imap server option motorola q phone owned one executive verizon system spoofing email address message sent email server': 3,\n",
       "  'these external spoofed internal message get blocked antispam filter': 2,\n",
       "  'when wanted try white list unblock verizon server antispam server technical support verizon representative refused give u ip address server email message sent': 3,\n",
       "  'this probably refused network administrator security concern i dont blame': 2,\n",
       "  'im sure agree problem instead resolved within verizons system software solution': 3,\n",
       "  'instead spoofing desired email address message coming verizon phone distinct from replyto address first external verizon wireless address latter customer desired commonly used email address': 4,\n",
       "  'the two must differ message end spam sender wont spoofed': 2,\n",
       "  'although q seems like good device advise purchase dont support email integration organization verizon wireless make from replyto field configurable': 4,\n",
       "  'small shop microsoft exchange loose antispam setting probably wont problem like': 2,\n",
       "  'my wife phone day sudden couldnt get past verizon screen': 3,\n",
       "  'the system completely froze nothing could get operate perform call function made': 3,\n",
       "  'we took phone back dissapointed': 3,\n",
       "  'apparently judging negative review online verizon issue phone': 2,\n",
       "  'how release product market without extensive relevant real world testing beyond': 3,\n",
       "  'this reminds many buggy problematic version microsoft window released year made one computer crash freeze etc': 2,\n",
       "  'anyway motorola perfect motoq future may look': 5,\n",
       "  'i q 3 week played installed apps modified home screen read ton review forum bought screen protector': 3,\n",
       "  'all great smart phone improvement made': 4,\n",
       "  'medium player choppy time i assume bug': 3,\n",
       "  'system little slower i would like bearable': 4,\n",
       "  'plastic casing plain suck': 1,\n",
       "  'i assume plastic chosen ensure light weight however i think aluminum way go much sturdy': 3,\n",
       "  'for example razr': 3,\n",
       "  'battery life something challenge': 2,\n",
       "  'even extended battery give 1214 hour moderate use': 3,\n",
       "  'other i listed phone great i still fairly happy phone': 5,\n",
       "  'tip try find defect phone within first 15 day': 1,\n",
       "  'after vzw give refurbished phone bring 15 day': 3,\n",
       "  'first smartphone': 3,\n",
       "  'im addicted': 3,\n",
       "  'had week never crashed even hiccup': 3,\n",
       "  'there minor thing i dont like problem microsoft o motorola': 3,\n",
       "  'my understanding software update coming solve gripe': 3,\n",
       "  'but like another reviewer said i use time': 4,\n",
       "  'it look fantastic screen amazing': 5,\n",
       "  'i reluctantly getting 3rd q replacement': 3,\n",
       "  'ive 2nd one maybe 2 month': 3,\n",
       "  'it would freeze constantly past 2 month forcing remove battery restart': 3,\n",
       "  'now i dreaded black screen death motorola flash mode bootloader version boot_c_030800r_mpap': 2,\n",
       "  'anytime blogger start naming phone dy bad sign': 1,\n",
       "  'qusersc om ww weverythingqc om make sure piece together space though go site': 3,\n",
       "  'they explain exactly q work setup get': 3,\n",
       "  'ive phone since october 2006 may june 07 im loving phone': 4,\n",
       "  'after reading issue let first sympathize people got defective unit': 1,\n",
       "  'my 1st phone bad battery life issue ive read': 1,\n",
       "  'after getting window service pack update put mol 2 mol 3 see motorola website life improve somewhat phone started experience random power issue i hear complain': 3,\n",
       "  'so 23 week wanting toss phone semi truck frustration i finally decided bite bullet get unit swapped': 2,\n",
       "  'now 2nd q i tell microsoft office mobile window smartphone 6 pdanet using phone free highspeed modem which reason 1 buy phone alonefacade deepfish webbrowser agile aimyahoomsnicq messanger papyrus calander task manager qhich also rock along facade sprite orange let forget ne sega genesis snes mame emulator running 1000 game dvd mp4 movie mp3 collection everything else 2gb minisd card heart desire contain i say phone rock': 3,\n",
       "  'the crutch there bad batch like product market': 2,\n",
       "  'it seems newer one stable le likely experience headache older one people gripping': 3,\n",
       "  'but final verdict lie battery life customability device': 2,\n",
       "  '1': 3,\n",
       "  'ill address battery life it awesome': 3,\n",
       "  'let explaini used old q fully charged 6am time i leave work make call girlfriend 1530 min morning top check bank account work item 15 min surfing net': 2,\n",
       "  'id immediately close apps task manager and go flight mode log net completely eliminate arrow top battery meter anyhow 4pm central battery would dead id plug q': 2,\n",
       "  'i got extended battery q would last till 910pm night needed full charge': 3,\n",
       "  '2': 3,\n",
       "  'with replacement q old slim battery im averaging 14 hour heavy use emulator 20 min web browsing music 15 hour phone call total today etc still 75 life left': 3,\n",
       "  'it night day look new q winner phone': 5,\n",
       "  'if isnt like swap it out immediately': 4,\n",
       "  'ii': 3,\n",
       "  'stability': 3,\n",
       "  'this new q hasnt crashed even necessary system registry tweak find qusers 1 glyphcache one spead interface 2 rearranging key ex old back key scroll wheel speaker phone vice versa 3 3x web speed enhance hack 4 memory cache hack 5 bluetooth volume enhancer hack enhance jabra jx10 volume see quserscom all phone keep going going going': 3,\n",
       "  'i new phone week heavy usage enough crash burn old q sure new tank keep asking': 2,\n",
       "  'i havent even tried extended battery i dont need tobottom line swap phone verizon acting like': 4,\n",
       "  'im convinced q intended benow everyone experience': 3,\n",
       "  'i work enterprise management customer walk door q eye drop see customized mine battery life really': 2,\n",
       "  'for guy complaied layout check wallpaper setup qusers get setup like': 4,\n",
       "  'with facade fizz weather killer setup phone': 3},\n",
       " 'features': {'camera': 3.5,\n",
       "  'feature': 3.3333333333333335,\n",
       "  'screen': 3.2,\n",
       "  'music': 3.5,\n",
       "  'network': 2.0,\n",
       "  'battery': 2.533333333333333,\n",
       "  'device': 3.4444444444444446,\n",
       "  'memory': 2.5,\n",
       "  'work': 3.2,\n",
       "  'data': 3.25,\n",
       "  'design': 4.5,\n",
       "  'support': 3.5,\n",
       "  'use': 3.090909090909091,\n",
       "  'game': 3.0,\n",
       "  'access': 3.3333333333333335,\n",
       "  'home': 3.0,\n",
       "  'picture': 3.0,\n",
       "  'service': 2.4,\n",
       "  'carrier': 2.0,\n",
       "  'experience': 3.0,\n",
       "  'power': 3.0,\n",
       "  'player': 3.6666666666666665,\n",
       "  'talk': 4.0,\n",
       "  'mode': 2.75,\n",
       "  'application': 3.0,\n",
       "  'system': 3.1666666666666665,\n",
       "  'capability': 4.0,\n",
       "  'quality': 4.0,\n",
       "  'slot': 2.0,\n",
       "  'apps': 2.5,\n",
       "  'wireless': 2.8333333333333335,\n",
       "  'speed': 2.8,\n",
       "  'look': 4.0,\n",
       "  'office': 3.3333333333333335,\n",
       "  'computer': 2.3333333333333335,\n",
       "  'builtin': 4.0,\n",
       "  'note': 3.0,\n",
       "  'web': 3.0,\n",
       "  'call': 2.8,\n",
       "  'movie': 3.0,\n",
       "  'view': 3.0,\n",
       "  'band': 3.0,\n",
       "  'message': 2.888888888888889,\n",
       "  'shop': 2.0,\n",
       "  'offer': 3.3333333333333335,\n",
       "  'ram': 3.5,\n",
       "  'version': 2.0,\n",
       "  'sign': 3.5,\n",
       "  'replacement': 3.0,\n",
       "  'sim': 3.0,\n",
       "  'hand': 3.0,\n",
       "  'browser': 3.3333333333333335,\n",
       "  'touch': 3.0,\n",
       "  'type': 3.3333333333333335,\n",
       "  'internet': 3.4285714285714284,\n",
       "  'software': 3.0,\n",
       "  'download': 3.0,\n",
       "  'file': 4.0,\n",
       "  'flash': 2.0,\n",
       "  'audio': 4.0,\n",
       "  'return': 3.0,\n",
       "  'option': 3.0,\n",
       "  'cover': 2.0,\n",
       "  'multimedia': 3.0,\n",
       "  'model': 3.0,\n",
       "  'space': 3.0,\n",
       "  'functionality': 3.0,\n",
       "  'document': 3.2,\n",
       "  'bluetooth': 3.0,\n",
       "  'app': 3.0833333333333335,\n",
       "  'charge': 2.5,\n",
       "  'task': 3.0,\n",
       "  'interface': 3.0,\n",
       "  'face': 3.5,\n",
       "  'speaker': 3.5,\n",
       "  'headset': 3.5,\n",
       "  'security': 2.0,\n",
       "  'connection': 3.0,\n",
       "  'volume': 3.0,\n",
       "  'productivity': 3.0,\n",
       "  'usage': 2.5,\n",
       "  'light': 2.8,\n",
       "  'port': 3.6666666666666665}}"
      ]
     },
     "execution_count": 104,
     "metadata": {},
     "output_type": "execute_result"
    }
   ],
   "source": [
    "features_scores[0]"
   ]
  },
  {
   "cell_type": "code",
   "execution_count": 105,
   "id": "8c53fd8d-2518-4322-b84a-b6cb36832426",
   "metadata": {},
   "outputs": [],
   "source": [
    "scores_df = dataset.groupby('asin')['RSS'].mean().reset_index()"
   ]
  },
  {
   "cell_type": "code",
   "execution_count": 106,
   "id": "6a56cd15-cfc9-488d-bf11-f19dd303371f",
   "metadata": {},
   "outputs": [],
   "source": [
    "scores_df['star_rating'] = dataset.groupby('asin')['overall'].mean().reset_index()['overall']\n",
    "scores_df['price'] = dataset.groupby('asin')['price'].mean().reset_index()['price']\n"
   ]
  },
  {
   "cell_type": "code",
   "execution_count": 107,
   "id": "4d935fa4-b0d2-4634-acb4-392db457b71c",
   "metadata": {},
   "outputs": [
    {
     "data": {
      "text/html": [
       "<div>\n",
       "<style scoped>\n",
       "    .dataframe tbody tr th:only-of-type {\n",
       "        vertical-align: middle;\n",
       "    }\n",
       "\n",
       "    .dataframe tbody tr th {\n",
       "        vertical-align: top;\n",
       "    }\n",
       "\n",
       "    .dataframe thead th {\n",
       "        text-align: right;\n",
       "    }\n",
       "</style>\n",
       "<table border=\"1\" class=\"dataframe\">\n",
       "  <thead>\n",
       "    <tr style=\"text-align: right;\">\n",
       "      <th></th>\n",
       "      <th>asin</th>\n",
       "      <th>RSS</th>\n",
       "      <th>star_rating</th>\n",
       "      <th>price</th>\n",
       "    </tr>\n",
       "  </thead>\n",
       "  <tbody>\n",
       "    <tr>\n",
       "      <th>0</th>\n",
       "      <td>B000FYU4SO</td>\n",
       "      <td>3.200000</td>\n",
       "      <td>3.300000</td>\n",
       "      <td>17.99</td>\n",
       "    </tr>\n",
       "    <tr>\n",
       "      <th>1</th>\n",
       "      <td>B000G2TLIO</td>\n",
       "      <td>3.500000</td>\n",
       "      <td>3.857143</td>\n",
       "      <td>27.57</td>\n",
       "    </tr>\n",
       "    <tr>\n",
       "      <th>2</th>\n",
       "      <td>B000G7LZCO</td>\n",
       "      <td>3.857143</td>\n",
       "      <td>3.714286</td>\n",
       "      <td>105.99</td>\n",
       "    </tr>\n",
       "    <tr>\n",
       "      <th>3</th>\n",
       "      <td>B000PEOLAG</td>\n",
       "      <td>4.000000</td>\n",
       "      <td>4.750000</td>\n",
       "      <td>74.98</td>\n",
       "    </tr>\n",
       "    <tr>\n",
       "      <th>4</th>\n",
       "      <td>B000WA1ESK</td>\n",
       "      <td>3.000000</td>\n",
       "      <td>4.333333</td>\n",
       "      <td>18.97</td>\n",
       "    </tr>\n",
       "  </tbody>\n",
       "</table>\n",
       "</div>"
      ],
      "text/plain": [
       "         asin       RSS  star_rating   price\n",
       "0  B000FYU4SO  3.200000     3.300000   17.99\n",
       "1  B000G2TLIO  3.500000     3.857143   27.57\n",
       "2  B000G7LZCO  3.857143     3.714286  105.99\n",
       "3  B000PEOLAG  4.000000     4.750000   74.98\n",
       "4  B000WA1ESK  3.000000     4.333333   18.97"
      ]
     },
     "execution_count": 107,
     "metadata": {},
     "output_type": "execute_result"
    }
   ],
   "source": [
    "scores_df.head()"
   ]
  },
  {
   "cell_type": "code",
   "execution_count": 108,
   "id": "d4507ee8-37cb-4352-b52f-ce80c215ab9e",
   "metadata": {},
   "outputs": [],
   "source": [
    "def extract_FSS(dict):\n",
    "    FSS = []\n",
    "    for e in dict:\n",
    "        values = [f for f in list(e['features'].values()) ]\n",
    "        mean = sum(values)/len(values) if len(values) != 0 else 1\n",
    "        FSS.append(mean)\n",
    "\n",
    "    return FSS"
   ]
  },
  {
   "cell_type": "code",
   "execution_count": 109,
   "id": "588b5638-e982-4da6-8f6d-063d76ce844d",
   "metadata": {},
   "outputs": [],
   "source": [
    "scores_df['FSS'] = extract_FSS(features_scores)"
   ]
  },
  {
   "cell_type": "code",
   "execution_count": 110,
   "id": "d4a8a81f-11d1-4eba-bb22-0383ad538d85",
   "metadata": {},
   "outputs": [
    {
     "data": {
      "text/html": [
       "<div>\n",
       "<style scoped>\n",
       "    .dataframe tbody tr th:only-of-type {\n",
       "        vertical-align: middle;\n",
       "    }\n",
       "\n",
       "    .dataframe tbody tr th {\n",
       "        vertical-align: top;\n",
       "    }\n",
       "\n",
       "    .dataframe thead th {\n",
       "        text-align: right;\n",
       "    }\n",
       "</style>\n",
       "<table border=\"1\" class=\"dataframe\">\n",
       "  <thead>\n",
       "    <tr style=\"text-align: right;\">\n",
       "      <th></th>\n",
       "      <th>asin</th>\n",
       "      <th>RSS</th>\n",
       "      <th>star_rating</th>\n",
       "      <th>price</th>\n",
       "      <th>FSS</th>\n",
       "    </tr>\n",
       "  </thead>\n",
       "  <tbody>\n",
       "    <tr>\n",
       "      <th>0</th>\n",
       "      <td>B000FYU4SO</td>\n",
       "      <td>3.200000</td>\n",
       "      <td>3.300000</td>\n",
       "      <td>17.99</td>\n",
       "      <td>3.060676</td>\n",
       "    </tr>\n",
       "    <tr>\n",
       "      <th>1</th>\n",
       "      <td>B000G2TLIO</td>\n",
       "      <td>3.500000</td>\n",
       "      <td>3.857143</td>\n",
       "      <td>27.57</td>\n",
       "      <td>3.373538</td>\n",
       "    </tr>\n",
       "    <tr>\n",
       "      <th>2</th>\n",
       "      <td>B000G7LZCO</td>\n",
       "      <td>3.857143</td>\n",
       "      <td>3.714286</td>\n",
       "      <td>105.99</td>\n",
       "      <td>3.491071</td>\n",
       "    </tr>\n",
       "    <tr>\n",
       "      <th>3</th>\n",
       "      <td>B000PEOLAG</td>\n",
       "      <td>4.000000</td>\n",
       "      <td>4.750000</td>\n",
       "      <td>74.98</td>\n",
       "      <td>3.634615</td>\n",
       "    </tr>\n",
       "    <tr>\n",
       "      <th>4</th>\n",
       "      <td>B000WA1ESK</td>\n",
       "      <td>3.000000</td>\n",
       "      <td>4.333333</td>\n",
       "      <td>18.97</td>\n",
       "      <td>3.400000</td>\n",
       "    </tr>\n",
       "    <tr>\n",
       "      <th>...</th>\n",
       "      <td>...</td>\n",
       "      <td>...</td>\n",
       "      <td>...</td>\n",
       "      <td>...</td>\n",
       "      <td>...</td>\n",
       "    </tr>\n",
       "    <tr>\n",
       "      <th>430</th>\n",
       "      <td>B01GQWT4SE</td>\n",
       "      <td>3.333333</td>\n",
       "      <td>3.583333</td>\n",
       "      <td>27.69</td>\n",
       "      <td>3.250000</td>\n",
       "    </tr>\n",
       "    <tr>\n",
       "      <th>431</th>\n",
       "      <td>B01GUFAFP8</td>\n",
       "      <td>3.000000</td>\n",
       "      <td>2.333333</td>\n",
       "      <td>16.00</td>\n",
       "      <td>3.270833</td>\n",
       "    </tr>\n",
       "    <tr>\n",
       "      <th>432</th>\n",
       "      <td>B01GWUXN5K</td>\n",
       "      <td>3.687500</td>\n",
       "      <td>3.750000</td>\n",
       "      <td>224.96</td>\n",
       "      <td>3.407841</td>\n",
       "    </tr>\n",
       "    <tr>\n",
       "      <th>433</th>\n",
       "      <td>B01GXAT0BK</td>\n",
       "      <td>3.775000</td>\n",
       "      <td>4.175000</td>\n",
       "      <td>40.08</td>\n",
       "      <td>3.292196</td>\n",
       "    </tr>\n",
       "    <tr>\n",
       "      <th>434</th>\n",
       "      <td>B01H93TCCM</td>\n",
       "      <td>3.500000</td>\n",
       "      <td>3.666667</td>\n",
       "      <td>96.64</td>\n",
       "      <td>3.388889</td>\n",
       "    </tr>\n",
       "  </tbody>\n",
       "</table>\n",
       "<p>435 rows × 5 columns</p>\n",
       "</div>"
      ],
      "text/plain": [
       "           asin       RSS  star_rating   price       FSS\n",
       "0    B000FYU4SO  3.200000     3.300000   17.99  3.060676\n",
       "1    B000G2TLIO  3.500000     3.857143   27.57  3.373538\n",
       "2    B000G7LZCO  3.857143     3.714286  105.99  3.491071\n",
       "3    B000PEOLAG  4.000000     4.750000   74.98  3.634615\n",
       "4    B000WA1ESK  3.000000     4.333333   18.97  3.400000\n",
       "..          ...       ...          ...     ...       ...\n",
       "430  B01GQWT4SE  3.333333     3.583333   27.69  3.250000\n",
       "431  B01GUFAFP8  3.000000     2.333333   16.00  3.270833\n",
       "432  B01GWUXN5K  3.687500     3.750000  224.96  3.407841\n",
       "433  B01GXAT0BK  3.775000     4.175000   40.08  3.292196\n",
       "434  B01H93TCCM  3.500000     3.666667   96.64  3.388889\n",
       "\n",
       "[435 rows x 5 columns]"
      ]
     },
     "execution_count": 110,
     "metadata": {},
     "output_type": "execute_result"
    }
   ],
   "source": [
    "scores_df"
   ]
  },
  {
   "cell_type": "code",
   "execution_count": 111,
   "id": "59f2920c-fce2-4fbf-82b9-1a209e036b0b",
   "metadata": {},
   "outputs": [
    {
     "data": {
      "text/html": [
       "<div>\n",
       "<style scoped>\n",
       "    .dataframe tbody tr th:only-of-type {\n",
       "        vertical-align: middle;\n",
       "    }\n",
       "\n",
       "    .dataframe tbody tr th {\n",
       "        vertical-align: top;\n",
       "    }\n",
       "\n",
       "    .dataframe thead th {\n",
       "        text-align: right;\n",
       "    }\n",
       "</style>\n",
       "<table border=\"1\" class=\"dataframe\">\n",
       "  <thead>\n",
       "    <tr style=\"text-align: right;\">\n",
       "      <th></th>\n",
       "      <th>RSS</th>\n",
       "      <th>star_rating</th>\n",
       "      <th>price</th>\n",
       "      <th>FSS</th>\n",
       "    </tr>\n",
       "  </thead>\n",
       "  <tbody>\n",
       "    <tr>\n",
       "      <th>count</th>\n",
       "      <td>435.000000</td>\n",
       "      <td>435.000000</td>\n",
       "      <td>435.000000</td>\n",
       "      <td>435.000000</td>\n",
       "    </tr>\n",
       "    <tr>\n",
       "      <th>mean</th>\n",
       "      <td>3.628308</td>\n",
       "      <td>3.884127</td>\n",
       "      <td>90.215448</td>\n",
       "      <td>3.384759</td>\n",
       "    </tr>\n",
       "    <tr>\n",
       "      <th>std</th>\n",
       "      <td>0.334324</td>\n",
       "      <td>0.598545</td>\n",
       "      <td>80.404575</td>\n",
       "      <td>0.293694</td>\n",
       "    </tr>\n",
       "    <tr>\n",
       "      <th>min</th>\n",
       "      <td>2.000000</td>\n",
       "      <td>1.000000</td>\n",
       "      <td>13.950000</td>\n",
       "      <td>2.000000</td>\n",
       "    </tr>\n",
       "    <tr>\n",
       "      <th>25%</th>\n",
       "      <td>3.444444</td>\n",
       "      <td>3.540568</td>\n",
       "      <td>40.080000</td>\n",
       "      <td>3.232367</td>\n",
       "    </tr>\n",
       "    <tr>\n",
       "      <th>50%</th>\n",
       "      <td>3.647059</td>\n",
       "      <td>3.895833</td>\n",
       "      <td>59.780000</td>\n",
       "      <td>3.374137</td>\n",
       "    </tr>\n",
       "    <tr>\n",
       "      <th>75%</th>\n",
       "      <td>3.800000</td>\n",
       "      <td>4.285714</td>\n",
       "      <td>117.410000</td>\n",
       "      <td>3.524211</td>\n",
       "    </tr>\n",
       "    <tr>\n",
       "      <th>max</th>\n",
       "      <td>4.666667</td>\n",
       "      <td>5.000000</td>\n",
       "      <td>550.780000</td>\n",
       "      <td>4.750000</td>\n",
       "    </tr>\n",
       "  </tbody>\n",
       "</table>\n",
       "</div>"
      ],
      "text/plain": [
       "              RSS  star_rating       price         FSS\n",
       "count  435.000000   435.000000  435.000000  435.000000\n",
       "mean     3.628308     3.884127   90.215448    3.384759\n",
       "std      0.334324     0.598545   80.404575    0.293694\n",
       "min      2.000000     1.000000   13.950000    2.000000\n",
       "25%      3.444444     3.540568   40.080000    3.232367\n",
       "50%      3.647059     3.895833   59.780000    3.374137\n",
       "75%      3.800000     4.285714  117.410000    3.524211\n",
       "max      4.666667     5.000000  550.780000    4.750000"
      ]
     },
     "execution_count": 111,
     "metadata": {},
     "output_type": "execute_result"
    }
   ],
   "source": [
    "scores_df.describe()"
   ]
  },
  {
   "cell_type": "code",
   "execution_count": 112,
   "id": "2cb205d0-01be-4d03-9dfb-a7d6a9c66dc8",
   "metadata": {},
   "outputs": [],
   "source": [
    "min_RSS = min(scores_df['RSS'])\n",
    "min_FSS = min(scores_df['FSS'])\n",
    "max_RSS = max(scores_df['RSS'])\n",
    "max_FSS = max(scores_df['FSS'])\n",
    "min_star = min(scores_df['star_rating'])\n",
    "max_star = max(scores_df['star_rating'])\n",
    "max_price = max(scores_df['price'])\n",
    "\n",
    "norm_RSS = (scores_df['RSS'] - min_RSS)/(max_RSS - min_RSS)\n",
    "norm_FSS = (scores_df['FSS'] - min_FSS)/(max_FSS - min_FSS)\n",
    "norm_star = (scores_df['star_rating'] - min_star)/(max_star - min_star)\n",
    "norm_price = (max_price - scores_df['price'] + 1)/max_price\n",
    "\n",
    "scores_df['global_score'] = norm_price * 0.3 + norm_star * 0.2 + norm_RSS * 0.25 + norm_FSS * 0.25\n",
    "    "
   ]
  },
  {
   "cell_type": "code",
   "execution_count": 113,
   "id": "81867b2b-4cc5-438e-899f-13b7fd7ca37f",
   "metadata": {},
   "outputs": [
    {
     "data": {
      "text/html": [
       "<div>\n",
       "<style scoped>\n",
       "    .dataframe tbody tr th:only-of-type {\n",
       "        vertical-align: middle;\n",
       "    }\n",
       "\n",
       "    .dataframe tbody tr th {\n",
       "        vertical-align: top;\n",
       "    }\n",
       "\n",
       "    .dataframe thead th {\n",
       "        text-align: right;\n",
       "    }\n",
       "</style>\n",
       "<table border=\"1\" class=\"dataframe\">\n",
       "  <thead>\n",
       "    <tr style=\"text-align: right;\">\n",
       "      <th></th>\n",
       "      <th>asin</th>\n",
       "      <th>RSS</th>\n",
       "      <th>star_rating</th>\n",
       "      <th>price</th>\n",
       "      <th>FSS</th>\n",
       "      <th>global_score</th>\n",
       "    </tr>\n",
       "  </thead>\n",
       "  <tbody>\n",
       "    <tr>\n",
       "      <th>271</th>\n",
       "      <td>B00NWRD6MC</td>\n",
       "      <td>4.666667</td>\n",
       "      <td>5.0</td>\n",
       "      <td>49.98</td>\n",
       "      <td>4.375000</td>\n",
       "      <td>0.939231</td>\n",
       "    </tr>\n",
       "    <tr>\n",
       "      <th>417</th>\n",
       "      <td>B01EVMZMZU</td>\n",
       "      <td>4.500000</td>\n",
       "      <td>5.0</td>\n",
       "      <td>59.16</td>\n",
       "      <td>4.444444</td>\n",
       "      <td>0.924919</td>\n",
       "    </tr>\n",
       "    <tr>\n",
       "      <th>105</th>\n",
       "      <td>B008LR0TWI</td>\n",
       "      <td>4.250000</td>\n",
       "      <td>5.0</td>\n",
       "      <td>27.57</td>\n",
       "      <td>4.428571</td>\n",
       "      <td>0.917245</td>\n",
       "    </tr>\n",
       "    <tr>\n",
       "      <th>84</th>\n",
       "      <td>B006JI3RKC</td>\n",
       "      <td>4.500000</td>\n",
       "      <td>5.0</td>\n",
       "      <td>59.00</td>\n",
       "      <td>4.166667</td>\n",
       "      <td>0.899753</td>\n",
       "    </tr>\n",
       "    <tr>\n",
       "      <th>45</th>\n",
       "      <td>B004Z2VEWC</td>\n",
       "      <td>4.333333</td>\n",
       "      <td>5.0</td>\n",
       "      <td>68.11</td>\n",
       "      <td>4.222222</td>\n",
       "      <td>0.884217</td>\n",
       "    </tr>\n",
       "  </tbody>\n",
       "</table>\n",
       "</div>"
      ],
      "text/plain": [
       "           asin       RSS  star_rating  price       FSS  global_score\n",
       "271  B00NWRD6MC  4.666667          5.0  49.98  4.375000      0.939231\n",
       "417  B01EVMZMZU  4.500000          5.0  59.16  4.444444      0.924919\n",
       "105  B008LR0TWI  4.250000          5.0  27.57  4.428571      0.917245\n",
       "84   B006JI3RKC  4.500000          5.0  59.00  4.166667      0.899753\n",
       "45   B004Z2VEWC  4.333333          5.0  68.11  4.222222      0.884217"
      ]
     },
     "execution_count": 113,
     "metadata": {},
     "output_type": "execute_result"
    }
   ],
   "source": [
    "#top 5 products by global score\n",
    "scores_df.sort_values(by='global_score', ascending=False)[:5]"
   ]
  },
  {
   "cell_type": "code",
   "execution_count": 114,
   "id": "1ec8d414-d142-49c7-b326-fa9efebffc20",
   "metadata": {},
   "outputs": [
    {
     "data": {
      "text/html": [
       "<div>\n",
       "<style scoped>\n",
       "    .dataframe tbody tr th:only-of-type {\n",
       "        vertical-align: middle;\n",
       "    }\n",
       "\n",
       "    .dataframe tbody tr th {\n",
       "        vertical-align: top;\n",
       "    }\n",
       "\n",
       "    .dataframe thead th {\n",
       "        text-align: right;\n",
       "    }\n",
       "</style>\n",
       "<table border=\"1\" class=\"dataframe\">\n",
       "  <thead>\n",
       "    <tr style=\"text-align: right;\">\n",
       "      <th></th>\n",
       "      <th>RSS</th>\n",
       "      <th>star_rating</th>\n",
       "      <th>price</th>\n",
       "      <th>FSS</th>\n",
       "      <th>global_score</th>\n",
       "    </tr>\n",
       "  </thead>\n",
       "  <tbody>\n",
       "    <tr>\n",
       "      <th>count</th>\n",
       "      <td>435.000000</td>\n",
       "      <td>435.000000</td>\n",
       "      <td>435.000000</td>\n",
       "      <td>435.000000</td>\n",
       "      <td>435.000000</td>\n",
       "    </tr>\n",
       "    <tr>\n",
       "      <th>mean</th>\n",
       "      <td>3.628308</td>\n",
       "      <td>3.884127</td>\n",
       "      <td>90.215448</td>\n",
       "      <td>3.384759</td>\n",
       "      <td>0.674153</td>\n",
       "    </tr>\n",
       "    <tr>\n",
       "      <th>std</th>\n",
       "      <td>0.334324</td>\n",
       "      <td>0.598545</td>\n",
       "      <td>80.404575</td>\n",
       "      <td>0.293694</td>\n",
       "      <td>0.081482</td>\n",
       "    </tr>\n",
       "    <tr>\n",
       "      <th>min</th>\n",
       "      <td>2.000000</td>\n",
       "      <td>1.000000</td>\n",
       "      <td>13.950000</td>\n",
       "      <td>2.000000</td>\n",
       "      <td>0.399799</td>\n",
       "    </tr>\n",
       "    <tr>\n",
       "      <th>25%</th>\n",
       "      <td>3.444444</td>\n",
       "      <td>3.540568</td>\n",
       "      <td>40.080000</td>\n",
       "      <td>3.232367</td>\n",
       "      <td>0.623902</td>\n",
       "    </tr>\n",
       "    <tr>\n",
       "      <th>50%</th>\n",
       "      <td>3.647059</td>\n",
       "      <td>3.895833</td>\n",
       "      <td>59.780000</td>\n",
       "      <td>3.374137</td>\n",
       "      <td>0.677075</td>\n",
       "    </tr>\n",
       "    <tr>\n",
       "      <th>75%</th>\n",
       "      <td>3.800000</td>\n",
       "      <td>4.285714</td>\n",
       "      <td>117.410000</td>\n",
       "      <td>3.524211</td>\n",
       "      <td>0.723334</td>\n",
       "    </tr>\n",
       "    <tr>\n",
       "      <th>max</th>\n",
       "      <td>4.666667</td>\n",
       "      <td>5.000000</td>\n",
       "      <td>550.780000</td>\n",
       "      <td>4.750000</td>\n",
       "      <td>0.939231</td>\n",
       "    </tr>\n",
       "  </tbody>\n",
       "</table>\n",
       "</div>"
      ],
      "text/plain": [
       "              RSS  star_rating       price         FSS  global_score\n",
       "count  435.000000   435.000000  435.000000  435.000000    435.000000\n",
       "mean     3.628308     3.884127   90.215448    3.384759      0.674153\n",
       "std      0.334324     0.598545   80.404575    0.293694      0.081482\n",
       "min      2.000000     1.000000   13.950000    2.000000      0.399799\n",
       "25%      3.444444     3.540568   40.080000    3.232367      0.623902\n",
       "50%      3.647059     3.895833   59.780000    3.374137      0.677075\n",
       "75%      3.800000     4.285714  117.410000    3.524211      0.723334\n",
       "max      4.666667     5.000000  550.780000    4.750000      0.939231"
      ]
     },
     "execution_count": 114,
     "metadata": {},
     "output_type": "execute_result"
    }
   ],
   "source": [
    "scores_df.describe()"
   ]
  },
  {
   "cell_type": "code",
   "execution_count": 115,
   "id": "6ddafe37-d2cb-4078-9d26-48b90836432b",
   "metadata": {},
   "outputs": [
    {
     "data": {
      "application/vnd.plotly.v1+json": {
       "config": {
        "plotlyServerURL": "https://plot.ly"
       },
       "data": [
        {
         "name": "RSS",
         "text": [
          4322,
          2952,
          1429,
          849,
          114
         ],
         "textposition": "auto",
         "type": "bar",
         "x": [
          4,
          3,
          5,
          2,
          1
         ],
         "y": [
          4322,
          2952,
          1429,
          849,
          114
         ]
        },
        {
         "name": "star_rating",
         "text": [
          5265,
          1554,
          1336,
          878,
          633
         ],
         "textposition": "auto",
         "type": "bar",
         "x": [
          5,
          4,
          1,
          3,
          2
         ],
         "y": [
          5265,
          1554,
          1336,
          878,
          633
         ]
        }
       ],
       "layout": {
        "autosize": true,
        "template": {
         "data": {
          "bar": [
           {
            "error_x": {
             "color": "#2a3f5f"
            },
            "error_y": {
             "color": "#2a3f5f"
            },
            "marker": {
             "line": {
              "color": "#E5ECF6",
              "width": 0.5
             },
             "pattern": {
              "fillmode": "overlay",
              "size": 10,
              "solidity": 0.2
             }
            },
            "type": "bar"
           }
          ],
          "barpolar": [
           {
            "marker": {
             "line": {
              "color": "#E5ECF6",
              "width": 0.5
             },
             "pattern": {
              "fillmode": "overlay",
              "size": 10,
              "solidity": 0.2
             }
            },
            "type": "barpolar"
           }
          ],
          "carpet": [
           {
            "aaxis": {
             "endlinecolor": "#2a3f5f",
             "gridcolor": "white",
             "linecolor": "white",
             "minorgridcolor": "white",
             "startlinecolor": "#2a3f5f"
            },
            "baxis": {
             "endlinecolor": "#2a3f5f",
             "gridcolor": "white",
             "linecolor": "white",
             "minorgridcolor": "white",
             "startlinecolor": "#2a3f5f"
            },
            "type": "carpet"
           }
          ],
          "choropleth": [
           {
            "colorbar": {
             "outlinewidth": 0,
             "ticks": ""
            },
            "type": "choropleth"
           }
          ],
          "contour": [
           {
            "colorbar": {
             "outlinewidth": 0,
             "ticks": ""
            },
            "colorscale": [
             [
              0,
              "#0d0887"
             ],
             [
              0.1111111111111111,
              "#46039f"
             ],
             [
              0.2222222222222222,
              "#7201a8"
             ],
             [
              0.3333333333333333,
              "#9c179e"
             ],
             [
              0.4444444444444444,
              "#bd3786"
             ],
             [
              0.5555555555555556,
              "#d8576b"
             ],
             [
              0.6666666666666666,
              "#ed7953"
             ],
             [
              0.7777777777777778,
              "#fb9f3a"
             ],
             [
              0.8888888888888888,
              "#fdca26"
             ],
             [
              1,
              "#f0f921"
             ]
            ],
            "type": "contour"
           }
          ],
          "contourcarpet": [
           {
            "colorbar": {
             "outlinewidth": 0,
             "ticks": ""
            },
            "type": "contourcarpet"
           }
          ],
          "heatmap": [
           {
            "colorbar": {
             "outlinewidth": 0,
             "ticks": ""
            },
            "colorscale": [
             [
              0,
              "#0d0887"
             ],
             [
              0.1111111111111111,
              "#46039f"
             ],
             [
              0.2222222222222222,
              "#7201a8"
             ],
             [
              0.3333333333333333,
              "#9c179e"
             ],
             [
              0.4444444444444444,
              "#bd3786"
             ],
             [
              0.5555555555555556,
              "#d8576b"
             ],
             [
              0.6666666666666666,
              "#ed7953"
             ],
             [
              0.7777777777777778,
              "#fb9f3a"
             ],
             [
              0.8888888888888888,
              "#fdca26"
             ],
             [
              1,
              "#f0f921"
             ]
            ],
            "type": "heatmap"
           }
          ],
          "heatmapgl": [
           {
            "colorbar": {
             "outlinewidth": 0,
             "ticks": ""
            },
            "colorscale": [
             [
              0,
              "#0d0887"
             ],
             [
              0.1111111111111111,
              "#46039f"
             ],
             [
              0.2222222222222222,
              "#7201a8"
             ],
             [
              0.3333333333333333,
              "#9c179e"
             ],
             [
              0.4444444444444444,
              "#bd3786"
             ],
             [
              0.5555555555555556,
              "#d8576b"
             ],
             [
              0.6666666666666666,
              "#ed7953"
             ],
             [
              0.7777777777777778,
              "#fb9f3a"
             ],
             [
              0.8888888888888888,
              "#fdca26"
             ],
             [
              1,
              "#f0f921"
             ]
            ],
            "type": "heatmapgl"
           }
          ],
          "histogram": [
           {
            "marker": {
             "pattern": {
              "fillmode": "overlay",
              "size": 10,
              "solidity": 0.2
             }
            },
            "type": "histogram"
           }
          ],
          "histogram2d": [
           {
            "colorbar": {
             "outlinewidth": 0,
             "ticks": ""
            },
            "colorscale": [
             [
              0,
              "#0d0887"
             ],
             [
              0.1111111111111111,
              "#46039f"
             ],
             [
              0.2222222222222222,
              "#7201a8"
             ],
             [
              0.3333333333333333,
              "#9c179e"
             ],
             [
              0.4444444444444444,
              "#bd3786"
             ],
             [
              0.5555555555555556,
              "#d8576b"
             ],
             [
              0.6666666666666666,
              "#ed7953"
             ],
             [
              0.7777777777777778,
              "#fb9f3a"
             ],
             [
              0.8888888888888888,
              "#fdca26"
             ],
             [
              1,
              "#f0f921"
             ]
            ],
            "type": "histogram2d"
           }
          ],
          "histogram2dcontour": [
           {
            "colorbar": {
             "outlinewidth": 0,
             "ticks": ""
            },
            "colorscale": [
             [
              0,
              "#0d0887"
             ],
             [
              0.1111111111111111,
              "#46039f"
             ],
             [
              0.2222222222222222,
              "#7201a8"
             ],
             [
              0.3333333333333333,
              "#9c179e"
             ],
             [
              0.4444444444444444,
              "#bd3786"
             ],
             [
              0.5555555555555556,
              "#d8576b"
             ],
             [
              0.6666666666666666,
              "#ed7953"
             ],
             [
              0.7777777777777778,
              "#fb9f3a"
             ],
             [
              0.8888888888888888,
              "#fdca26"
             ],
             [
              1,
              "#f0f921"
             ]
            ],
            "type": "histogram2dcontour"
           }
          ],
          "mesh3d": [
           {
            "colorbar": {
             "outlinewidth": 0,
             "ticks": ""
            },
            "type": "mesh3d"
           }
          ],
          "parcoords": [
           {
            "line": {
             "colorbar": {
              "outlinewidth": 0,
              "ticks": ""
             }
            },
            "type": "parcoords"
           }
          ],
          "pie": [
           {
            "automargin": true,
            "type": "pie"
           }
          ],
          "scatter": [
           {
            "fillpattern": {
             "fillmode": "overlay",
             "size": 10,
             "solidity": 0.2
            },
            "type": "scatter"
           }
          ],
          "scatter3d": [
           {
            "line": {
             "colorbar": {
              "outlinewidth": 0,
              "ticks": ""
             }
            },
            "marker": {
             "colorbar": {
              "outlinewidth": 0,
              "ticks": ""
             }
            },
            "type": "scatter3d"
           }
          ],
          "scattercarpet": [
           {
            "marker": {
             "colorbar": {
              "outlinewidth": 0,
              "ticks": ""
             }
            },
            "type": "scattercarpet"
           }
          ],
          "scattergeo": [
           {
            "marker": {
             "colorbar": {
              "outlinewidth": 0,
              "ticks": ""
             }
            },
            "type": "scattergeo"
           }
          ],
          "scattergl": [
           {
            "marker": {
             "colorbar": {
              "outlinewidth": 0,
              "ticks": ""
             }
            },
            "type": "scattergl"
           }
          ],
          "scattermapbox": [
           {
            "marker": {
             "colorbar": {
              "outlinewidth": 0,
              "ticks": ""
             }
            },
            "type": "scattermapbox"
           }
          ],
          "scatterpolar": [
           {
            "marker": {
             "colorbar": {
              "outlinewidth": 0,
              "ticks": ""
             }
            },
            "type": "scatterpolar"
           }
          ],
          "scatterpolargl": [
           {
            "marker": {
             "colorbar": {
              "outlinewidth": 0,
              "ticks": ""
             }
            },
            "type": "scatterpolargl"
           }
          ],
          "scatterternary": [
           {
            "marker": {
             "colorbar": {
              "outlinewidth": 0,
              "ticks": ""
             }
            },
            "type": "scatterternary"
           }
          ],
          "surface": [
           {
            "colorbar": {
             "outlinewidth": 0,
             "ticks": ""
            },
            "colorscale": [
             [
              0,
              "#0d0887"
             ],
             [
              0.1111111111111111,
              "#46039f"
             ],
             [
              0.2222222222222222,
              "#7201a8"
             ],
             [
              0.3333333333333333,
              "#9c179e"
             ],
             [
              0.4444444444444444,
              "#bd3786"
             ],
             [
              0.5555555555555556,
              "#d8576b"
             ],
             [
              0.6666666666666666,
              "#ed7953"
             ],
             [
              0.7777777777777778,
              "#fb9f3a"
             ],
             [
              0.8888888888888888,
              "#fdca26"
             ],
             [
              1,
              "#f0f921"
             ]
            ],
            "type": "surface"
           }
          ],
          "table": [
           {
            "cells": {
             "fill": {
              "color": "#EBF0F8"
             },
             "line": {
              "color": "white"
             }
            },
            "header": {
             "fill": {
              "color": "#C8D4E3"
             },
             "line": {
              "color": "white"
             }
            },
            "type": "table"
           }
          ]
         },
         "layout": {
          "annotationdefaults": {
           "arrowcolor": "#2a3f5f",
           "arrowhead": 0,
           "arrowwidth": 1
          },
          "autotypenumbers": "strict",
          "coloraxis": {
           "colorbar": {
            "outlinewidth": 0,
            "ticks": ""
           }
          },
          "colorscale": {
           "diverging": [
            [
             0,
             "#8e0152"
            ],
            [
             0.1,
             "#c51b7d"
            ],
            [
             0.2,
             "#de77ae"
            ],
            [
             0.3,
             "#f1b6da"
            ],
            [
             0.4,
             "#fde0ef"
            ],
            [
             0.5,
             "#f7f7f7"
            ],
            [
             0.6,
             "#e6f5d0"
            ],
            [
             0.7,
             "#b8e186"
            ],
            [
             0.8,
             "#7fbc41"
            ],
            [
             0.9,
             "#4d9221"
            ],
            [
             1,
             "#276419"
            ]
           ],
           "sequential": [
            [
             0,
             "#0d0887"
            ],
            [
             0.1111111111111111,
             "#46039f"
            ],
            [
             0.2222222222222222,
             "#7201a8"
            ],
            [
             0.3333333333333333,
             "#9c179e"
            ],
            [
             0.4444444444444444,
             "#bd3786"
            ],
            [
             0.5555555555555556,
             "#d8576b"
            ],
            [
             0.6666666666666666,
             "#ed7953"
            ],
            [
             0.7777777777777778,
             "#fb9f3a"
            ],
            [
             0.8888888888888888,
             "#fdca26"
            ],
            [
             1,
             "#f0f921"
            ]
           ],
           "sequentialminus": [
            [
             0,
             "#0d0887"
            ],
            [
             0.1111111111111111,
             "#46039f"
            ],
            [
             0.2222222222222222,
             "#7201a8"
            ],
            [
             0.3333333333333333,
             "#9c179e"
            ],
            [
             0.4444444444444444,
             "#bd3786"
            ],
            [
             0.5555555555555556,
             "#d8576b"
            ],
            [
             0.6666666666666666,
             "#ed7953"
            ],
            [
             0.7777777777777778,
             "#fb9f3a"
            ],
            [
             0.8888888888888888,
             "#fdca26"
            ],
            [
             1,
             "#f0f921"
            ]
           ]
          },
          "colorway": [
           "#636efa",
           "#EF553B",
           "#00cc96",
           "#ab63fa",
           "#FFA15A",
           "#19d3f3",
           "#FF6692",
           "#B6E880",
           "#FF97FF",
           "#FECB52"
          ],
          "font": {
           "color": "#2a3f5f"
          },
          "geo": {
           "bgcolor": "white",
           "lakecolor": "white",
           "landcolor": "#E5ECF6",
           "showlakes": true,
           "showland": true,
           "subunitcolor": "white"
          },
          "hoverlabel": {
           "align": "left"
          },
          "hovermode": "closest",
          "mapbox": {
           "style": "light"
          },
          "paper_bgcolor": "white",
          "plot_bgcolor": "#E5ECF6",
          "polar": {
           "angularaxis": {
            "gridcolor": "white",
            "linecolor": "white",
            "ticks": ""
           },
           "bgcolor": "#E5ECF6",
           "radialaxis": {
            "gridcolor": "white",
            "linecolor": "white",
            "ticks": ""
           }
          },
          "scene": {
           "xaxis": {
            "backgroundcolor": "#E5ECF6",
            "gridcolor": "white",
            "gridwidth": 2,
            "linecolor": "white",
            "showbackground": true,
            "ticks": "",
            "zerolinecolor": "white"
           },
           "yaxis": {
            "backgroundcolor": "#E5ECF6",
            "gridcolor": "white",
            "gridwidth": 2,
            "linecolor": "white",
            "showbackground": true,
            "ticks": "",
            "zerolinecolor": "white"
           },
           "zaxis": {
            "backgroundcolor": "#E5ECF6",
            "gridcolor": "white",
            "gridwidth": 2,
            "linecolor": "white",
            "showbackground": true,
            "ticks": "",
            "zerolinecolor": "white"
           }
          },
          "shapedefaults": {
           "line": {
            "color": "#2a3f5f"
           }
          },
          "ternary": {
           "aaxis": {
            "gridcolor": "white",
            "linecolor": "white",
            "ticks": ""
           },
           "baxis": {
            "gridcolor": "white",
            "linecolor": "white",
            "ticks": ""
           },
           "bgcolor": "#E5ECF6",
           "caxis": {
            "gridcolor": "white",
            "linecolor": "white",
            "ticks": ""
           }
          },
          "title": {
           "x": 0.05
          },
          "xaxis": {
           "automargin": true,
           "gridcolor": "white",
           "linecolor": "white",
           "ticks": "",
           "title": {
            "standoff": 15
           },
           "zerolinecolor": "white",
           "zerolinewidth": 2
          },
          "yaxis": {
           "automargin": true,
           "gridcolor": "white",
           "linecolor": "white",
           "ticks": "",
           "title": {
            "standoff": 15
           },
           "zerolinecolor": "white",
           "zerolinewidth": 2
          }
         }
        },
        "title": {
         "text": "star_rating vs RSS"
        },
        "xaxis": {
         "autorange": true,
         "range": [
          0.5,
          5.5
         ],
         "type": "linear"
        },
        "yaxis": {
         "autorange": true,
         "range": [
          0,
          5542.105263157895
         ],
         "type": "linear"
        }
       }
      },
      "image/png": "[encoded data removed]",
      "text/html": [
       "<div>                            <div id=\"040c0fb8-0d78-490b-8cde-4c0f38329bf4\" class=\"plotly-graph-div\" style=\"height:525px; width:100%;\"></div>            <script type=\"text/javascript\">                require([\"plotly\"], function(Plotly) {                    window.PLOTLYENV=window.PLOTLYENV || {};                                    if (document.getElementById(\"040c0fb8-0d78-490b-8cde-4c0f38329bf4\")) {                    Plotly.newPlot(                        \"040c0fb8-0d78-490b-8cde-4c0f38329bf4\",                        [{\"name\":\"RSS\",\"text\":[4322.0,2952.0,1429.0,849.0,114.0],\"textposition\":\"auto\",\"x\":[4,3,5,2,1],\"y\":[4322,2952,1429,849,114],\"type\":\"bar\"},{\"name\":\"star_rating\",\"text\":[5265.0,1554.0,1336.0,878.0,633.0],\"textposition\":\"auto\",\"x\":[5.0,4.0,1.0,3.0,2.0],\"y\":[5265,1554,1336,878,633],\"type\":\"bar\"}],                        {\"template\":{\"data\":{\"histogram2dcontour\":[{\"type\":\"histogram2dcontour\",\"colorbar\":{\"outlinewidth\":0,\"ticks\":\"\"},\"colorscale\":[[0.0,\"#0d0887\"],[0.1111111111111111,\"#46039f\"],[0.2222222222222222,\"#7201a8\"],[0.3333333333333333,\"#9c179e\"],[0.4444444444444444,\"#bd3786\"],[0.5555555555555556,\"#d8576b\"],[0.6666666666666666,\"#ed7953\"],[0.7777777777777778,\"#fb9f3a\"],[0.8888888888888888,\"#fdca26\"],[1.0,\"#f0f921\"]]}],\"choropleth\":[{\"type\":\"choropleth\",\"colorbar\":{\"outlinewidth\":0,\"ticks\":\"\"}}],\"histogram2d\":[{\"type\":\"histogram2d\",\"colorbar\":{\"outlinewidth\":0,\"ticks\":\"\"},\"colorscale\":[[0.0,\"#0d0887\"],[0.1111111111111111,\"#46039f\"],[0.2222222222222222,\"#7201a8\"],[0.3333333333333333,\"#9c179e\"],[0.4444444444444444,\"#bd3786\"],[0.5555555555555556,\"#d8576b\"],[0.6666666666666666,\"#ed7953\"],[0.7777777777777778,\"#fb9f3a\"],[0.8888888888888888,\"#fdca26\"],[1.0,\"#f0f921\"]]}],\"heatmap\":[{\"type\":\"heatmap\",\"colorbar\":{\"outlinewidth\":0,\"ticks\":\"\"},\"colorscale\":[[0.0,\"#0d0887\"],[0.1111111111111111,\"#46039f\"],[0.2222222222222222,\"#7201a8\"],[0.3333333333333333,\"#9c179e\"],[0.4444444444444444,\"#bd3786\"],[0.5555555555555556,\"#d8576b\"],[0.6666666666666666,\"#ed7953\"],[0.7777777777777778,\"#fb9f3a\"],[0.8888888888888888,\"#fdca26\"],[1.0,\"#f0f921\"]]}],\"heatmapgl\":[{\"type\":\"heatmapgl\",\"colorbar\":{\"outlinewidth\":0,\"ticks\":\"\"},\"colorscale\":[[0.0,\"#0d0887\"],[0.1111111111111111,\"#46039f\"],[0.2222222222222222,\"#7201a8\"],[0.3333333333333333,\"#9c179e\"],[0.4444444444444444,\"#bd3786\"],[0.5555555555555556,\"#d8576b\"],[0.6666666666666666,\"#ed7953\"],[0.7777777777777778,\"#fb9f3a\"],[0.8888888888888888,\"#fdca26\"],[1.0,\"#f0f921\"]]}],\"contourcarpet\":[{\"type\":\"contourcarpet\",\"colorbar\":{\"outlinewidth\":0,\"ticks\":\"\"}}],\"contour\":[{\"type\":\"contour\",\"colorbar\":{\"outlinewidth\":0,\"ticks\":\"\"},\"colorscale\":[[0.0,\"#0d0887\"],[0.1111111111111111,\"#46039f\"],[0.2222222222222222,\"#7201a8\"],[0.3333333333333333,\"#9c179e\"],[0.4444444444444444,\"#bd3786\"],[0.5555555555555556,\"#d8576b\"],[0.6666666666666666,\"#ed7953\"],[0.7777777777777778,\"#fb9f3a\"],[0.8888888888888888,\"#fdca26\"],[1.0,\"#f0f921\"]]}],\"surface\":[{\"type\":\"surface\",\"colorbar\":{\"outlinewidth\":0,\"ticks\":\"\"},\"colorscale\":[[0.0,\"#0d0887\"],[0.1111111111111111,\"#46039f\"],[0.2222222222222222,\"#7201a8\"],[0.3333333333333333,\"#9c179e\"],[0.4444444444444444,\"#bd3786\"],[0.5555555555555556,\"#d8576b\"],[0.6666666666666666,\"#ed7953\"],[0.7777777777777778,\"#fb9f3a\"],[0.8888888888888888,\"#fdca26\"],[1.0,\"#f0f921\"]]}],\"mesh3d\":[{\"type\":\"mesh3d\",\"colorbar\":{\"outlinewidth\":0,\"ticks\":\"\"}}],\"scatter\":[{\"fillpattern\":{\"fillmode\":\"overlay\",\"size\":10,\"solidity\":0.2},\"type\":\"scatter\"}],\"parcoords\":[{\"type\":\"parcoords\",\"line\":{\"colorbar\":{\"outlinewidth\":0,\"ticks\":\"\"}}}],\"scatterpolargl\":[{\"type\":\"scatterpolargl\",\"marker\":{\"colorbar\":{\"outlinewidth\":0,\"ticks\":\"\"}}}],\"bar\":[{\"error_x\":{\"color\":\"#2a3f5f\"},\"error_y\":{\"color\":\"#2a3f5f\"},\"marker\":{\"line\":{\"color\":\"#E5ECF6\",\"width\":0.5},\"pattern\":{\"fillmode\":\"overlay\",\"size\":10,\"solidity\":0.2}},\"type\":\"bar\"}],\"scattergeo\":[{\"type\":\"scattergeo\",\"marker\":{\"colorbar\":{\"outlinewidth\":0,\"ticks\":\"\"}}}],\"scatterpolar\":[{\"type\":\"scatterpolar\",\"marker\":{\"colorbar\":{\"outlinewidth\":0,\"ticks\":\"\"}}}],\"histogram\":[{\"marker\":{\"pattern\":{\"fillmode\":\"overlay\",\"size\":10,\"solidity\":0.2}},\"type\":\"histogram\"}],\"scattergl\":[{\"type\":\"scattergl\",\"marker\":{\"colorbar\":{\"outlinewidth\":0,\"ticks\":\"\"}}}],\"scatter3d\":[{\"type\":\"scatter3d\",\"line\":{\"colorbar\":{\"outlinewidth\":0,\"ticks\":\"\"}},\"marker\":{\"colorbar\":{\"outlinewidth\":0,\"ticks\":\"\"}}}],\"scattermapbox\":[{\"type\":\"scattermapbox\",\"marker\":{\"colorbar\":{\"outlinewidth\":0,\"ticks\":\"\"}}}],\"scatterternary\":[{\"type\":\"scatterternary\",\"marker\":{\"colorbar\":{\"outlinewidth\":0,\"ticks\":\"\"}}}],\"scattercarpet\":[{\"type\":\"scattercarpet\",\"marker\":{\"colorbar\":{\"outlinewidth\":0,\"ticks\":\"\"}}}],\"carpet\":[{\"aaxis\":{\"endlinecolor\":\"#2a3f5f\",\"gridcolor\":\"white\",\"linecolor\":\"white\",\"minorgridcolor\":\"white\",\"startlinecolor\":\"#2a3f5f\"},\"baxis\":{\"endlinecolor\":\"#2a3f5f\",\"gridcolor\":\"white\",\"linecolor\":\"white\",\"minorgridcolor\":\"white\",\"startlinecolor\":\"#2a3f5f\"},\"type\":\"carpet\"}],\"table\":[{\"cells\":{\"fill\":{\"color\":\"#EBF0F8\"},\"line\":{\"color\":\"white\"}},\"header\":{\"fill\":{\"color\":\"#C8D4E3\"},\"line\":{\"color\":\"white\"}},\"type\":\"table\"}],\"barpolar\":[{\"marker\":{\"line\":{\"color\":\"#E5ECF6\",\"width\":0.5},\"pattern\":{\"fillmode\":\"overlay\",\"size\":10,\"solidity\":0.2}},\"type\":\"barpolar\"}],\"pie\":[{\"automargin\":true,\"type\":\"pie\"}]},\"layout\":{\"autotypenumbers\":\"strict\",\"colorway\":[\"#636efa\",\"#EF553B\",\"#00cc96\",\"#ab63fa\",\"#FFA15A\",\"#19d3f3\",\"#FF6692\",\"#B6E880\",\"#FF97FF\",\"#FECB52\"],\"font\":{\"color\":\"#2a3f5f\"},\"hovermode\":\"closest\",\"hoverlabel\":{\"align\":\"left\"},\"paper_bgcolor\":\"white\",\"plot_bgcolor\":\"#E5ECF6\",\"polar\":{\"bgcolor\":\"#E5ECF6\",\"angularaxis\":{\"gridcolor\":\"white\",\"linecolor\":\"white\",\"ticks\":\"\"},\"radialaxis\":{\"gridcolor\":\"white\",\"linecolor\":\"white\",\"ticks\":\"\"}},\"ternary\":{\"bgcolor\":\"#E5ECF6\",\"aaxis\":{\"gridcolor\":\"white\",\"linecolor\":\"white\",\"ticks\":\"\"},\"baxis\":{\"gridcolor\":\"white\",\"linecolor\":\"white\",\"ticks\":\"\"},\"caxis\":{\"gridcolor\":\"white\",\"linecolor\":\"white\",\"ticks\":\"\"}},\"coloraxis\":{\"colorbar\":{\"outlinewidth\":0,\"ticks\":\"\"}},\"colorscale\":{\"sequential\":[[0.0,\"#0d0887\"],[0.1111111111111111,\"#46039f\"],[0.2222222222222222,\"#7201a8\"],[0.3333333333333333,\"#9c179e\"],[0.4444444444444444,\"#bd3786\"],[0.5555555555555556,\"#d8576b\"],[0.6666666666666666,\"#ed7953\"],[0.7777777777777778,\"#fb9f3a\"],[0.8888888888888888,\"#fdca26\"],[1.0,\"#f0f921\"]],\"sequentialminus\":[[0.0,\"#0d0887\"],[0.1111111111111111,\"#46039f\"],[0.2222222222222222,\"#7201a8\"],[0.3333333333333333,\"#9c179e\"],[0.4444444444444444,\"#bd3786\"],[0.5555555555555556,\"#d8576b\"],[0.6666666666666666,\"#ed7953\"],[0.7777777777777778,\"#fb9f3a\"],[0.8888888888888888,\"#fdca26\"],[1.0,\"#f0f921\"]],\"diverging\":[[0,\"#8e0152\"],[0.1,\"#c51b7d\"],[0.2,\"#de77ae\"],[0.3,\"#f1b6da\"],[0.4,\"#fde0ef\"],[0.5,\"#f7f7f7\"],[0.6,\"#e6f5d0\"],[0.7,\"#b8e186\"],[0.8,\"#7fbc41\"],[0.9,\"#4d9221\"],[1,\"#276419\"]]},\"xaxis\":{\"gridcolor\":\"white\",\"linecolor\":\"white\",\"ticks\":\"\",\"title\":{\"standoff\":15},\"zerolinecolor\":\"white\",\"automargin\":true,\"zerolinewidth\":2},\"yaxis\":{\"gridcolor\":\"white\",\"linecolor\":\"white\",\"ticks\":\"\",\"title\":{\"standoff\":15},\"zerolinecolor\":\"white\",\"automargin\":true,\"zerolinewidth\":2},\"scene\":{\"xaxis\":{\"backgroundcolor\":\"#E5ECF6\",\"gridcolor\":\"white\",\"linecolor\":\"white\",\"showbackground\":true,\"ticks\":\"\",\"zerolinecolor\":\"white\",\"gridwidth\":2},\"yaxis\":{\"backgroundcolor\":\"#E5ECF6\",\"gridcolor\":\"white\",\"linecolor\":\"white\",\"showbackground\":true,\"ticks\":\"\",\"zerolinecolor\":\"white\",\"gridwidth\":2},\"zaxis\":{\"backgroundcolor\":\"#E5ECF6\",\"gridcolor\":\"white\",\"linecolor\":\"white\",\"showbackground\":true,\"ticks\":\"\",\"zerolinecolor\":\"white\",\"gridwidth\":2}},\"shapedefaults\":{\"line\":{\"color\":\"#2a3f5f\"}},\"annotationdefaults\":{\"arrowcolor\":\"#2a3f5f\",\"arrowhead\":0,\"arrowwidth\":1},\"geo\":{\"bgcolor\":\"white\",\"landcolor\":\"#E5ECF6\",\"subunitcolor\":\"white\",\"showland\":true,\"showlakes\":true,\"lakecolor\":\"white\"},\"title\":{\"x\":0.05},\"mapbox\":{\"style\":\"light\"}}},\"title\":{\"text\":\"star_rating vs RSS\"}},                        {\"responsive\": true}                    ).then(function(){\n",
       "                            \n",
       "var gd = document.getElementById('040c0fb8-0d78-490b-8cde-4c0f38329bf4');\n",
       "var x = new MutationObserver(function (mutations, observer) {{\n",
       "        var display = window.getComputedStyle(gd).display;\n",
       "        if (!display || display === 'none') {{\n",
       "            console.log([gd, 'removed!']);\n",
       "            Plotly.purge(gd);\n",
       "            observer.disconnect();\n",
       "        }}\n",
       "}});\n",
       "\n",
       "// Listen for the removal of the full notebook cells\n",
       "var notebookContainer = gd.closest('#notebook-container');\n",
       "if (notebookContainer) {{\n",
       "    x.observe(notebookContainer, {childList: true});\n",
       "}}\n",
       "\n",
       "// Listen for the clearing of the current output cell\n",
       "var outputEl = gd.closest('.output');\n",
       "if (outputEl) {{\n",
       "    x.observe(outputEl, {childList: true});\n",
       "}}\n",
       "\n",
       "                        })                };                });            </script>        </div>"
      ]
     },
     "metadata": {},
     "output_type": "display_data"
    }
   ],
   "source": [
    "overall_counts = dataset['overall'].value_counts()\n",
    "RSS_counts = dataset['RSS'].value_counts()\n",
    "\n",
    "fig = go.Figure()\n",
    "\n",
    "fig.add_trace(go.Bar(x=RSS_counts.index, y=RSS_counts.values,\n",
    "                #base=[-500,-600,-700],\n",
    "                #marker_color='green',\n",
    "                text=RSS_counts.values,\n",
    "                name='RSS',\n",
    "                #texttemplate='%{text:.2f}',\n",
    "                textposition='auto',\n",
    "                ))\n",
    "fig.add_trace(go.Bar(x=overall_counts.index, y=overall_counts.values,\n",
    "                #base=[-500,-600,-700],\n",
    "                #marker_color='green',\n",
    "                text=overall_counts.values,\n",
    "                name='star_rating',\n",
    "                #texttemplate='%{text:.2f}',\n",
    "                textposition='auto',\n",
    "                ))\n",
    "\n",
    "\n",
    "fig.update_layout(\n",
    "    title = 'star_rating vs RSS'\n",
    ")\n",
    "fig.show()"
   ]
  },
  {
   "cell_type": "code",
   "execution_count": 116,
   "id": "54cb6b78-7b99-439b-9e6b-627f855381be",
   "metadata": {},
   "outputs": [
    {
     "data": {
      "application/vnd.plotly.v1+json": {
       "config": {
        "plotlyServerURL": "https://plot.ly"
       },
       "data": [
        {
         "name": "RSS products",
         "text": [
          313,
          119,
          2,
          1
         ],
         "textposition": "auto",
         "type": "bar",
         "x": [
          4,
          3,
          2,
          5
         ],
         "y": [
          313,
          119,
          2,
          1
         ]
        },
        {
         "name": "star_rating products",
         "text": [
          289,
          78,
          57,
          9,
          2
         ],
         "textposition": "auto",
         "type": "bar",
         "x": [
          4,
          3,
          5,
          2,
          1
         ],
         "y": [
          289,
          78,
          57,
          9,
          2
         ]
        }
       ],
       "layout": {
        "autosize": true,
        "template": {
         "data": {
          "bar": [
           {
            "error_x": {
             "color": "#2a3f5f"
            },
            "error_y": {
             "color": "#2a3f5f"
            },
            "marker": {
             "line": {
              "color": "#E5ECF6",
              "width": 0.5
             },
             "pattern": {
              "fillmode": "overlay",
              "size": 10,
              "solidity": 0.2
             }
            },
            "type": "bar"
           }
          ],
          "barpolar": [
           {
            "marker": {
             "line": {
              "color": "#E5ECF6",
              "width": 0.5
             },
             "pattern": {
              "fillmode": "overlay",
              "size": 10,
              "solidity": 0.2
             }
            },
            "type": "barpolar"
           }
          ],
          "carpet": [
           {
            "aaxis": {
             "endlinecolor": "#2a3f5f",
             "gridcolor": "white",
             "linecolor": "white",
             "minorgridcolor": "white",
             "startlinecolor": "#2a3f5f"
            },
            "baxis": {
             "endlinecolor": "#2a3f5f",
             "gridcolor": "white",
             "linecolor": "white",
             "minorgridcolor": "white",
             "startlinecolor": "#2a3f5f"
            },
            "type": "carpet"
           }
          ],
          "choropleth": [
           {
            "colorbar": {
             "outlinewidth": 0,
             "ticks": ""
            },
            "type": "choropleth"
           }
          ],
          "contour": [
           {
            "colorbar": {
             "outlinewidth": 0,
             "ticks": ""
            },
            "colorscale": [
             [
              0,
              "#0d0887"
             ],
             [
              0.1111111111111111,
              "#46039f"
             ],
             [
              0.2222222222222222,
              "#7201a8"
             ],
             [
              0.3333333333333333,
              "#9c179e"
             ],
             [
              0.4444444444444444,
              "#bd3786"
             ],
             [
              0.5555555555555556,
              "#d8576b"
             ],
             [
              0.6666666666666666,
              "#ed7953"
             ],
             [
              0.7777777777777778,
              "#fb9f3a"
             ],
             [
              0.8888888888888888,
              "#fdca26"
             ],
             [
              1,
              "#f0f921"
             ]
            ],
            "type": "contour"
           }
          ],
          "contourcarpet": [
           {
            "colorbar": {
             "outlinewidth": 0,
             "ticks": ""
            },
            "type": "contourcarpet"
           }
          ],
          "heatmap": [
           {
            "colorbar": {
             "outlinewidth": 0,
             "ticks": ""
            },
            "colorscale": [
             [
              0,
              "#0d0887"
             ],
             [
              0.1111111111111111,
              "#46039f"
             ],
             [
              0.2222222222222222,
              "#7201a8"
             ],
             [
              0.3333333333333333,
              "#9c179e"
             ],
             [
              0.4444444444444444,
              "#bd3786"
             ],
             [
              0.5555555555555556,
              "#d8576b"
             ],
             [
              0.6666666666666666,
              "#ed7953"
             ],
             [
              0.7777777777777778,
              "#fb9f3a"
             ],
             [
              0.8888888888888888,
              "#fdca26"
             ],
             [
              1,
              "#f0f921"
             ]
            ],
            "type": "heatmap"
           }
          ],
          "heatmapgl": [
           {
            "colorbar": {
             "outlinewidth": 0,
             "ticks": ""
            },
            "colorscale": [
             [
              0,
              "#0d0887"
             ],
             [
              0.1111111111111111,
              "#46039f"
             ],
             [
              0.2222222222222222,
              "#7201a8"
             ],
             [
              0.3333333333333333,
              "#9c179e"
             ],
             [
              0.4444444444444444,
              "#bd3786"
             ],
             [
              0.5555555555555556,
              "#d8576b"
             ],
             [
              0.6666666666666666,
              "#ed7953"
             ],
             [
              0.7777777777777778,
              "#fb9f3a"
             ],
             [
              0.8888888888888888,
              "#fdca26"
             ],
             [
              1,
              "#f0f921"
             ]
            ],
            "type": "heatmapgl"
           }
          ],
          "histogram": [
           {
            "marker": {
             "pattern": {
              "fillmode": "overlay",
              "size": 10,
              "solidity": 0.2
             }
            },
            "type": "histogram"
           }
          ],
          "histogram2d": [
           {
            "colorbar": {
             "outlinewidth": 0,
             "ticks": ""
            },
            "colorscale": [
             [
              0,
              "#0d0887"
             ],
             [
              0.1111111111111111,
              "#46039f"
             ],
             [
              0.2222222222222222,
              "#7201a8"
             ],
             [
              0.3333333333333333,
              "#9c179e"
             ],
             [
              0.4444444444444444,
              "#bd3786"
             ],
             [
              0.5555555555555556,
              "#d8576b"
             ],
             [
              0.6666666666666666,
              "#ed7953"
             ],
             [
              0.7777777777777778,
              "#fb9f3a"
             ],
             [
              0.8888888888888888,
              "#fdca26"
             ],
             [
              1,
              "#f0f921"
             ]
            ],
            "type": "histogram2d"
           }
          ],
          "histogram2dcontour": [
           {
            "colorbar": {
             "outlinewidth": 0,
             "ticks": ""
            },
            "colorscale": [
             [
              0,
              "#0d0887"
             ],
             [
              0.1111111111111111,
              "#46039f"
             ],
             [
              0.2222222222222222,
              "#7201a8"
             ],
             [
              0.3333333333333333,
              "#9c179e"
             ],
             [
              0.4444444444444444,
              "#bd3786"
             ],
             [
              0.5555555555555556,
              "#d8576b"
             ],
             [
              0.6666666666666666,
              "#ed7953"
             ],
             [
              0.7777777777777778,
              "#fb9f3a"
             ],
             [
              0.8888888888888888,
              "#fdca26"
             ],
             [
              1,
              "#f0f921"
             ]
            ],
            "type": "histogram2dcontour"
           }
          ],
          "mesh3d": [
           {
            "colorbar": {
             "outlinewidth": 0,
             "ticks": ""
            },
            "type": "mesh3d"
           }
          ],
          "parcoords": [
           {
            "line": {
             "colorbar": {
              "outlinewidth": 0,
              "ticks": ""
             }
            },
            "type": "parcoords"
           }
          ],
          "pie": [
           {
            "automargin": true,
            "type": "pie"
           }
          ],
          "scatter": [
           {
            "fillpattern": {
             "fillmode": "overlay",
             "size": 10,
             "solidity": 0.2
            },
            "type": "scatter"
           }
          ],
          "scatter3d": [
           {
            "line": {
             "colorbar": {
              "outlinewidth": 0,
              "ticks": ""
             }
            },
            "marker": {
             "colorbar": {
              "outlinewidth": 0,
              "ticks": ""
             }
            },
            "type": "scatter3d"
           }
          ],
          "scattercarpet": [
           {
            "marker": {
             "colorbar": {
              "outlinewidth": 0,
              "ticks": ""
             }
            },
            "type": "scattercarpet"
           }
          ],
          "scattergeo": [
           {
            "marker": {
             "colorbar": {
              "outlinewidth": 0,
              "ticks": ""
             }
            },
            "type": "scattergeo"
           }
          ],
          "scattergl": [
           {
            "marker": {
             "colorbar": {
              "outlinewidth": 0,
              "ticks": ""
             }
            },
            "type": "scattergl"
           }
          ],
          "scattermapbox": [
           {
            "marker": {
             "colorbar": {
              "outlinewidth": 0,
              "ticks": ""
             }
            },
            "type": "scattermapbox"
           }
          ],
          "scatterpolar": [
           {
            "marker": {
             "colorbar": {
              "outlinewidth": 0,
              "ticks": ""
             }
            },
            "type": "scatterpolar"
           }
          ],
          "scatterpolargl": [
           {
            "marker": {
             "colorbar": {
              "outlinewidth": 0,
              "ticks": ""
             }
            },
            "type": "scatterpolargl"
           }
          ],
          "scatterternary": [
           {
            "marker": {
             "colorbar": {
              "outlinewidth": 0,
              "ticks": ""
             }
            },
            "type": "scatterternary"
           }
          ],
          "surface": [
           {
            "colorbar": {
             "outlinewidth": 0,
             "ticks": ""
            },
            "colorscale": [
             [
              0,
              "#0d0887"
             ],
             [
              0.1111111111111111,
              "#46039f"
             ],
             [
              0.2222222222222222,
              "#7201a8"
             ],
             [
              0.3333333333333333,
              "#9c179e"
             ],
             [
              0.4444444444444444,
              "#bd3786"
             ],
             [
              0.5555555555555556,
              "#d8576b"
             ],
             [
              0.6666666666666666,
              "#ed7953"
             ],
             [
              0.7777777777777778,
              "#fb9f3a"
             ],
             [
              0.8888888888888888,
              "#fdca26"
             ],
             [
              1,
              "#f0f921"
             ]
            ],
            "type": "surface"
           }
          ],
          "table": [
           {
            "cells": {
             "fill": {
              "color": "#EBF0F8"
             },
             "line": {
              "color": "white"
             }
            },
            "header": {
             "fill": {
              "color": "#C8D4E3"
             },
             "line": {
              "color": "white"
             }
            },
            "type": "table"
           }
          ]
         },
         "layout": {
          "annotationdefaults": {
           "arrowcolor": "#2a3f5f",
           "arrowhead": 0,
           "arrowwidth": 1
          },
          "autotypenumbers": "strict",
          "coloraxis": {
           "colorbar": {
            "outlinewidth": 0,
            "ticks": ""
           }
          },
          "colorscale": {
           "diverging": [
            [
             0,
             "#8e0152"
            ],
            [
             0.1,
             "#c51b7d"
            ],
            [
             0.2,
             "#de77ae"
            ],
            [
             0.3,
             "#f1b6da"
            ],
            [
             0.4,
             "#fde0ef"
            ],
            [
             0.5,
             "#f7f7f7"
            ],
            [
             0.6,
             "#e6f5d0"
            ],
            [
             0.7,
             "#b8e186"
            ],
            [
             0.8,
             "#7fbc41"
            ],
            [
             0.9,
             "#4d9221"
            ],
            [
             1,
             "#276419"
            ]
           ],
           "sequential": [
            [
             0,
             "#0d0887"
            ],
            [
             0.1111111111111111,
             "#46039f"
            ],
            [
             0.2222222222222222,
             "#7201a8"
            ],
            [
             0.3333333333333333,
             "#9c179e"
            ],
            [
             0.4444444444444444,
             "#bd3786"
            ],
            [
             0.5555555555555556,
             "#d8576b"
            ],
            [
             0.6666666666666666,
             "#ed7953"
            ],
            [
             0.7777777777777778,
             "#fb9f3a"
            ],
            [
             0.8888888888888888,
             "#fdca26"
            ],
            [
             1,
             "#f0f921"
            ]
           ],
           "sequentialminus": [
            [
             0,
             "#0d0887"
            ],
            [
             0.1111111111111111,
             "#46039f"
            ],
            [
             0.2222222222222222,
             "#7201a8"
            ],
            [
             0.3333333333333333,
             "#9c179e"
            ],
            [
             0.4444444444444444,
             "#bd3786"
            ],
            [
             0.5555555555555556,
             "#d8576b"
            ],
            [
             0.6666666666666666,
             "#ed7953"
            ],
            [
             0.7777777777777778,
             "#fb9f3a"
            ],
            [
             0.8888888888888888,
             "#fdca26"
            ],
            [
             1,
             "#f0f921"
            ]
           ]
          },
          "colorway": [
           "#636efa",
           "#EF553B",
           "#00cc96",
           "#ab63fa",
           "#FFA15A",
           "#19d3f3",
           "#FF6692",
           "#B6E880",
           "#FF97FF",
           "#FECB52"
          ],
          "font": {
           "color": "#2a3f5f"
          },
          "geo": {
           "bgcolor": "white",
           "lakecolor": "white",
           "landcolor": "#E5ECF6",
           "showlakes": true,
           "showland": true,
           "subunitcolor": "white"
          },
          "hoverlabel": {
           "align": "left"
          },
          "hovermode": "closest",
          "mapbox": {
           "style": "light"
          },
          "paper_bgcolor": "white",
          "plot_bgcolor": "#E5ECF6",
          "polar": {
           "angularaxis": {
            "gridcolor": "white",
            "linecolor": "white",
            "ticks": ""
           },
           "bgcolor": "#E5ECF6",
           "radialaxis": {
            "gridcolor": "white",
            "linecolor": "white",
            "ticks": ""
           }
          },
          "scene": {
           "xaxis": {
            "backgroundcolor": "#E5ECF6",
            "gridcolor": "white",
            "gridwidth": 2,
            "linecolor": "white",
            "showbackground": true,
            "ticks": "",
            "zerolinecolor": "white"
           },
           "yaxis": {
            "backgroundcolor": "#E5ECF6",
            "gridcolor": "white",
            "gridwidth": 2,
            "linecolor": "white",
            "showbackground": true,
            "ticks": "",
            "zerolinecolor": "white"
           },
           "zaxis": {
            "backgroundcolor": "#E5ECF6",
            "gridcolor": "white",
            "gridwidth": 2,
            "linecolor": "white",
            "showbackground": true,
            "ticks": "",
            "zerolinecolor": "white"
           }
          },
          "shapedefaults": {
           "line": {
            "color": "#2a3f5f"
           }
          },
          "ternary": {
           "aaxis": {
            "gridcolor": "white",
            "linecolor": "white",
            "ticks": ""
           },
           "baxis": {
            "gridcolor": "white",
            "linecolor": "white",
            "ticks": ""
           },
           "bgcolor": "#E5ECF6",
           "caxis": {
            "gridcolor": "white",
            "linecolor": "white",
            "ticks": ""
           }
          },
          "title": {
           "x": 0.05
          },
          "xaxis": {
           "automargin": true,
           "gridcolor": "white",
           "linecolor": "white",
           "ticks": "",
           "title": {
            "standoff": 15
           },
           "zerolinecolor": "white",
           "zerolinewidth": 2
          },
          "yaxis": {
           "automargin": true,
           "gridcolor": "white",
           "linecolor": "white",
           "ticks": "",
           "title": {
            "standoff": 15
           },
           "zerolinecolor": "white",
           "zerolinewidth": 2
          }
         }
        },
        "title": {
         "text": "star_rating products vs RSS products"
        },
        "xaxis": {
         "autorange": true,
         "range": [
          0.5,
          5.5
         ],
         "type": "linear"
        },
        "yaxis": {
         "autorange": true,
         "range": [
          0,
          329.4736842105263
         ],
         "type": "linear"
        }
       }
      },
      "image/png": "[encoded data removed]",
      "text/html": [
       "<div>                            <div id=\"ec949c9f-9dcb-4417-84f4-b0879a1f91c8\" class=\"plotly-graph-div\" style=\"height:525px; width:100%;\"></div>            <script type=\"text/javascript\">                require([\"plotly\"], function(Plotly) {                    window.PLOTLYENV=window.PLOTLYENV || {};                                    if (document.getElementById(\"ec949c9f-9dcb-4417-84f4-b0879a1f91c8\")) {                    Plotly.newPlot(                        \"ec949c9f-9dcb-4417-84f4-b0879a1f91c8\",                        [{\"name\":\"RSS products\",\"text\":[313.0,119.0,2.0,1.0],\"textposition\":\"auto\",\"x\":[4.0,3.0,2.0,5.0],\"y\":[313,119,2,1],\"type\":\"bar\"},{\"name\":\"star_rating products\",\"text\":[289.0,78.0,57.0,9.0,2.0],\"textposition\":\"auto\",\"x\":[4.0,3.0,5.0,2.0,1.0],\"y\":[289,78,57,9,2],\"type\":\"bar\"}],                        {\"template\":{\"data\":{\"histogram2dcontour\":[{\"type\":\"histogram2dcontour\",\"colorbar\":{\"outlinewidth\":0,\"ticks\":\"\"},\"colorscale\":[[0.0,\"#0d0887\"],[0.1111111111111111,\"#46039f\"],[0.2222222222222222,\"#7201a8\"],[0.3333333333333333,\"#9c179e\"],[0.4444444444444444,\"#bd3786\"],[0.5555555555555556,\"#d8576b\"],[0.6666666666666666,\"#ed7953\"],[0.7777777777777778,\"#fb9f3a\"],[0.8888888888888888,\"#fdca26\"],[1.0,\"#f0f921\"]]}],\"choropleth\":[{\"type\":\"choropleth\",\"colorbar\":{\"outlinewidth\":0,\"ticks\":\"\"}}],\"histogram2d\":[{\"type\":\"histogram2d\",\"colorbar\":{\"outlinewidth\":0,\"ticks\":\"\"},\"colorscale\":[[0.0,\"#0d0887\"],[0.1111111111111111,\"#46039f\"],[0.2222222222222222,\"#7201a8\"],[0.3333333333333333,\"#9c179e\"],[0.4444444444444444,\"#bd3786\"],[0.5555555555555556,\"#d8576b\"],[0.6666666666666666,\"#ed7953\"],[0.7777777777777778,\"#fb9f3a\"],[0.8888888888888888,\"#fdca26\"],[1.0,\"#f0f921\"]]}],\"heatmap\":[{\"type\":\"heatmap\",\"colorbar\":{\"outlinewidth\":0,\"ticks\":\"\"},\"colorscale\":[[0.0,\"#0d0887\"],[0.1111111111111111,\"#46039f\"],[0.2222222222222222,\"#7201a8\"],[0.3333333333333333,\"#9c179e\"],[0.4444444444444444,\"#bd3786\"],[0.5555555555555556,\"#d8576b\"],[0.6666666666666666,\"#ed7953\"],[0.7777777777777778,\"#fb9f3a\"],[0.8888888888888888,\"#fdca26\"],[1.0,\"#f0f921\"]]}],\"heatmapgl\":[{\"type\":\"heatmapgl\",\"colorbar\":{\"outlinewidth\":0,\"ticks\":\"\"},\"colorscale\":[[0.0,\"#0d0887\"],[0.1111111111111111,\"#46039f\"],[0.2222222222222222,\"#7201a8\"],[0.3333333333333333,\"#9c179e\"],[0.4444444444444444,\"#bd3786\"],[0.5555555555555556,\"#d8576b\"],[0.6666666666666666,\"#ed7953\"],[0.7777777777777778,\"#fb9f3a\"],[0.8888888888888888,\"#fdca26\"],[1.0,\"#f0f921\"]]}],\"contourcarpet\":[{\"type\":\"contourcarpet\",\"colorbar\":{\"outlinewidth\":0,\"ticks\":\"\"}}],\"contour\":[{\"type\":\"contour\",\"colorbar\":{\"outlinewidth\":0,\"ticks\":\"\"},\"colorscale\":[[0.0,\"#0d0887\"],[0.1111111111111111,\"#46039f\"],[0.2222222222222222,\"#7201a8\"],[0.3333333333333333,\"#9c179e\"],[0.4444444444444444,\"#bd3786\"],[0.5555555555555556,\"#d8576b\"],[0.6666666666666666,\"#ed7953\"],[0.7777777777777778,\"#fb9f3a\"],[0.8888888888888888,\"#fdca26\"],[1.0,\"#f0f921\"]]}],\"surface\":[{\"type\":\"surface\",\"colorbar\":{\"outlinewidth\":0,\"ticks\":\"\"},\"colorscale\":[[0.0,\"#0d0887\"],[0.1111111111111111,\"#46039f\"],[0.2222222222222222,\"#7201a8\"],[0.3333333333333333,\"#9c179e\"],[0.4444444444444444,\"#bd3786\"],[0.5555555555555556,\"#d8576b\"],[0.6666666666666666,\"#ed7953\"],[0.7777777777777778,\"#fb9f3a\"],[0.8888888888888888,\"#fdca26\"],[1.0,\"#f0f921\"]]}],\"mesh3d\":[{\"type\":\"mesh3d\",\"colorbar\":{\"outlinewidth\":0,\"ticks\":\"\"}}],\"scatter\":[{\"fillpattern\":{\"fillmode\":\"overlay\",\"size\":10,\"solidity\":0.2},\"type\":\"scatter\"}],\"parcoords\":[{\"type\":\"parcoords\",\"line\":{\"colorbar\":{\"outlinewidth\":0,\"ticks\":\"\"}}}],\"scatterpolargl\":[{\"type\":\"scatterpolargl\",\"marker\":{\"colorbar\":{\"outlinewidth\":0,\"ticks\":\"\"}}}],\"bar\":[{\"error_x\":{\"color\":\"#2a3f5f\"},\"error_y\":{\"color\":\"#2a3f5f\"},\"marker\":{\"line\":{\"color\":\"#E5ECF6\",\"width\":0.5},\"pattern\":{\"fillmode\":\"overlay\",\"size\":10,\"solidity\":0.2}},\"type\":\"bar\"}],\"scattergeo\":[{\"type\":\"scattergeo\",\"marker\":{\"colorbar\":{\"outlinewidth\":0,\"ticks\":\"\"}}}],\"scatterpolar\":[{\"type\":\"scatterpolar\",\"marker\":{\"colorbar\":{\"outlinewidth\":0,\"ticks\":\"\"}}}],\"histogram\":[{\"marker\":{\"pattern\":{\"fillmode\":\"overlay\",\"size\":10,\"solidity\":0.2}},\"type\":\"histogram\"}],\"scattergl\":[{\"type\":\"scattergl\",\"marker\":{\"colorbar\":{\"outlinewidth\":0,\"ticks\":\"\"}}}],\"scatter3d\":[{\"type\":\"scatter3d\",\"line\":{\"colorbar\":{\"outlinewidth\":0,\"ticks\":\"\"}},\"marker\":{\"colorbar\":{\"outlinewidth\":0,\"ticks\":\"\"}}}],\"scattermapbox\":[{\"type\":\"scattermapbox\",\"marker\":{\"colorbar\":{\"outlinewidth\":0,\"ticks\":\"\"}}}],\"scatterternary\":[{\"type\":\"scatterternary\",\"marker\":{\"colorbar\":{\"outlinewidth\":0,\"ticks\":\"\"}}}],\"scattercarpet\":[{\"type\":\"scattercarpet\",\"marker\":{\"colorbar\":{\"outlinewidth\":0,\"ticks\":\"\"}}}],\"carpet\":[{\"aaxis\":{\"endlinecolor\":\"#2a3f5f\",\"gridcolor\":\"white\",\"linecolor\":\"white\",\"minorgridcolor\":\"white\",\"startlinecolor\":\"#2a3f5f\"},\"baxis\":{\"endlinecolor\":\"#2a3f5f\",\"gridcolor\":\"white\",\"linecolor\":\"white\",\"minorgridcolor\":\"white\",\"startlinecolor\":\"#2a3f5f\"},\"type\":\"carpet\"}],\"table\":[{\"cells\":{\"fill\":{\"color\":\"#EBF0F8\"},\"line\":{\"color\":\"white\"}},\"header\":{\"fill\":{\"color\":\"#C8D4E3\"},\"line\":{\"color\":\"white\"}},\"type\":\"table\"}],\"barpolar\":[{\"marker\":{\"line\":{\"color\":\"#E5ECF6\",\"width\":0.5},\"pattern\":{\"fillmode\":\"overlay\",\"size\":10,\"solidity\":0.2}},\"type\":\"barpolar\"}],\"pie\":[{\"automargin\":true,\"type\":\"pie\"}]},\"layout\":{\"autotypenumbers\":\"strict\",\"colorway\":[\"#636efa\",\"#EF553B\",\"#00cc96\",\"#ab63fa\",\"#FFA15A\",\"#19d3f3\",\"#FF6692\",\"#B6E880\",\"#FF97FF\",\"#FECB52\"],\"font\":{\"color\":\"#2a3f5f\"},\"hovermode\":\"closest\",\"hoverlabel\":{\"align\":\"left\"},\"paper_bgcolor\":\"white\",\"plot_bgcolor\":\"#E5ECF6\",\"polar\":{\"bgcolor\":\"#E5ECF6\",\"angularaxis\":{\"gridcolor\":\"white\",\"linecolor\":\"white\",\"ticks\":\"\"},\"radialaxis\":{\"gridcolor\":\"white\",\"linecolor\":\"white\",\"ticks\":\"\"}},\"ternary\":{\"bgcolor\":\"#E5ECF6\",\"aaxis\":{\"gridcolor\":\"white\",\"linecolor\":\"white\",\"ticks\":\"\"},\"baxis\":{\"gridcolor\":\"white\",\"linecolor\":\"white\",\"ticks\":\"\"},\"caxis\":{\"gridcolor\":\"white\",\"linecolor\":\"white\",\"ticks\":\"\"}},\"coloraxis\":{\"colorbar\":{\"outlinewidth\":0,\"ticks\":\"\"}},\"colorscale\":{\"sequential\":[[0.0,\"#0d0887\"],[0.1111111111111111,\"#46039f\"],[0.2222222222222222,\"#7201a8\"],[0.3333333333333333,\"#9c179e\"],[0.4444444444444444,\"#bd3786\"],[0.5555555555555556,\"#d8576b\"],[0.6666666666666666,\"#ed7953\"],[0.7777777777777778,\"#fb9f3a\"],[0.8888888888888888,\"#fdca26\"],[1.0,\"#f0f921\"]],\"sequentialminus\":[[0.0,\"#0d0887\"],[0.1111111111111111,\"#46039f\"],[0.2222222222222222,\"#7201a8\"],[0.3333333333333333,\"#9c179e\"],[0.4444444444444444,\"#bd3786\"],[0.5555555555555556,\"#d8576b\"],[0.6666666666666666,\"#ed7953\"],[0.7777777777777778,\"#fb9f3a\"],[0.8888888888888888,\"#fdca26\"],[1.0,\"#f0f921\"]],\"diverging\":[[0,\"#8e0152\"],[0.1,\"#c51b7d\"],[0.2,\"#de77ae\"],[0.3,\"#f1b6da\"],[0.4,\"#fde0ef\"],[0.5,\"#f7f7f7\"],[0.6,\"#e6f5d0\"],[0.7,\"#b8e186\"],[0.8,\"#7fbc41\"],[0.9,\"#4d9221\"],[1,\"#276419\"]]},\"xaxis\":{\"gridcolor\":\"white\",\"linecolor\":\"white\",\"ticks\":\"\",\"title\":{\"standoff\":15},\"zerolinecolor\":\"white\",\"automargin\":true,\"zerolinewidth\":2},\"yaxis\":{\"gridcolor\":\"white\",\"linecolor\":\"white\",\"ticks\":\"\",\"title\":{\"standoff\":15},\"zerolinecolor\":\"white\",\"automargin\":true,\"zerolinewidth\":2},\"scene\":{\"xaxis\":{\"backgroundcolor\":\"#E5ECF6\",\"gridcolor\":\"white\",\"linecolor\":\"white\",\"showbackground\":true,\"ticks\":\"\",\"zerolinecolor\":\"white\",\"gridwidth\":2},\"yaxis\":{\"backgroundcolor\":\"#E5ECF6\",\"gridcolor\":\"white\",\"linecolor\":\"white\",\"showbackground\":true,\"ticks\":\"\",\"zerolinecolor\":\"white\",\"gridwidth\":2},\"zaxis\":{\"backgroundcolor\":\"#E5ECF6\",\"gridcolor\":\"white\",\"linecolor\":\"white\",\"showbackground\":true,\"ticks\":\"\",\"zerolinecolor\":\"white\",\"gridwidth\":2}},\"shapedefaults\":{\"line\":{\"color\":\"#2a3f5f\"}},\"annotationdefaults\":{\"arrowcolor\":\"#2a3f5f\",\"arrowhead\":0,\"arrowwidth\":1},\"geo\":{\"bgcolor\":\"white\",\"landcolor\":\"#E5ECF6\",\"subunitcolor\":\"white\",\"showland\":true,\"showlakes\":true,\"lakecolor\":\"white\"},\"title\":{\"x\":0.05},\"mapbox\":{\"style\":\"light\"}}},\"title\":{\"text\":\"star_rating products vs RSS products\"}},                        {\"responsive\": true}                    ).then(function(){\n",
       "                            \n",
       "var gd = document.getElementById('ec949c9f-9dcb-4417-84f4-b0879a1f91c8');\n",
       "var x = new MutationObserver(function (mutations, observer) {{\n",
       "        var display = window.getComputedStyle(gd).display;\n",
       "        if (!display || display === 'none') {{\n",
       "            console.log([gd, 'removed!']);\n",
       "            Plotly.purge(gd);\n",
       "            observer.disconnect();\n",
       "        }}\n",
       "}});\n",
       "\n",
       "// Listen for the removal of the full notebook cells\n",
       "var notebookContainer = gd.closest('#notebook-container');\n",
       "if (notebookContainer) {{\n",
       "    x.observe(notebookContainer, {childList: true});\n",
       "}}\n",
       "\n",
       "// Listen for the clearing of the current output cell\n",
       "var outputEl = gd.closest('.output');\n",
       "if (outputEl) {{\n",
       "    x.observe(outputEl, {childList: true});\n",
       "}}\n",
       "\n",
       "                        })                };                });            </script>        </div>"
      ]
     },
     "metadata": {},
     "output_type": "display_data"
    }
   ],
   "source": [
    "rss_products = scores_df['RSS'].round().value_counts()\n",
    "star_products = scores_df['star_rating'].round().value_counts()\n",
    "\n",
    "fig = go.Figure()\n",
    "fig.add_trace(go.Bar(x=rss_products.index, y=rss_products.values,\n",
    "                #base=[-500,-600,-700],\n",
    "                #marker_color='green',\n",
    "                text=rss_products.values,\n",
    "                name='RSS products',\n",
    "                #texttemplate='%{text:.2f}',\n",
    "                textposition='auto',\n",
    "                ))\n",
    "\n",
    "fig.add_trace(go.Bar(x=star_products.index, y=star_products.values,\n",
    "                #base=[-500,-600,-700],\n",
    "                #marker_color='green',\n",
    "                text=star_products.values,\n",
    "                name='star_rating products',\n",
    "                #texttemplate='%{text:.2f}',\n",
    "                textposition='auto',\n",
    "                ))\n",
    "\n",
    "fig.update_layout(\n",
    "    title = 'star_rating products vs RSS products'\n",
    ")\n",
    "fig.show()"
   ]
  },
  {
   "cell_type": "code",
   "execution_count": 117,
   "id": "3f30b81e-ab9a-4476-aeeb-6c0fe1d01a79",
   "metadata": {},
   "outputs": [
    {
     "data": {
      "application/vnd.plotly.v1+json": {
       "config": {
        "plotlyServerURL": "https://plot.ly"
       },
       "data": [
        {
         "name": "RSS products",
         "text": [
          313,
          119,
          2,
          1
         ],
         "textposition": "auto",
         "type": "bar",
         "x": [
          4,
          3,
          2,
          5
         ],
         "y": [
          313,
          119,
          2,
          1
         ]
        },
        {
         "name": "FSS products",
         "text": [
          306,
          127,
          1,
          1
         ],
         "textposition": "auto",
         "type": "bar",
         "x": [
          3,
          4,
          2,
          5
         ],
         "y": [
          306,
          127,
          1,
          1
         ]
        }
       ],
       "layout": {
        "autosize": true,
        "template": {
         "data": {
          "bar": [
           {
            "error_x": {
             "color": "#2a3f5f"
            },
            "error_y": {
             "color": "#2a3f5f"
            },
            "marker": {
             "line": {
              "color": "#E5ECF6",
              "width": 0.5
             },
             "pattern": {
              "fillmode": "overlay",
              "size": 10,
              "solidity": 0.2
             }
            },
            "type": "bar"
           }
          ],
          "barpolar": [
           {
            "marker": {
             "line": {
              "color": "#E5ECF6",
              "width": 0.5
             },
             "pattern": {
              "fillmode": "overlay",
              "size": 10,
              "solidity": 0.2
             }
            },
            "type": "barpolar"
           }
          ],
          "carpet": [
           {
            "aaxis": {
             "endlinecolor": "#2a3f5f",
             "gridcolor": "white",
             "linecolor": "white",
             "minorgridcolor": "white",
             "startlinecolor": "#2a3f5f"
            },
            "baxis": {
             "endlinecolor": "#2a3f5f",
             "gridcolor": "white",
             "linecolor": "white",
             "minorgridcolor": "white",
             "startlinecolor": "#2a3f5f"
            },
            "type": "carpet"
           }
          ],
          "choropleth": [
           {
            "colorbar": {
             "outlinewidth": 0,
             "ticks": ""
            },
            "type": "choropleth"
           }
          ],
          "contour": [
           {
            "colorbar": {
             "outlinewidth": 0,
             "ticks": ""
            },
            "colorscale": [
             [
              0,
              "#0d0887"
             ],
             [
              0.1111111111111111,
              "#46039f"
             ],
             [
              0.2222222222222222,
              "#7201a8"
             ],
             [
              0.3333333333333333,
              "#9c179e"
             ],
             [
              0.4444444444444444,
              "#bd3786"
             ],
             [
              0.5555555555555556,
              "#d8576b"
             ],
             [
              0.6666666666666666,
              "#ed7953"
             ],
             [
              0.7777777777777778,
              "#fb9f3a"
             ],
             [
              0.8888888888888888,
              "#fdca26"
             ],
             [
              1,
              "#f0f921"
             ]
            ],
            "type": "contour"
           }
          ],
          "contourcarpet": [
           {
            "colorbar": {
             "outlinewidth": 0,
             "ticks": ""
            },
            "type": "contourcarpet"
           }
          ],
          "heatmap": [
           {
            "colorbar": {
             "outlinewidth": 0,
             "ticks": ""
            },
            "colorscale": [
             [
              0,
              "#0d0887"
             ],
             [
              0.1111111111111111,
              "#46039f"
             ],
             [
              0.2222222222222222,
              "#7201a8"
             ],
             [
              0.3333333333333333,
              "#9c179e"
             ],
             [
              0.4444444444444444,
              "#bd3786"
             ],
             [
              0.5555555555555556,
              "#d8576b"
             ],
             [
              0.6666666666666666,
              "#ed7953"
             ],
             [
              0.7777777777777778,
              "#fb9f3a"
             ],
             [
              0.8888888888888888,
              "#fdca26"
             ],
             [
              1,
              "#f0f921"
             ]
            ],
            "type": "heatmap"
           }
          ],
          "heatmapgl": [
           {
            "colorbar": {
             "outlinewidth": 0,
             "ticks": ""
            },
            "colorscale": [
             [
              0,
              "#0d0887"
             ],
             [
              0.1111111111111111,
              "#46039f"
             ],
             [
              0.2222222222222222,
              "#7201a8"
             ],
             [
              0.3333333333333333,
              "#9c179e"
             ],
             [
              0.4444444444444444,
              "#bd3786"
             ],
             [
              0.5555555555555556,
              "#d8576b"
             ],
             [
              0.6666666666666666,
              "#ed7953"
             ],
             [
              0.7777777777777778,
              "#fb9f3a"
             ],
             [
              0.8888888888888888,
              "#fdca26"
             ],
             [
              1,
              "#f0f921"
             ]
            ],
            "type": "heatmapgl"
           }
          ],
          "histogram": [
           {
            "marker": {
             "pattern": {
              "fillmode": "overlay",
              "size": 10,
              "solidity": 0.2
             }
            },
            "type": "histogram"
           }
          ],
          "histogram2d": [
           {
            "colorbar": {
             "outlinewidth": 0,
             "ticks": ""
            },
            "colorscale": [
             [
              0,
              "#0d0887"
             ],
             [
              0.1111111111111111,
              "#46039f"
             ],
             [
              0.2222222222222222,
              "#7201a8"
             ],
             [
              0.3333333333333333,
              "#9c179e"
             ],
             [
              0.4444444444444444,
              "#bd3786"
             ],
             [
              0.5555555555555556,
              "#d8576b"
             ],
             [
              0.6666666666666666,
              "#ed7953"
             ],
             [
              0.7777777777777778,
              "#fb9f3a"
             ],
             [
              0.8888888888888888,
              "#fdca26"
             ],
             [
              1,
              "#f0f921"
             ]
            ],
            "type": "histogram2d"
           }
          ],
          "histogram2dcontour": [
           {
            "colorbar": {
             "outlinewidth": 0,
             "ticks": ""
            },
            "colorscale": [
             [
              0,
              "#0d0887"
             ],
             [
              0.1111111111111111,
              "#46039f"
             ],
             [
              0.2222222222222222,
              "#7201a8"
             ],
             [
              0.3333333333333333,
              "#9c179e"
             ],
             [
              0.4444444444444444,
              "#bd3786"
             ],
             [
              0.5555555555555556,
              "#d8576b"
             ],
             [
              0.6666666666666666,
              "#ed7953"
             ],
             [
              0.7777777777777778,
              "#fb9f3a"
             ],
             [
              0.8888888888888888,
              "#fdca26"
             ],
             [
              1,
              "#f0f921"
             ]
            ],
            "type": "histogram2dcontour"
           }
          ],
          "mesh3d": [
           {
            "colorbar": {
             "outlinewidth": 0,
             "ticks": ""
            },
            "type": "mesh3d"
           }
          ],
          "parcoords": [
           {
            "line": {
             "colorbar": {
              "outlinewidth": 0,
              "ticks": ""
             }
            },
            "type": "parcoords"
           }
          ],
          "pie": [
           {
            "automargin": true,
            "type": "pie"
           }
          ],
          "scatter": [
           {
            "fillpattern": {
             "fillmode": "overlay",
             "size": 10,
             "solidity": 0.2
            },
            "type": "scatter"
           }
          ],
          "scatter3d": [
           {
            "line": {
             "colorbar": {
              "outlinewidth": 0,
              "ticks": ""
             }
            },
            "marker": {
             "colorbar": {
              "outlinewidth": 0,
              "ticks": ""
             }
            },
            "type": "scatter3d"
           }
          ],
          "scattercarpet": [
           {
            "marker": {
             "colorbar": {
              "outlinewidth": 0,
              "ticks": ""
             }
            },
            "type": "scattercarpet"
           }
          ],
          "scattergeo": [
           {
            "marker": {
             "colorbar": {
              "outlinewidth": 0,
              "ticks": ""
             }
            },
            "type": "scattergeo"
           }
          ],
          "scattergl": [
           {
            "marker": {
             "colorbar": {
              "outlinewidth": 0,
              "ticks": ""
             }
            },
            "type": "scattergl"
           }
          ],
          "scattermapbox": [
           {
            "marker": {
             "colorbar": {
              "outlinewidth": 0,
              "ticks": ""
             }
            },
            "type": "scattermapbox"
           }
          ],
          "scatterpolar": [
           {
            "marker": {
             "colorbar": {
              "outlinewidth": 0,
              "ticks": ""
             }
            },
            "type": "scatterpolar"
           }
          ],
          "scatterpolargl": [
           {
            "marker": {
             "colorbar": {
              "outlinewidth": 0,
              "ticks": ""
             }
            },
            "type": "scatterpolargl"
           }
          ],
          "scatterternary": [
           {
            "marker": {
             "colorbar": {
              "outlinewidth": 0,
              "ticks": ""
             }
            },
            "type": "scatterternary"
           }
          ],
          "surface": [
           {
            "colorbar": {
             "outlinewidth": 0,
             "ticks": ""
            },
            "colorscale": [
             [
              0,
              "#0d0887"
             ],
             [
              0.1111111111111111,
              "#46039f"
             ],
             [
              0.2222222222222222,
              "#7201a8"
             ],
             [
              0.3333333333333333,
              "#9c179e"
             ],
             [
              0.4444444444444444,
              "#bd3786"
             ],
             [
              0.5555555555555556,
              "#d8576b"
             ],
             [
              0.6666666666666666,
              "#ed7953"
             ],
             [
              0.7777777777777778,
              "#fb9f3a"
             ],
             [
              0.8888888888888888,
              "#fdca26"
             ],
             [
              1,
              "#f0f921"
             ]
            ],
            "type": "surface"
           }
          ],
          "table": [
           {
            "cells": {
             "fill": {
              "color": "#EBF0F8"
             },
             "line": {
              "color": "white"
             }
            },
            "header": {
             "fill": {
              "color": "#C8D4E3"
             },
             "line": {
              "color": "white"
             }
            },
            "type": "table"
           }
          ]
         },
         "layout": {
          "annotationdefaults": {
           "arrowcolor": "#2a3f5f",
           "arrowhead": 0,
           "arrowwidth": 1
          },
          "autotypenumbers": "strict",
          "coloraxis": {
           "colorbar": {
            "outlinewidth": 0,
            "ticks": ""
           }
          },
          "colorscale": {
           "diverging": [
            [
             0,
             "#8e0152"
            ],
            [
             0.1,
             "#c51b7d"
            ],
            [
             0.2,
             "#de77ae"
            ],
            [
             0.3,
             "#f1b6da"
            ],
            [
             0.4,
             "#fde0ef"
            ],
            [
             0.5,
             "#f7f7f7"
            ],
            [
             0.6,
             "#e6f5d0"
            ],
            [
             0.7,
             "#b8e186"
            ],
            [
             0.8,
             "#7fbc41"
            ],
            [
             0.9,
             "#4d9221"
            ],
            [
             1,
             "#276419"
            ]
           ],
           "sequential": [
            [
             0,
             "#0d0887"
            ],
            [
             0.1111111111111111,
             "#46039f"
            ],
            [
             0.2222222222222222,
             "#7201a8"
            ],
            [
             0.3333333333333333,
             "#9c179e"
            ],
            [
             0.4444444444444444,
             "#bd3786"
            ],
            [
             0.5555555555555556,
             "#d8576b"
            ],
            [
             0.6666666666666666,
             "#ed7953"
            ],
            [
             0.7777777777777778,
             "#fb9f3a"
            ],
            [
             0.8888888888888888,
             "#fdca26"
            ],
            [
             1,
             "#f0f921"
            ]
           ],
           "sequentialminus": [
            [
             0,
             "#0d0887"
            ],
            [
             0.1111111111111111,
             "#46039f"
            ],
            [
             0.2222222222222222,
             "#7201a8"
            ],
            [
             0.3333333333333333,
             "#9c179e"
            ],
            [
             0.4444444444444444,
             "#bd3786"
            ],
            [
             0.5555555555555556,
             "#d8576b"
            ],
            [
             0.6666666666666666,
             "#ed7953"
            ],
            [
             0.7777777777777778,
             "#fb9f3a"
            ],
            [
             0.8888888888888888,
             "#fdca26"
            ],
            [
             1,
             "#f0f921"
            ]
           ]
          },
          "colorway": [
           "#636efa",
           "#EF553B",
           "#00cc96",
           "#ab63fa",
           "#FFA15A",
           "#19d3f3",
           "#FF6692",
           "#B6E880",
           "#FF97FF",
           "#FECB52"
          ],
          "font": {
           "color": "#2a3f5f"
          },
          "geo": {
           "bgcolor": "white",
           "lakecolor": "white",
           "landcolor": "#E5ECF6",
           "showlakes": true,
           "showland": true,
           "subunitcolor": "white"
          },
          "hoverlabel": {
           "align": "left"
          },
          "hovermode": "closest",
          "mapbox": {
           "style": "light"
          },
          "paper_bgcolor": "white",
          "plot_bgcolor": "#E5ECF6",
          "polar": {
           "angularaxis": {
            "gridcolor": "white",
            "linecolor": "white",
            "ticks": ""
           },
           "bgcolor": "#E5ECF6",
           "radialaxis": {
            "gridcolor": "white",
            "linecolor": "white",
            "ticks": ""
           }
          },
          "scene": {
           "xaxis": {
            "backgroundcolor": "#E5ECF6",
            "gridcolor": "white",
            "gridwidth": 2,
            "linecolor": "white",
            "showbackground": true,
            "ticks": "",
            "zerolinecolor": "white"
           },
           "yaxis": {
            "backgroundcolor": "#E5ECF6",
            "gridcolor": "white",
            "gridwidth": 2,
            "linecolor": "white",
            "showbackground": true,
            "ticks": "",
            "zerolinecolor": "white"
           },
           "zaxis": {
            "backgroundcolor": "#E5ECF6",
            "gridcolor": "white",
            "gridwidth": 2,
            "linecolor": "white",
            "showbackground": true,
            "ticks": "",
            "zerolinecolor": "white"
           }
          },
          "shapedefaults": {
           "line": {
            "color": "#2a3f5f"
           }
          },
          "ternary": {
           "aaxis": {
            "gridcolor": "white",
            "linecolor": "white",
            "ticks": ""
           },
           "baxis": {
            "gridcolor": "white",
            "linecolor": "white",
            "ticks": ""
           },
           "bgcolor": "#E5ECF6",
           "caxis": {
            "gridcolor": "white",
            "linecolor": "white",
            "ticks": ""
           }
          },
          "title": {
           "x": 0.05
          },
          "xaxis": {
           "automargin": true,
           "gridcolor": "white",
           "linecolor": "white",
           "ticks": "",
           "title": {
            "standoff": 15
           },
           "zerolinecolor": "white",
           "zerolinewidth": 2
          },
          "yaxis": {
           "automargin": true,
           "gridcolor": "white",
           "linecolor": "white",
           "ticks": "",
           "title": {
            "standoff": 15
           },
           "zerolinecolor": "white",
           "zerolinewidth": 2
          }
         }
        },
        "title": {
         "text": "RSS products vs FSS products"
        },
        "xaxis": {
         "autorange": true,
         "range": [
          1.5,
          5.5
         ],
         "type": "linear"
        },
        "yaxis": {
         "autorange": true,
         "range": [
          0,
          329.4736842105263
         ],
         "type": "linear"
        }
       }
      },
      "image/png": "[encoded data removed]",
      "text/html": [
       "<div>                            <div id=\"5f077e9b-93f1-41e5-b2f6-b5c6d9e54397\" class=\"plotly-graph-div\" style=\"height:525px; width:100%;\"></div>            <script type=\"text/javascript\">                require([\"plotly\"], function(Plotly) {                    window.PLOTLYENV=window.PLOTLYENV || {};                                    if (document.getElementById(\"5f077e9b-93f1-41e5-b2f6-b5c6d9e54397\")) {                    Plotly.newPlot(                        \"5f077e9b-93f1-41e5-b2f6-b5c6d9e54397\",                        [{\"name\":\"RSS products\",\"text\":[313.0,119.0,2.0,1.0],\"textposition\":\"auto\",\"x\":[4.0,3.0,2.0,5.0],\"y\":[313,119,2,1],\"type\":\"bar\"},{\"name\":\"FSS products\",\"text\":[306.0,127.0,1.0,1.0],\"textposition\":\"auto\",\"x\":[3.0,4.0,2.0,5.0],\"y\":[306,127,1,1],\"type\":\"bar\"}],                        {\"template\":{\"data\":{\"histogram2dcontour\":[{\"type\":\"histogram2dcontour\",\"colorbar\":{\"outlinewidth\":0,\"ticks\":\"\"},\"colorscale\":[[0.0,\"#0d0887\"],[0.1111111111111111,\"#46039f\"],[0.2222222222222222,\"#7201a8\"],[0.3333333333333333,\"#9c179e\"],[0.4444444444444444,\"#bd3786\"],[0.5555555555555556,\"#d8576b\"],[0.6666666666666666,\"#ed7953\"],[0.7777777777777778,\"#fb9f3a\"],[0.8888888888888888,\"#fdca26\"],[1.0,\"#f0f921\"]]}],\"choropleth\":[{\"type\":\"choropleth\",\"colorbar\":{\"outlinewidth\":0,\"ticks\":\"\"}}],\"histogram2d\":[{\"type\":\"histogram2d\",\"colorbar\":{\"outlinewidth\":0,\"ticks\":\"\"},\"colorscale\":[[0.0,\"#0d0887\"],[0.1111111111111111,\"#46039f\"],[0.2222222222222222,\"#7201a8\"],[0.3333333333333333,\"#9c179e\"],[0.4444444444444444,\"#bd3786\"],[0.5555555555555556,\"#d8576b\"],[0.6666666666666666,\"#ed7953\"],[0.7777777777777778,\"#fb9f3a\"],[0.8888888888888888,\"#fdca26\"],[1.0,\"#f0f921\"]]}],\"heatmap\":[{\"type\":\"heatmap\",\"colorbar\":{\"outlinewidth\":0,\"ticks\":\"\"},\"colorscale\":[[0.0,\"#0d0887\"],[0.1111111111111111,\"#46039f\"],[0.2222222222222222,\"#7201a8\"],[0.3333333333333333,\"#9c179e\"],[0.4444444444444444,\"#bd3786\"],[0.5555555555555556,\"#d8576b\"],[0.6666666666666666,\"#ed7953\"],[0.7777777777777778,\"#fb9f3a\"],[0.8888888888888888,\"#fdca26\"],[1.0,\"#f0f921\"]]}],\"heatmapgl\":[{\"type\":\"heatmapgl\",\"colorbar\":{\"outlinewidth\":0,\"ticks\":\"\"},\"colorscale\":[[0.0,\"#0d0887\"],[0.1111111111111111,\"#46039f\"],[0.2222222222222222,\"#7201a8\"],[0.3333333333333333,\"#9c179e\"],[0.4444444444444444,\"#bd3786\"],[0.5555555555555556,\"#d8576b\"],[0.6666666666666666,\"#ed7953\"],[0.7777777777777778,\"#fb9f3a\"],[0.8888888888888888,\"#fdca26\"],[1.0,\"#f0f921\"]]}],\"contourcarpet\":[{\"type\":\"contourcarpet\",\"colorbar\":{\"outlinewidth\":0,\"ticks\":\"\"}}],\"contour\":[{\"type\":\"contour\",\"colorbar\":{\"outlinewidth\":0,\"ticks\":\"\"},\"colorscale\":[[0.0,\"#0d0887\"],[0.1111111111111111,\"#46039f\"],[0.2222222222222222,\"#7201a8\"],[0.3333333333333333,\"#9c179e\"],[0.4444444444444444,\"#bd3786\"],[0.5555555555555556,\"#d8576b\"],[0.6666666666666666,\"#ed7953\"],[0.7777777777777778,\"#fb9f3a\"],[0.8888888888888888,\"#fdca26\"],[1.0,\"#f0f921\"]]}],\"surface\":[{\"type\":\"surface\",\"colorbar\":{\"outlinewidth\":0,\"ticks\":\"\"},\"colorscale\":[[0.0,\"#0d0887\"],[0.1111111111111111,\"#46039f\"],[0.2222222222222222,\"#7201a8\"],[0.3333333333333333,\"#9c179e\"],[0.4444444444444444,\"#bd3786\"],[0.5555555555555556,\"#d8576b\"],[0.6666666666666666,\"#ed7953\"],[0.7777777777777778,\"#fb9f3a\"],[0.8888888888888888,\"#fdca26\"],[1.0,\"#f0f921\"]]}],\"mesh3d\":[{\"type\":\"mesh3d\",\"colorbar\":{\"outlinewidth\":0,\"ticks\":\"\"}}],\"scatter\":[{\"fillpattern\":{\"fillmode\":\"overlay\",\"size\":10,\"solidity\":0.2},\"type\":\"scatter\"}],\"parcoords\":[{\"type\":\"parcoords\",\"line\":{\"colorbar\":{\"outlinewidth\":0,\"ticks\":\"\"}}}],\"scatterpolargl\":[{\"type\":\"scatterpolargl\",\"marker\":{\"colorbar\":{\"outlinewidth\":0,\"ticks\":\"\"}}}],\"bar\":[{\"error_x\":{\"color\":\"#2a3f5f\"},\"error_y\":{\"color\":\"#2a3f5f\"},\"marker\":{\"line\":{\"color\":\"#E5ECF6\",\"width\":0.5},\"pattern\":{\"fillmode\":\"overlay\",\"size\":10,\"solidity\":0.2}},\"type\":\"bar\"}],\"scattergeo\":[{\"type\":\"scattergeo\",\"marker\":{\"colorbar\":{\"outlinewidth\":0,\"ticks\":\"\"}}}],\"scatterpolar\":[{\"type\":\"scatterpolar\",\"marker\":{\"colorbar\":{\"outlinewidth\":0,\"ticks\":\"\"}}}],\"histogram\":[{\"marker\":{\"pattern\":{\"fillmode\":\"overlay\",\"size\":10,\"solidity\":0.2}},\"type\":\"histogram\"}],\"scattergl\":[{\"type\":\"scattergl\",\"marker\":{\"colorbar\":{\"outlinewidth\":0,\"ticks\":\"\"}}}],\"scatter3d\":[{\"type\":\"scatter3d\",\"line\":{\"colorbar\":{\"outlinewidth\":0,\"ticks\":\"\"}},\"marker\":{\"colorbar\":{\"outlinewidth\":0,\"ticks\":\"\"}}}],\"scattermapbox\":[{\"type\":\"scattermapbox\",\"marker\":{\"colorbar\":{\"outlinewidth\":0,\"ticks\":\"\"}}}],\"scatterternary\":[{\"type\":\"scatterternary\",\"marker\":{\"colorbar\":{\"outlinewidth\":0,\"ticks\":\"\"}}}],\"scattercarpet\":[{\"type\":\"scattercarpet\",\"marker\":{\"colorbar\":{\"outlinewidth\":0,\"ticks\":\"\"}}}],\"carpet\":[{\"aaxis\":{\"endlinecolor\":\"#2a3f5f\",\"gridcolor\":\"white\",\"linecolor\":\"white\",\"minorgridcolor\":\"white\",\"startlinecolor\":\"#2a3f5f\"},\"baxis\":{\"endlinecolor\":\"#2a3f5f\",\"gridcolor\":\"white\",\"linecolor\":\"white\",\"minorgridcolor\":\"white\",\"startlinecolor\":\"#2a3f5f\"},\"type\":\"carpet\"}],\"table\":[{\"cells\":{\"fill\":{\"color\":\"#EBF0F8\"},\"line\":{\"color\":\"white\"}},\"header\":{\"fill\":{\"color\":\"#C8D4E3\"},\"line\":{\"color\":\"white\"}},\"type\":\"table\"}],\"barpolar\":[{\"marker\":{\"line\":{\"color\":\"#E5ECF6\",\"width\":0.5},\"pattern\":{\"fillmode\":\"overlay\",\"size\":10,\"solidity\":0.2}},\"type\":\"barpolar\"}],\"pie\":[{\"automargin\":true,\"type\":\"pie\"}]},\"layout\":{\"autotypenumbers\":\"strict\",\"colorway\":[\"#636efa\",\"#EF553B\",\"#00cc96\",\"#ab63fa\",\"#FFA15A\",\"#19d3f3\",\"#FF6692\",\"#B6E880\",\"#FF97FF\",\"#FECB52\"],\"font\":{\"color\":\"#2a3f5f\"},\"hovermode\":\"closest\",\"hoverlabel\":{\"align\":\"left\"},\"paper_bgcolor\":\"white\",\"plot_bgcolor\":\"#E5ECF6\",\"polar\":{\"bgcolor\":\"#E5ECF6\",\"angularaxis\":{\"gridcolor\":\"white\",\"linecolor\":\"white\",\"ticks\":\"\"},\"radialaxis\":{\"gridcolor\":\"white\",\"linecolor\":\"white\",\"ticks\":\"\"}},\"ternary\":{\"bgcolor\":\"#E5ECF6\",\"aaxis\":{\"gridcolor\":\"white\",\"linecolor\":\"white\",\"ticks\":\"\"},\"baxis\":{\"gridcolor\":\"white\",\"linecolor\":\"white\",\"ticks\":\"\"},\"caxis\":{\"gridcolor\":\"white\",\"linecolor\":\"white\",\"ticks\":\"\"}},\"coloraxis\":{\"colorbar\":{\"outlinewidth\":0,\"ticks\":\"\"}},\"colorscale\":{\"sequential\":[[0.0,\"#0d0887\"],[0.1111111111111111,\"#46039f\"],[0.2222222222222222,\"#7201a8\"],[0.3333333333333333,\"#9c179e\"],[0.4444444444444444,\"#bd3786\"],[0.5555555555555556,\"#d8576b\"],[0.6666666666666666,\"#ed7953\"],[0.7777777777777778,\"#fb9f3a\"],[0.8888888888888888,\"#fdca26\"],[1.0,\"#f0f921\"]],\"sequentialminus\":[[0.0,\"#0d0887\"],[0.1111111111111111,\"#46039f\"],[0.2222222222222222,\"#7201a8\"],[0.3333333333333333,\"#9c179e\"],[0.4444444444444444,\"#bd3786\"],[0.5555555555555556,\"#d8576b\"],[0.6666666666666666,\"#ed7953\"],[0.7777777777777778,\"#fb9f3a\"],[0.8888888888888888,\"#fdca26\"],[1.0,\"#f0f921\"]],\"diverging\":[[0,\"#8e0152\"],[0.1,\"#c51b7d\"],[0.2,\"#de77ae\"],[0.3,\"#f1b6da\"],[0.4,\"#fde0ef\"],[0.5,\"#f7f7f7\"],[0.6,\"#e6f5d0\"],[0.7,\"#b8e186\"],[0.8,\"#7fbc41\"],[0.9,\"#4d9221\"],[1,\"#276419\"]]},\"xaxis\":{\"gridcolor\":\"white\",\"linecolor\":\"white\",\"ticks\":\"\",\"title\":{\"standoff\":15},\"zerolinecolor\":\"white\",\"automargin\":true,\"zerolinewidth\":2},\"yaxis\":{\"gridcolor\":\"white\",\"linecolor\":\"white\",\"ticks\":\"\",\"title\":{\"standoff\":15},\"zerolinecolor\":\"white\",\"automargin\":true,\"zerolinewidth\":2},\"scene\":{\"xaxis\":{\"backgroundcolor\":\"#E5ECF6\",\"gridcolor\":\"white\",\"linecolor\":\"white\",\"showbackground\":true,\"ticks\":\"\",\"zerolinecolor\":\"white\",\"gridwidth\":2},\"yaxis\":{\"backgroundcolor\":\"#E5ECF6\",\"gridcolor\":\"white\",\"linecolor\":\"white\",\"showbackground\":true,\"ticks\":\"\",\"zerolinecolor\":\"white\",\"gridwidth\":2},\"zaxis\":{\"backgroundcolor\":\"#E5ECF6\",\"gridcolor\":\"white\",\"linecolor\":\"white\",\"showbackground\":true,\"ticks\":\"\",\"zerolinecolor\":\"white\",\"gridwidth\":2}},\"shapedefaults\":{\"line\":{\"color\":\"#2a3f5f\"}},\"annotationdefaults\":{\"arrowcolor\":\"#2a3f5f\",\"arrowhead\":0,\"arrowwidth\":1},\"geo\":{\"bgcolor\":\"white\",\"landcolor\":\"#E5ECF6\",\"subunitcolor\":\"white\",\"showland\":true,\"showlakes\":true,\"lakecolor\":\"white\"},\"title\":{\"x\":0.05},\"mapbox\":{\"style\":\"light\"}}},\"title\":{\"text\":\"RSS products vs FSS products\"}},                        {\"responsive\": true}                    ).then(function(){\n",
       "                            \n",
       "var gd = document.getElementById('5f077e9b-93f1-41e5-b2f6-b5c6d9e54397');\n",
       "var x = new MutationObserver(function (mutations, observer) {{\n",
       "        var display = window.getComputedStyle(gd).display;\n",
       "        if (!display || display === 'none') {{\n",
       "            console.log([gd, 'removed!']);\n",
       "            Plotly.purge(gd);\n",
       "            observer.disconnect();\n",
       "        }}\n",
       "}});\n",
       "\n",
       "// Listen for the removal of the full notebook cells\n",
       "var notebookContainer = gd.closest('#notebook-container');\n",
       "if (notebookContainer) {{\n",
       "    x.observe(notebookContainer, {childList: true});\n",
       "}}\n",
       "\n",
       "// Listen for the clearing of the current output cell\n",
       "var outputEl = gd.closest('.output');\n",
       "if (outputEl) {{\n",
       "    x.observe(outputEl, {childList: true});\n",
       "}}\n",
       "\n",
       "                        })                };                });            </script>        </div>"
      ]
     },
     "metadata": {},
     "output_type": "display_data"
    }
   ],
   "source": [
    "fss_products = scores_df['FSS'].round().value_counts()\n",
    "\n",
    "fig = go.Figure()\n",
    "fig.add_trace(go.Bar(x=rss_products.index, y=rss_products.values,\n",
    "                #base=[-500,-600,-700],\n",
    "                #marker_color='green',\n",
    "                text=rss_products.values,\n",
    "                name='RSS products',\n",
    "                #texttemplate='%{text:.2f}',\n",
    "                textposition='auto',\n",
    "                ))\n",
    "\n",
    "fig.add_trace(go.Bar(x=fss_products.index, y=fss_products.values,\n",
    "                #base=[-500,-600,-700],\n",
    "                #marker_color='green',\n",
    "                text=fss_products.values,\n",
    "                name='FSS products',\n",
    "                #texttemplate='%{text:.2f}',\n",
    "                textposition='auto',\n",
    "                ))\n",
    "\n",
    "fig.update_layout(\n",
    "    title = 'RSS products vs FSS products'\n",
    ")\n",
    "fig.show()"
   ]
  },
  {
   "cell_type": "code",
   "execution_count": 118,
   "id": "af4c41a2-f173-4bb3-8547-9b33a7ac96c9",
   "metadata": {},
   "outputs": [],
   "source": [
    "def create_circular_mask(diameter):\n",
    "    x, y = np.ogrid[:diameter, :diameter]\n",
    "    center = (diameter - 1) / 2\n",
    "    mask = (x - center) ** 2 + (y - center) ** 2 > center ** 2\n",
    "    return 255 * mask.astype(int)\n",
    "\n",
    "# Dimensione della maschera\n",
    "diameter = 400\n",
    "\n",
    "# Creazione della maschera circolare\n",
    "circular_mask = create_circular_mask(diameter)"
   ]
  },
  {
   "cell_type": "markdown",
   "id": "ecb9fd15-9b2c-4c42-9bf2-edec744b4433",
   "metadata": {},
   "source": [
    "## DASHBOARDS"
   ]
  },
  {
   "cell_type": "code",
   "execution_count": 119,
   "id": "17b27b9d-fee2-42f6-aa99-1077b8572099",
   "metadata": {},
   "outputs": [],
   "source": [
    "from matplotlib.colors import LinearSegmentedColormap\n",
    "from wordcloud import WordCloud\n",
    "\n",
    "def plot_features_wc(asin):\n",
    "    for product in features_scores:\n",
    "        if(product['asin'] == asin):\n",
    "            pos_features = {k: v for k, v in product['features'].items() if v > 3}\n",
    "            neg_features = {k: v for k, v in product['features'].items() if v < 3}\n",
    "\n",
    "    # Definizione della palette di colori personalizzata\n",
    "    colors = [\"#FF5733\", \"#33FF57\", \"#3357FF\"]\n",
    "    cmap = LinearSegmentedColormap.from_list(\"custom_palette\", colors)\n",
    "    \n",
    "    # Generate the word cloud\n",
    "    pos_wordcloud = WordCloud(mask=circular_mask, relative_scaling=0,width=600, height=400, colormap=cmap, background_color='white').generate_from_frequencies(frequencies=pos_features)\n",
    "    neg_wordcloud = WordCloud(mask=circular_mask, relative_scaling=0,width=600, height=400,colormap=cmap, background_color='white').generate_from_frequencies(frequencies=neg_features)\n",
    "\n",
    "    fig, axs = plt.subplots(1, 2, figsize=(10, 5))\n",
    "    axs[0].imshow(pos_wordcloud, interpolation='bilinear')\n",
    "    axs[0].axis('off')  # Nascondi gli assi\n",
    "    axs[0].set_title('positive features')\n",
    "\n",
    "    axs[1].imshow(neg_wordcloud, interpolation='bilinear')\n",
    "    axs[1].axis('off')  # Nascondi gli assi\n",
    "    axs[1].set_title('negative features')\n",
    "    \n",
    "    plt.tight_layout()\n",
    "    plt.show()"
   ]
  },
  {
   "cell_type": "code",
   "execution_count": 120,
   "id": "d66d07d1-d86b-4407-b8df-a5d57b6d5272",
   "metadata": {},
   "outputs": [
    {
     "data": {
      "image/png": "[encoded data removed]",
      "text/plain": [
       "<Figure size 1000x500 with 2 Axes>"
      ]
     },
     "metadata": {},
     "output_type": "display_data"
    }
   ],
   "source": [
    "plot_features_wc(features_scores[0]['asin'])"
   ]
  },
  {
   "cell_type": "code",
   "execution_count": 121,
   "id": "97eafc1a-d2b7-41d4-b72f-764bf21b3cc1",
   "metadata": {},
   "outputs": [],
   "source": [
    "def top_k_products_by_feature(feature, k):\n",
    "    p = [(product['asin'],product['features'][feature]) for product in features_scores if feature in product['features'].keys()]\n",
    "    top_K = sorted(p, key=lambda x: x[1], reverse=True)[:k]\n",
    "    return top_K"
   ]
  },
  {
   "cell_type": "code",
   "execution_count": 122,
   "id": "ea5e4a3b-178e-477e-a524-fe3805136663",
   "metadata": {},
   "outputs": [
    {
     "data": {
      "text/plain": [
       "[('B005KMCLIW', 5.0),\n",
       " ('B005Z32UI2', 5.0),\n",
       " ('B00X4G7O06', 5.0),\n",
       " ('B0147LDSG0', 5.0),\n",
       " ('B016V8MYYO', 5.0),\n",
       " ('B001OD2OAQ', 4.0),\n",
       " ('B003YHOXFY', 4.0),\n",
       " ('B004VRJ036', 4.0),\n",
       " ('B00578HQAW', 4.0),\n",
       " ('B009ZC91AY', 4.0),\n",
       " ('B00BV1MVJ0', 4.0),\n",
       " ('B00D8T9QZU', 4.0),\n",
       " ('B00E1TF21I', 4.0),\n",
       " ('B00EW1MUII', 4.0),\n",
       " ('B00GWR373M', 4.0),\n",
       " ('B00HAMRFQS', 4.0),\n",
       " ('B00JFLS8B8', 4.0),\n",
       " ('B00RKN0IAC', 4.0),\n",
       " ('B00YA8308M', 4.0),\n",
       " ('B00ZVNQAA0', 4.0),\n",
       " ('B01CNPTKLE', 4.0),\n",
       " ('B01DC453ES', 4.0),\n",
       " ('B01E5TOIKO', 4.0),\n",
       " ('B01E5UCWYW', 4.0),\n",
       " ('B00ECBVNWC', 3.75)]"
      ]
     },
     "execution_count": 122,
     "metadata": {},
     "output_type": "execute_result"
    }
   ],
   "source": [
    "top_k_products_by_feature('charger',25)"
   ]
  },
  {
   "cell_type": "code",
   "execution_count": 123,
   "id": "e8685741-4d3c-4cfe-9995-03d9105ef985",
   "metadata": {},
   "outputs": [],
   "source": [
    "def top_k_features(product_asin,k): \n",
    "    features = [product['features'] for product in features_scores if product['asin']==product_asin][0]\n",
    "    return {k:v for k, v in sorted(features.items(), key=lambda item: item[1], reverse=True)[:5]}\n",
    "    #top_K = sorted(features, key=lambda x: x[1], reverse=True)[:k]\n",
    "    #return features"
   ]
  },
  {
   "cell_type": "code",
   "execution_count": 124,
   "id": "01d6e992-b4a9-4122-b105-a07d74700ede",
   "metadata": {},
   "outputs": [
    {
     "data": {
      "text/plain": [
       "{'design': 4.5, 'talk': 4.0, 'capability': 4.0, 'quality': 4.0, 'look': 4.0}"
      ]
     },
     "execution_count": 124,
     "metadata": {},
     "output_type": "execute_result"
    }
   ],
   "source": [
    "top_k_features(features_scores[0]['asin'],5)"
   ]
  },
  {
   "cell_type": "code",
   "execution_count": null,
   "id": "d57e9d2a-0256-4c85-8fb2-dfabd801d742",
   "metadata": {},
   "outputs": [],
   "source": []
  }
 ],
 "metadata": {
  "kernelspec": {
   "display_name": "Python 3 (ipykernel)",
   "language": "python",
   "name": "python3"
  },
  "language_info": {
   "codemirror_mode": {
    "name": "ipython",
    "version": 3
   },
   "file_extension": ".py",
   "mimetype": "text/x-python",
   "name": "python",
   "nbconvert_exporter": "python",
   "pygments_lexer": "ipython3",
   "version": "3.9.19"
  }
 },
 "nbformat": 4,
 "nbformat_minor": 5
}
