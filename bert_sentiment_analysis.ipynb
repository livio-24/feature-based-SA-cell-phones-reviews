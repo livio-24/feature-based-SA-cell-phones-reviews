{
 "cells": [
  {
   "cell_type": "code",
   "execution_count": 1,
   "id": "37d8e8e8-0b50-4219-8559-abcdf9dee9fc",
   "metadata": {},
   "outputs": [],
   "source": [
    "import pandas as pd\n",
    "import torch"
   ]
  },
  {
   "cell_type": "code",
   "execution_count": 2,
   "id": "a291fd60-596b-478a-8aa8-cc02b97b1a54",
   "metadata": {},
   "outputs": [
    {
     "data": {
      "text/plain": [
       "'cuda:0'"
      ]
     },
     "execution_count": 2,
     "metadata": {},
     "output_type": "execute_result"
    }
   ],
   "source": [
    "device = \"cuda:0\" if torch.cuda.is_available() else \"cpu\"\n",
    "device"
   ]
  },
  {
   "cell_type": "code",
   "execution_count": 50,
   "id": "50af8774-5269-4844-a572-8dc51ce1b733",
   "metadata": {},
   "outputs": [],
   "source": [
    "# Load model directly\n",
    "from transformers import AutoTokenizer, AutoModelForSequenceClassification\n",
    "\n",
    "tokenizer = AutoTokenizer.from_pretrained(\"nlptown/bert-base-multilingual-uncased-sentiment\")\n",
    "model = AutoModelForSequenceClassification.from_pretrained(\"nlptown/bert-base-multilingual-uncased-sentiment\").to(device)"
   ]
  },
  {
   "cell_type": "code",
   "execution_count": 4,
   "id": "a880960a-96c6-4813-a59a-cc5689488cb0",
   "metadata": {},
   "outputs": [],
   "source": [
    "data = pd.read_csv('data/preprocessed_dataset.csv', sep=';')['reviewText']\n",
    "data = pd.DataFrame(data)"
   ]
  },
  {
   "cell_type": "code",
   "execution_count": 5,
   "id": "b94f3834-25b5-4307-b174-fdeb1845a3d6",
   "metadata": {},
   "outputs": [
    {
     "data": {
      "text/html": [
       "<div>\n",
       "<style scoped>\n",
       "    .dataframe tbody tr th:only-of-type {\n",
       "        vertical-align: middle;\n",
       "    }\n",
       "\n",
       "    .dataframe tbody tr th {\n",
       "        vertical-align: top;\n",
       "    }\n",
       "\n",
       "    .dataframe thead th {\n",
       "        text-align: right;\n",
       "    }\n",
       "</style>\n",
       "<table border=\"1\" class=\"dataframe\">\n",
       "  <thead>\n",
       "    <tr style=\"text-align: right;\">\n",
       "      <th></th>\n",
       "      <th>reviewText</th>\n",
       "    </tr>\n",
       "  </thead>\n",
       "  <tbody>\n",
       "    <tr>\n",
       "      <th>0</th>\n",
       "      <td>I have read a lot of the reviews and spoken to...</td>\n",
       "    </tr>\n",
       "    <tr>\n",
       "      <th>1</th>\n",
       "      <td>Or maybe not.  The good news is that for less ...</td>\n",
       "    </tr>\n",
       "    <tr>\n",
       "      <th>2</th>\n",
       "      <td>Having previously owned the LG VX9800 (one of ...</td>\n",
       "    </tr>\n",
       "    <tr>\n",
       "      <th>3</th>\n",
       "      <td>3.5 stars.  I was very excited about the launc...</td>\n",
       "    </tr>\n",
       "    <tr>\n",
       "      <th>4</th>\n",
       "      <td>I want to warn IT professionals that Verizon W...</td>\n",
       "    </tr>\n",
       "    <tr>\n",
       "      <th>...</th>\n",
       "      <td>...</td>\n",
       "    </tr>\n",
       "    <tr>\n",
       "      <th>9661</th>\n",
       "      <td>No instructions.  Makes me question if is real...</td>\n",
       "    </tr>\n",
       "    <tr>\n",
       "      <th>9662</th>\n",
       "      <td>Finally using the phone.  Works great and was ...</td>\n",
       "    </tr>\n",
       "    <tr>\n",
       "      <th>9663</th>\n",
       "      <td>does funny things rarely . like FB will just r...</td>\n",
       "    </tr>\n",
       "    <tr>\n",
       "      <th>9664</th>\n",
       "      <td>This phone is no good!! Keeps freezing up. Eve...</td>\n",
       "    </tr>\n",
       "    <tr>\n",
       "      <th>9665</th>\n",
       "      <td>Work fantastic. I haven't had any issues with ...</td>\n",
       "    </tr>\n",
       "  </tbody>\n",
       "</table>\n",
       "<p>9666 rows × 1 columns</p>\n",
       "</div>"
      ],
      "text/plain": [
       "                                             reviewText\n",
       "0     I have read a lot of the reviews and spoken to...\n",
       "1     Or maybe not.  The good news is that for less ...\n",
       "2     Having previously owned the LG VX9800 (one of ...\n",
       "3     3.5 stars.  I was very excited about the launc...\n",
       "4     I want to warn IT professionals that Verizon W...\n",
       "...                                                 ...\n",
       "9661  No instructions.  Makes me question if is real...\n",
       "9662  Finally using the phone.  Works great and was ...\n",
       "9663  does funny things rarely . like FB will just r...\n",
       "9664  This phone is no good!! Keeps freezing up. Eve...\n",
       "9665  Work fantastic. I haven't had any issues with ...\n",
       "\n",
       "[9666 rows x 1 columns]"
      ]
     },
     "execution_count": 5,
     "metadata": {},
     "output_type": "execute_result"
    }
   ],
   "source": [
    "data"
   ]
  },
  {
   "cell_type": "code",
   "execution_count": 6,
   "id": "f6073e50-9732-4dcd-a397-dee62d93010e",
   "metadata": {},
   "outputs": [
    {
     "name": "stderr",
     "output_type": "stream",
     "text": [
      "Token indices sequence length is longer than the specified maximum sequence length for this model (801 > 512). Running this sequence through the model will result in indexing errors\n"
     ]
    }
   ],
   "source": [
    "data['#tokens'] = data['reviewText'].apply(lambda x: len((tokenizer.encode(x, return_tensors='pt'))[0]))"
   ]
  },
  {
   "cell_type": "code",
   "execution_count": 7,
   "id": "d3cd2d6e-0d22-4f33-ba01-aede2d473301",
   "metadata": {},
   "outputs": [
    {
     "data": {
      "text/html": [
       "<div>\n",
       "<style scoped>\n",
       "    .dataframe tbody tr th:only-of-type {\n",
       "        vertical-align: middle;\n",
       "    }\n",
       "\n",
       "    .dataframe tbody tr th {\n",
       "        vertical-align: top;\n",
       "    }\n",
       "\n",
       "    .dataframe thead th {\n",
       "        text-align: right;\n",
       "    }\n",
       "</style>\n",
       "<table border=\"1\" class=\"dataframe\">\n",
       "  <thead>\n",
       "    <tr style=\"text-align: right;\">\n",
       "      <th></th>\n",
       "      <th>reviewText</th>\n",
       "      <th>#tokens</th>\n",
       "    </tr>\n",
       "  </thead>\n",
       "  <tbody>\n",
       "    <tr>\n",
       "      <th>7920</th>\n",
       "      <td>WARNING: This is a LONG, complicated review. I...</td>\n",
       "      <td>7936</td>\n",
       "    </tr>\n",
       "    <tr>\n",
       "      <th>5420</th>\n",
       "      <td>When you open the box your first reaction is o...</td>\n",
       "      <td>5974</td>\n",
       "    </tr>\n",
       "    <tr>\n",
       "      <th>149</th>\n",
       "      <td>Beware that this is lengthy!  I figure that if...</td>\n",
       "      <td>4498</td>\n",
       "    </tr>\n",
       "    <tr>\n",
       "      <th>39</th>\n",
       "      <td>Beware that this is lengthy!  I figure that if...</td>\n",
       "      <td>4498</td>\n",
       "    </tr>\n",
       "    <tr>\n",
       "      <th>3879</th>\n",
       "      <td>I've been a long time Nexus brand user, owning...</td>\n",
       "      <td>4087</td>\n",
       "    </tr>\n",
       "    <tr>\n",
       "      <th>...</th>\n",
       "      <td>...</td>\n",
       "      <td>...</td>\n",
       "    </tr>\n",
       "    <tr>\n",
       "      <th>8930</th>\n",
       "      <td>This phone should terrify Apple and Samsung an...</td>\n",
       "      <td>500</td>\n",
       "    </tr>\n",
       "    <tr>\n",
       "      <th>4014</th>\n",
       "      <td>I got this through my carrier because my contr...</td>\n",
       "      <td>500</td>\n",
       "    </tr>\n",
       "    <tr>\n",
       "      <th>8813</th>\n",
       "      <td>UPDATE TO MY PREVIOUS 1 star review:\\n\\nSince ...</td>\n",
       "      <td>497</td>\n",
       "    </tr>\n",
       "    <tr>\n",
       "      <th>5577</th>\n",
       "      <td>I ordered this phone on March 27th from ProMob...</td>\n",
       "      <td>496</td>\n",
       "    </tr>\n",
       "    <tr>\n",
       "      <th>4039</th>\n",
       "      <td>I've had my Moto G for 8 months now, I bought ...</td>\n",
       "      <td>494</td>\n",
       "    </tr>\n",
       "  </tbody>\n",
       "</table>\n",
       "<p>600 rows × 2 columns</p>\n",
       "</div>"
      ],
      "text/plain": [
       "                                             reviewText  #tokens\n",
       "7920  WARNING: This is a LONG, complicated review. I...     7936\n",
       "5420  When you open the box your first reaction is o...     5974\n",
       "149   Beware that this is lengthy!  I figure that if...     4498\n",
       "39    Beware that this is lengthy!  I figure that if...     4498\n",
       "3879  I've been a long time Nexus brand user, owning...     4087\n",
       "...                                                 ...      ...\n",
       "8930  This phone should terrify Apple and Samsung an...      500\n",
       "4014  I got this through my carrier because my contr...      500\n",
       "8813  UPDATE TO MY PREVIOUS 1 star review:\\n\\nSince ...      497\n",
       "5577  I ordered this phone on March 27th from ProMob...      496\n",
       "4039  I've had my Moto G for 8 months now, I bought ...      494\n",
       "\n",
       "[600 rows x 2 columns]"
      ]
     },
     "execution_count": 7,
     "metadata": {},
     "output_type": "execute_result"
    }
   ],
   "source": [
    "data.sort_values(by='#tokens', ascending=False)[:600]"
   ]
  },
  {
   "cell_type": "markdown",
   "id": "45e0a7df-bc03-4242-847f-c2ccae4dc220",
   "metadata": {},
   "source": [
    "circa 10% delle review con #tokens > 512"
   ]
  },
  {
   "cell_type": "code",
   "execution_count": 29,
   "id": "a5372d5a-8f6f-48d1-b92b-46c693a743d2",
   "metadata": {},
   "outputs": [],
   "source": [
    "def get_input_ids_and_attention_mask_chunk(tokens):\n",
    "    \"\"\"\n",
    "    This function splits the input_ids and attention_mask into chunks of size 'chunksize'. \n",
    "    It also adds special tokens (101 for [CLS] and 102 for [SEP]) at the start and end of each chunk.\n",
    "    If the length of a chunk is less than 'chunksize', it pads the chunk with zeros at the end.\n",
    "    \n",
    "    Returns:\n",
    "        input_id_chunks (List[torch.Tensor]): List of chunked input_ids.\n",
    "        attention_mask_chunks (List[torch.Tensor]): List of chunked attention_masks.\n",
    "    \"\"\"\n",
    "    chunksize = 512\n",
    "    input_id_chunks = list(tokens['input_ids'][0].split(chunksize - 2))\n",
    "    attention_mask_chunks = list(tokens['attention_mask'][0].split(chunksize - 2))\n",
    "    \n",
    "    for i in range(len(input_id_chunks)):\n",
    "        input_id_chunks[i] = torch.cat([\n",
    "            torch.tensor([101], device=device), input_id_chunks[i], torch.tensor([102], device=device)\n",
    "        ])\n",
    "        \n",
    "        attention_mask_chunks[i] = torch.cat([\n",
    "            torch.tensor([1], device=device), attention_mask_chunks[i], torch.tensor([1],device=device)\n",
    "        ])\n",
    "        \n",
    "        pad_length = chunksize - input_id_chunks[i].shape[0]\n",
    "        \n",
    "        if pad_length > 0:\n",
    "            input_id_chunks[i] = torch.cat([\n",
    "                input_id_chunks[i], torch.tensor([0] * pad_length, device=device)\n",
    "            ])\n",
    "            attention_mask_chunks[i] = torch.cat([\n",
    "                attention_mask_chunks[i], torch.tensor([0] * pad_length, device=device)\n",
    "            ])\n",
    "            \n",
    "    return input_id_chunks, attention_mask_chunks "
   ]
  },
  {
   "cell_type": "code",
   "execution_count": 30,
   "id": "5e017626-6cf1-4323-a22a-30248443db54",
   "metadata": {},
   "outputs": [],
   "source": [
    "def sentiment_score(review):\n",
    "    tokens = tokenizer.encode_plus(review, add_special_tokens=False, return_tensors='pt').to(device)\n",
    "    input_id_chunks, attention_mask_chunks = get_input_ids_and_attention_mask_chunk(tokens)\n",
    "    input_ids = torch.stack(input_id_chunks)\n",
    "    attention_mask = torch.stack(attention_mask_chunks)\n",
    "    input_dict = {\n",
    "        'input_ids' : input_ids.long(),\n",
    "        'attention_mask' : attention_mask.int()\n",
    "    }\n",
    "    \n",
    "    outputs = model(**input_dict)\n",
    "    probabilities = torch.nn.functional.softmax(outputs[0], dim = -1)\n",
    "    mean_probabilities = probabilities.mean(dim = 0)\n",
    "    \n",
    "    return torch.argmax(mean_probabilities).item() + 1\n",
    "        "
   ]
  },
  {
   "cell_type": "code",
   "execution_count": 31,
   "id": "9d2d154c-1c0e-4941-87c4-0e7f5d728918",
   "metadata": {},
   "outputs": [],
   "source": [
    "from tqdm import tqdm\n",
    "tqdm.pandas()"
   ]
  },
  {
   "cell_type": "code",
   "execution_count": 32,
   "id": "48c27e8c-07dd-4347-b6c9-e434463dba20",
   "metadata": {},
   "outputs": [
    {
     "name": "stderr",
     "output_type": "stream",
     "text": [
      "  0%|                                                                                         | 0/9666 [00:00<?, ?it/s]C:\\Users\\Livio\\anaconda3\\envs\\nlp\\lib\\site-packages\\transformers\\models\\bert\\modeling_bert.py:435: UserWarning: 1Torch was not compiled with flash attention. (Triggered internally at C:\\cb\\pytorch_1000000000000\\work\\aten\\src\\ATen\\native\\transformers\\cuda\\sdp_utils.cpp:455.)\n",
      "  attn_output = torch.nn.functional.scaled_dot_product_attention(\n",
      "100%|██████████████████████████████████████████████████████████████████████████████| 9666/9666 [03:42<00:00, 43.46it/s]"
     ]
    },
    {
     "name": "stdout",
     "output_type": "stream",
     "text": [
      "CPU times: total: 3min 4s\n",
      "Wall time: 3min 42s\n"
     ]
    },
    {
     "name": "stderr",
     "output_type": "stream",
     "text": [
      "\n"
     ]
    }
   ],
   "source": [
    "%%time\n",
    "data['sentiment'] = data['reviewText'].progress_apply(sentiment_score)"
   ]
  },
  {
   "cell_type": "code",
   "execution_count": 33,
   "id": "06341924-7c37-4027-8e6e-e40b6ba32650",
   "metadata": {},
   "outputs": [
    {
     "data": {
      "text/html": [
       "<div>\n",
       "<style scoped>\n",
       "    .dataframe tbody tr th:only-of-type {\n",
       "        vertical-align: middle;\n",
       "    }\n",
       "\n",
       "    .dataframe tbody tr th {\n",
       "        vertical-align: top;\n",
       "    }\n",
       "\n",
       "    .dataframe thead th {\n",
       "        text-align: right;\n",
       "    }\n",
       "</style>\n",
       "<table border=\"1\" class=\"dataframe\">\n",
       "  <thead>\n",
       "    <tr style=\"text-align: right;\">\n",
       "      <th></th>\n",
       "      <th>reviewText</th>\n",
       "      <th>#tokens</th>\n",
       "      <th>sentiment</th>\n",
       "    </tr>\n",
       "  </thead>\n",
       "  <tbody>\n",
       "    <tr>\n",
       "      <th>0</th>\n",
       "      <td>I have read a lot of the reviews and spoken to...</td>\n",
       "      <td>801</td>\n",
       "      <td>4</td>\n",
       "    </tr>\n",
       "    <tr>\n",
       "      <th>1</th>\n",
       "      <td>Or maybe not.  The good news is that for less ...</td>\n",
       "      <td>557</td>\n",
       "      <td>3</td>\n",
       "    </tr>\n",
       "    <tr>\n",
       "      <th>2</th>\n",
       "      <td>Having previously owned the LG VX9800 (one of ...</td>\n",
       "      <td>483</td>\n",
       "      <td>4</td>\n",
       "    </tr>\n",
       "    <tr>\n",
       "      <th>3</th>\n",
       "      <td>3.5 stars.  I was very excited about the launc...</td>\n",
       "      <td>398</td>\n",
       "      <td>3</td>\n",
       "    </tr>\n",
       "    <tr>\n",
       "      <th>4</th>\n",
       "      <td>I want to warn IT professionals that Verizon W...</td>\n",
       "      <td>405</td>\n",
       "      <td>1</td>\n",
       "    </tr>\n",
       "    <tr>\n",
       "      <th>...</th>\n",
       "      <td>...</td>\n",
       "      <td>...</td>\n",
       "      <td>...</td>\n",
       "    </tr>\n",
       "    <tr>\n",
       "      <th>9661</th>\n",
       "      <td>No instructions.  Makes me question if is real...</td>\n",
       "      <td>84</td>\n",
       "      <td>1</td>\n",
       "    </tr>\n",
       "    <tr>\n",
       "      <th>9662</th>\n",
       "      <td>Finally using the phone.  Works great and was ...</td>\n",
       "      <td>22</td>\n",
       "      <td>5</td>\n",
       "    </tr>\n",
       "    <tr>\n",
       "      <th>9663</th>\n",
       "      <td>does funny things rarely . like FB will just r...</td>\n",
       "      <td>68</td>\n",
       "      <td>4</td>\n",
       "    </tr>\n",
       "    <tr>\n",
       "      <th>9664</th>\n",
       "      <td>This phone is no good!! Keeps freezing up. Eve...</td>\n",
       "      <td>29</td>\n",
       "      <td>1</td>\n",
       "    </tr>\n",
       "    <tr>\n",
       "      <th>9665</th>\n",
       "      <td>Work fantastic. I haven't had any issues with ...</td>\n",
       "      <td>63</td>\n",
       "      <td>4</td>\n",
       "    </tr>\n",
       "  </tbody>\n",
       "</table>\n",
       "<p>9666 rows × 3 columns</p>\n",
       "</div>"
      ],
      "text/plain": [
       "                                             reviewText  #tokens  sentiment\n",
       "0     I have read a lot of the reviews and spoken to...      801          4\n",
       "1     Or maybe not.  The good news is that for less ...      557          3\n",
       "2     Having previously owned the LG VX9800 (one of ...      483          4\n",
       "3     3.5 stars.  I was very excited about the launc...      398          3\n",
       "4     I want to warn IT professionals that Verizon W...      405          1\n",
       "...                                                 ...      ...        ...\n",
       "9661  No instructions.  Makes me question if is real...       84          1\n",
       "9662  Finally using the phone.  Works great and was ...       22          5\n",
       "9663  does funny things rarely . like FB will just r...       68          4\n",
       "9664  This phone is no good!! Keeps freezing up. Eve...       29          1\n",
       "9665  Work fantastic. I haven't had any issues with ...       63          4\n",
       "\n",
       "[9666 rows x 3 columns]"
      ]
     },
     "execution_count": 33,
     "metadata": {},
     "output_type": "execute_result"
    }
   ],
   "source": [
    "data"
   ]
  },
  {
   "cell_type": "code",
   "execution_count": 34,
   "id": "ea43ff65-e692-4430-adc4-e318fb7380e6",
   "metadata": {},
   "outputs": [
    {
     "data": {
      "text/plain": [
       "sentiment\n",
       "5    3952\n",
       "4    2275\n",
       "1    1449\n",
       "2    1023\n",
       "3     967\n",
       "Name: count, dtype: int64"
      ]
     },
     "execution_count": 34,
     "metadata": {},
     "output_type": "execute_result"
    }
   ],
   "source": [
    "data['sentiment'].value_counts()"
   ]
  },
  {
   "cell_type": "code",
   "execution_count": 36,
   "id": "8075b108-022a-42a8-af38-f0179183a942",
   "metadata": {},
   "outputs": [
    {
     "data": {
      "text/plain": [
       "'This phone is no good!! Keeps freezing up. Even after touching the power and home button at the same time!!'"
      ]
     },
     "execution_count": 36,
     "metadata": {},
     "output_type": "execute_result"
    }
   ],
   "source": [
    "data['reviewText'][9664]"
   ]
  },
  {
   "cell_type": "code",
   "execution_count": 47,
   "id": "650af4e8-0584-4928-bd27-db9b9ea355bc",
   "metadata": {},
   "outputs": [],
   "source": [
    "import nltk\n",
    "import re\n",
    "sent_tokenizer = nltk.data.load('tokenizers/punkt/english.pickle') #sentence_tokenizer"
   ]
  },
  {
   "cell_type": "code",
   "execution_count": 38,
   "id": "909371d4-c325-48cb-91c7-1a334ed1b5a0",
   "metadata": {},
   "outputs": [
    {
     "name": "stderr",
     "output_type": "stream",
     "text": [
      "[nltk_data] Downloading package punkt to\n",
      "[nltk_data]     C:\\Users\\Livio\\AppData\\Roaming\\nltk_data...\n",
      "[nltk_data]   Package punkt is already up-to-date!\n",
      "[nltk_data] Downloading package wordnet to\n",
      "[nltk_data]     C:\\Users\\Livio\\AppData\\Roaming\\nltk_data...\n",
      "[nltk_data]   Package wordnet is already up-to-date!\n",
      "[nltk_data] Downloading package stopwords to\n",
      "[nltk_data]     C:\\Users\\Livio\\AppData\\Roaming\\nltk_data...\n",
      "[nltk_data]   Package stopwords is already up-to-date!\n",
      "[nltk_data] Downloading package averaged_perceptron_tagger to\n",
      "[nltk_data]     C:\\Users\\Livio\\AppData\\Roaming\\nltk_data...\n",
      "[nltk_data]   Package averaged_perceptron_tagger is already up-to-\n",
      "[nltk_data]       date!\n",
      "[nltk_data] Downloading package tagsets to\n",
      "[nltk_data]     C:\\Users\\Livio\\AppData\\Roaming\\nltk_data...\n",
      "[nltk_data]   Package tagsets is already up-to-date!\n",
      "[nltk_data] Downloading package universal_tagset to\n",
      "[nltk_data]     C:\\Users\\Livio\\AppData\\Roaming\\nltk_data...\n",
      "[nltk_data]   Package universal_tagset is already up-to-date!\n"
     ]
    },
    {
     "data": {
      "text/plain": [
       "True"
      ]
     },
     "execution_count": 38,
     "metadata": {},
     "output_type": "execute_result"
    }
   ],
   "source": [
    "import nltk\n",
    "nltk.download('punkt')\n",
    "nltk.download('wordnet')\n",
    "nltk.download('stopwords')\n",
    "nltk.download('averaged_perceptron_tagger')\n",
    "nltk.download('tagsets')\n",
    "nltk.download('universal_tagset')"
   ]
  },
  {
   "cell_type": "code",
   "execution_count": 39,
   "id": "5c274df9-d4b9-40f5-8caa-a347c1f93d12",
   "metadata": {},
   "outputs": [],
   "source": [
    "from nltk.corpus import stopwords\n",
    "stop_words = stopwords.words('english')"
   ]
  },
  {
   "cell_type": "code",
   "execution_count": 40,
   "id": "c9f0bcff-7c73-41f7-af08-538f56a8b594",
   "metadata": {},
   "outputs": [],
   "source": [
    "from nltk.stem import WordNetLemmatizer\n",
    "lemmatizer = WordNetLemmatizer()"
   ]
  },
  {
   "cell_type": "code",
   "execution_count": 54,
   "id": "cdcd5219-8826-4be1-9139-831066c4fc4e",
   "metadata": {},
   "outputs": [],
   "source": [
    "# Funzione per splittare le recensioni in frasi\n",
    "def preprocess_analyze_sentences(review, sa):\n",
    "    sentences_sentiments = {}\n",
    "    sentences = sent_tokenizer.tokenize(review)\n",
    "    \n",
    "    for sentence in sentences:\n",
    "        afinn_scores = []\n",
    "        if(sa == 'afinn'):\n",
    "            sentence_clean = re.sub(r'[^\\w\\s]', '', sentence) #cleaning\n",
    "            # Tokenizza in parole\n",
    "            words = nltk.word_tokenize(sentence_clean)\n",
    "            # Rimuovi stopwords e applica lemmatization\n",
    "            preprocessed_words = [lemmatizer.lemmatize(word.lower()) for word in words if word not in stop_words]\n",
    "            # Ricostruisci la frase preprocessata come stringa\n",
    "            preprocessed_sentence = ' '.join(preprocessed_words)\n",
    "            # Calcola il sentiment\n",
    "            for word in preprocessed_words:\n",
    "                score = afinn.score(word)\n",
    "                if score != 0:\n",
    "                    afinn_scores.append(score)\n",
    "                    \n",
    "            sentences_sentiments[preprocessed_sentence] = normalize_RSS((sum(afinn_scores)/len(afinn_scores))) if len(afinn_scores) != 0 else normalize_RSS(0)\n",
    "        elif(sa == 'bert'):\n",
    "            sentences_sentiments[sentence] = sentiment_score(sentence)\n",
    "        \n",
    "        #sentences_sentiments.append((preprocessed_sentence, (sum(afinn_scores)/len(afinn_scores)) if len(afinn_scores) != 0 else 0))\n",
    "\n",
    "    return sentences_sentiments\n"
   ]
  },
  {
   "cell_type": "code",
   "execution_count": 43,
   "id": "25fad663-5e40-444f-a4c1-89cc4d2fc359",
   "metadata": {},
   "outputs": [],
   "source": [
    "# Funzione per combinare tutti i dizionari di sentences per ogni 'asin'\n",
    "def combine_sentences(sent_dicts):\n",
    "    combined_dict = {}\n",
    "    for d in sent_dicts:\n",
    "        combined_dict.update(d)\n",
    "    return combined_dict"
   ]
  },
  {
   "cell_type": "code",
   "execution_count": 55,
   "id": "525741ab-45f6-4782-99c6-9ab3e7bc0b37",
   "metadata": {
    "scrolled": true
   },
   "outputs": [
    {
     "data": {
      "text/plain": [
       "{'This cell phone has passed the proof of time under really really tough conditions.': 5,\n",
       " '.': 3,\n",
       " '.Great\\nthings: 1.': 5,\n",
       " 'Signal: Superb, I have had many cell phones before, including Nokia which I think has a great signal,\\nbut HTC TYTN II has much better signal.': 5,\n",
       " 'This one sustains signal in elevators while my Nokia can’t .': 5,\n",
       " '3.': 3,\n",
       " 'Screen: Touch screen works really well.': 5,\n",
       " 'Tilting (40 degrees) screen is nice and comfortable to work with when\\nyou are writing over the table.': 4,\n",
       " '4.': 4,\n",
       " 'Sliding QWERTY keyboard is the main reason to buy it for us who don’t like\\nfront keyboards, this makes the phone a little bulky but is great.': 4,\n",
       " '5.': 5,\n",
       " 'Plenty of buttons: Has plenty of buttons that\\nmake it easy to operate.': 4,\n",
       " 'The 360 degree 3 way jog wheel paired with OK button (left side) is fantastic, great option\\nto operate the phone while you are driving.': 5,\n",
       " '6.': 5,\n",
       " 'Setting e-mail/sms accounts was really easy and fast .': 5,\n",
       " '..Good\\nthings: 1.': 5,\n",
       " 'Processor: 400 MHz, works OK, it is not super-fast but certainly it is not slow.': 3,\n",
       " 'Phone turns on fast\\n(less than 1 minute to operate).': 2,\n",
       " '2.': 5,\n",
       " 'Platform: Windows mobile 6 is good.': 4,\n",
       " 'Until date I have had to re-start the\\nphone 3 or 4 times due to system fail (unable to detect end call), besides this it has worked well.': 4,\n",
       " 'Camera 3\\nmega-pixels: Has good definition, works precisely.': 5,\n",
       " 'HTC Home screen is nice, very interactive.': 4,\n",
       " 'Not so\\nGood: 1.': 2,\n",
       " 'Camera: Does not have flash, so don’t expect to get good inside pictures.': 3,\n",
       " 'Battery: Weak point, don’t\\nexpect your battery to last more than 24 hours, and much less if you use it heavily.': 2,\n",
       " 'Requires car charger, charge\\nthrough USB.': 4,\n",
       " 'Speaker: It is not so loud .': 3}"
      ]
     },
     "execution_count": 55,
     "metadata": {},
     "output_type": "execute_result"
    }
   ],
   "source": [
    "r = \"\"\"This cell phone has passed the proof of time under really really tough conditions. . . . .Great\n",
    "things: 1. Signal: Superb, I have had many cell phones before, including Nokia which I think has a great signal,\n",
    "but HTC TYTN II has much better signal. This one sustains signal in elevators while my Nokia can’t . . . . 3.\n",
    "Screen: Touch screen works really well. Tilting (40 degrees) screen is nice and comfortable to work with when\n",
    "you are writing over the table. 4. Sliding QWERTY keyboard is the main reason to buy it for us who don’t like\n",
    "front keyboards, this makes the phone a little bulky but is great. 5. Plenty of buttons: Has plenty of buttons that\n",
    "make it easy to operate. The 360 degree 3 way jog wheel paired with OK button (left side) is fantastic, great option\n",
    "to operate the phone while you are driving. 6. Setting e-mail/sms accounts was really easy and fast . . . ..Good\n",
    "things: 1. Processor: 400 MHz, works OK, it is not super-fast but certainly it is not slow. Phone turns on fast\n",
    "(less than 1 minute to operate). 2. Platform: Windows mobile 6 is good. Until date I have had to re-start the\n",
    "phone 3 or 4 times due to system fail (unable to detect end call), besides this it has worked well. 3. Camera 3\n",
    "mega-pixels: Has good definition, works precisely. 4. HTC Home screen is nice, very interactive. . . . Not so\n",
    "Good: 1. Camera: Does not have flash, so don’t expect to get good inside pictures. 2. Battery: Weak point, don’t\n",
    "expect your battery to last more than 24 hours, and much less if you use it heavily. Requires car charger, charge\n",
    "through USB. 3. Speaker: It is not so loud . . .\"\"\"\n",
    "\n",
    "preprocess_analyze_sentences(r, sa='bert')"
   ]
  },
  {
   "cell_type": "code",
   "execution_count": null,
   "id": "41da0792-4a4a-4454-8640-8225f945b956",
   "metadata": {},
   "outputs": [],
   "source": []
  }
 ],
 "metadata": {
  "kernelspec": {
   "display_name": "Python 3 (ipykernel)",
   "language": "python",
   "name": "python3"
  },
  "language_info": {
   "codemirror_mode": {
    "name": "ipython",
    "version": 3
   },
   "file_extension": ".py",
   "mimetype": "text/x-python",
   "name": "python",
   "nbconvert_exporter": "python",
   "pygments_lexer": "ipython3",
   "version": "3.9.19"
  }
 },
 "nbformat": 4,
 "nbformat_minor": 5
}
